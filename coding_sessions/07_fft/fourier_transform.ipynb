{
 "cells": [
  {
   "cell_type": "markdown",
   "metadata": {},
   "source": [
    "# Fourier Transform\n",
    "\n",
    "Author: Julian Lißner<br>\n",
    "For questions and feedback write a mail to: [lissner@mib.uni-stuttgart.de](mailto:lissner@mib.uni-stuttgart.de)"
   ]
  },
  {
   "cell_type": "code",
   "execution_count": null,
   "metadata": {
    "lines_to_next_cell": 0
   },
   "outputs": [],
   "source": [
    "import numpy as np\n",
    "import matplotlib.pyplot as plt\n",
    "import sys\n",
    "from numpy.fft import fft, ifft\n",
    "sys.path.extend( ['provided_functions', 'incomplete_functions', '../submodules'] )\n",
    "import fourier_implementation as four\n",
    "import result_check as check\n",
    "from general_functions import tic, toc"
   ]
  },
  {
   "cell_type": "markdown",
   "metadata": {},
   "source": [
    "## Discrete Fourier Transform (DFT)\n",
    "- the DFT is defined as <br>\n",
    "$$ X_n = \\sum\\limits_{k=0}^N x_k \\exp{ (-2\\jmath\\pi k\\, \\frac nN)} $$\n",
    "- $n$ loops of length $n$ $\\blacktriangleright \\mathcal O( n^2)$ \n",
    "\n",
    "---\n",
    "__Task:__ Implement the `DFT_brute_force` in the 'fourier_implementation.py' file."
   ]
  },
  {
   "cell_type": "code",
   "execution_count": null,
   "metadata": {},
   "outputs": [],
   "source": [
    "x = np.arange( 16) #used to catch syntax errors\n",
    "_ = four.DFT_brute_force( x)\n",
    "check.FT_implementation( four.DFT_brute_force)"
   ]
  },
  {
   "cell_type": "markdown",
   "metadata": {
    "lines_to_next_cell": 0
   },
   "source": [
    "- the DFT's awful computational complexity can be improved\n",
    "- $\\exp{ (-2\\jmath\\pi k\\,\\frac nN)} $ are called twiddle factors\n",
    "- twiddle factors can be preallocated as matrix <br>\n",
    "$\\quad \\blacktriangleright$ computation of DFT via matrix multiplication\n",
    "----\n",
    "__Task:__ Implement the `DFT` in the 'fourier_implementation.py' file."
   ]
  },
  {
   "cell_type": "code",
   "execution_count": null,
   "metadata": {
    "lines_to_next_cell": 2
   },
   "outputs": [],
   "source": [
    "_ = four.DFT( x)\n",
    "check.FT_implementation( four.DFT)"
   ]
  },
  {
   "cell_type": "markdown",
   "metadata": {},
   "source": [
    "## Fast Fourier Transform (FFT)\n",
    "\n",
    "- FFT can be viewed as a recursive split and computation of the DFT\n",
    "- the signal is recursively split up into odd and even parts<br>\n",
    "- size $n$ is halfed on each split\n",
    "- DFT $\\blacktriangleright \\mathcal O( n^2)\\blacktriangleright$ call DFT on small $n$ (multiple splits)\n",
    "- starting from lowest split level: recursively assemble even ($\\cdot^e$) and odd ($\\cdot^o$) parts <br>\n",
    "$$ [ \\hat x^e_k + \\omega_n^k\\, \\hat x^o_k\\qquad \\,\\hat x^e_k - \\omega_n^k\\, \\hat x^o_k] $$\n",
    "$$ \\text{with}\\quad \\omega_n^k = \\exp( -2\\jmath\\,\\pi \\,\\frac kN ) \\quad \\text{and}\\quad \\hat x^{\\ast} = \\mathcal F( x^{\\ast}) $$\n",
    "$\\quad\\blacktriangleright$ compute DFT only on lowest level, recursively assemble left and right part\n",
    "\n",
    "-------\n",
    "__Task:__ Implement the Cooley-Tuckey algorithm of the FFT. <br>\n",
    "OPTIONAL: if you are up for a challenge, implement the FFT without the function template."
   ]
  },
  {
   "cell_type": "code",
   "execution_count": null,
   "metadata": {},
   "outputs": [],
   "source": [
    "signal_length = 2**8\n",
    "DFT_length = 2**4\n",
    "signal = np.random.rand( signal_length) \n",
    "\n",
    "##OPTIONAL implementation without template\n",
    "#check.FT_implementation( four.FFT_naked)\n",
    "\n",
    "check.FT_implementation( four.FFT)"
   ]
  },
  {
   "cell_type": "markdown",
   "metadata": {},
   "source": [
    "- the FFT performance is dependent on the size of the DFT and the signal length\n",
    "- the numpy algorithm is significantly faster because other efficiency improvements have been implemented\n",
    "- the tips and tricks video will hightlight a few of those\n",
    "\n",
    "---\n",
    "__Task:__ Compare the performance of the FFT dependent on signal length and DFT size."
   ]
  },
  {
   "cell_type": "code",
   "execution_count": null,
   "metadata": {
    "lines_to_next_cell": 2
   },
   "outputs": [],
   "source": [
    "signal_length = [ 2**7, 2**8 ] #TODO adjust the length depending on your PC power\n",
    "DFT_size = [ 2, 4] #TODO tweak the parameter\n",
    "for length in signal_length:\n",
    "    signal = np.random.rand( signal_length) \n",
    "    for DFT in DFT_size:\n",
    "        tic_flag = 'performance check on signal length {} and DFT length {}'.format( legnth, DFT)\n",
    "        tic( tic_flag, silent=True)\n",
    "        result = #TODO #call your FFT function\n",
    "        toc( tic_flag, precision=6 )\n",
    "    tic( 'comparison to numpy fft, signal length:{}'.format( length), silent=True )\n",
    "    result = #TODO #call the numpy FFT function\n",
    "    toc( 'comparison to numpy fft, signal length:{}'.format( length), precision=6 ) "
   ]
  },
  {
   "cell_type": "markdown",
   "metadata": {},
   "source": [
    "------------\n",
    "-----------\n",
    "## Convolution Theorem\n",
    "- the convolution theorem states\n",
    "$$f \\ast g = \\mathcal F^{-1}\\big( \\, \\mathcal F(f) \\cdot \\mathcal F(g) \\,\\big)$$\n",
    "\n",
    "- that means algorithmically that a convolution of $\\mathcal O( n^2)$ can be reduced to $\\mathcal O( n\\,\\log n)$\n",
    "- $f$ and $g$ have to be of same length for the implementation of the pointwise product\n",
    "- keep in mind that the fourier transform induces periodicity\n",
    "- _padding_ can circumvent periodic boundary effects $\\blacktriangleright$ material of the next labs\n",
    "- the convolution of two real valued signals is real valued. Imaginary parts are due to numerical precision and have to be removed, i.e. with `convolution.real`.\n",
    "------\n",
    "__Task:__ Apply a kernel with constant values $\\frac1{\\rm len_{\\rm signal}}$ and the length of the signal via convolution to the signal."
   ]
  },
  {
   "cell_type": "code",
   "execution_count": null,
   "metadata": {},
   "outputs": [],
   "source": [
    "data =np.load( 'data/convolution_data.npz')\n",
    "signal = data[ 'arr_0']\n",
    "kernel = #TODO\n",
    "\n",
    "flattened_signal = #TODO #convolution of signal with kernel\n",
    "\n",
    "fig, axes = plt.subplots( 1, 2, figsize=(12, 8) )\n",
    "axes[0].plot( signal, color='red', lw=2.5, label='original signal' )\n",
    "axes[0].plot( kernel, color='black', lw=1.5, label='kernel' )\n",
    "axes[1].plot( signal, color='red', ls='--', alpha=0.5, lw=1, label='original signal')\n",
    "axes[1].plot( flattened_signal, color='red', lw=2.5, label='flattened signal')\n",
    "\n",
    "for ax in axes:\n",
    "    ax.legend()\n",
    "    ax.grid( ls=':', color='#AAAAAA')\n",
    "    ax.set_xlabel( 'x [-]')\n",
    "    ax.set_ylabel( 'f(x) [-]')"
   ]
  },
  {
   "cell_type": "markdown",
   "metadata": {},
   "source": [
    "- the convolution can be interpreted as:\n",
    "    - how much a kernel is locally represented in the signal\n",
    "    - placing a kernel on top of an excitiation given in the signal\n",
    "    - neighbourhood averaging operations\n",
    "- here the signal contains few entries (excitation) of different values (amplitues)\n",
    "- at each excitation the full kernel (called stencil here) is placed\n",
    "-------\n",
    "__Task:__ Create the array with activation to apply the stencil on."
   ]
  },
  {
   "cell_type": "code",
   "execution_count": null,
   "metadata": {
    "lines_to_next_cell": 0
   },
   "outputs": [],
   "source": [
    "stencil = data[ 'arr_1'] #Note that the shape of the stencil is about '16'  long\n",
    "signal = np.zeros( stencil.shape)\n",
    "print( 'length of the signal', len( signal))\n",
    "activations = [ 2, 1 #TODO \n",
    "activation_location= [30, 47, #TODO\n",
    "for i in range( len( activations)):\n",
    "    signal[ activation_location[i] ] = activations[i]\n",
    "\n",
    "activated_signal = #TODO #convolution of signal with stencil\n",
    "\n",
    "fig, axes = plt.subplots( 1, 2, figsize=(12, 6) )\n",
    "axes[0].plot( signal, color='red', lw=2, label='original signal' )\n",
    "axes[0].plot( stencil, color='black', lw=1, label='kernel' )\n",
    "axes[1].plot( stencil, color='red', ls='--', alpha=0.5, lw=2, label='original signal')\n",
    "axes[1].plot( activated_signal, color='blue', lw=2, label='flattened signal')\n",
    "\n",
    "for ax in axes:\n",
    "    ax.legend()\n",
    "    ax.grid( ls=':', color='#AAAAAA')\n",
    "    ax.set_xlabel( 'x [-]')\n",
    "    ax.set_ylabel( 'f(x) [-]')    \n"
   ]
  },
  {
   "cell_type": "markdown",
   "metadata": {},
   "source": [
    "- a kernel in fourier space has to be centered at the 0th index\n",
    "- the left half of the kernel should be placed at `kernel[-width//2:]` and the right half at `kernel[:width//2]`\n",
    "- non centered kernels will introduce a translational shift in the result\n"
   ]
  },
  {
   "cell_type": "markdown",
   "metadata": {},
   "source": [
    "----\n",
    "__Task:__ Create yourself a triangle stencil of length 30, periodically centered at the 0th index. Apply the stencil to the signal. Match your convolution the loaded result."
   ]
  },
  {
   "cell_type": "code",
   "execution_count": null,
   "metadata": {},
   "outputs": [],
   "source": [
    "signal = data['arr_2']\n",
    "result = data['arr_3']\n",
    "\n",
    "\n",
    "stencil = #TODO\n",
    "stencil#TODO #fill the triangle stencil\n",
    "#TODO...\n",
    "stencil =  #TODO #normalize the stencil s.t. sum( stencil) == 1\n",
    "\n",
    "convoluted = #TODO #convolution of signal and stencil\n",
    "\n",
    "\n",
    "fig, ax = plt.subplots( figsize=(7,6) )\n",
    "ax.plot( convoluted, color='red', lw=2, label='computed convolution')\n",
    "ax.plot( result, color='black', ls='--', lw=2, label='reference solution')\n",
    "\n",
    "ax.legend()\n",
    "ax.grid( ls=':', color='#AAAAAA')\n",
    "ax.set_xlabel( 'x [-]')\n",
    "ax.set_ylabel( 'f(x) [-]')    \n",
    "\n",
    "assert np.allclose( result, convoluted), 'results do not match, please match the dashed line in the plot'"
   ]
  }
 ],
 "metadata": {
  "kernelspec": {
   "display_name": "Python 3 (Spyder)",
   "language": "python3",
   "name": "python3"
  },
  "language_info": {
   "codemirror_mode": {
    "name": "ipython",
    "version": 3
   },
   "file_extension": ".py",
   "mimetype": "text/x-python",
   "name": "python",
   "nbconvert_exporter": "python",
   "pygments_lexer": "ipython3",
   "version": "3.7.8"
  }
 },
 "nbformat": 4,
 "nbformat_minor": 4
}
