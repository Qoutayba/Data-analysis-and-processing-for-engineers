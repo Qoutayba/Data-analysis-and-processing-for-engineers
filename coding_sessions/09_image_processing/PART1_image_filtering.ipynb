{
 "cells": [
  {
   "cell_type": "markdown",
   "metadata": {},
   "source": [
    "## Image Operations"
   ]
  },
  {
   "cell_type": "markdown",
   "metadata": {},
   "source": [
    "Author: Julian Lißner\n",
    "\n",
    "For questions and feedback write a mail to: [lissner@mib.uni-stuttgart.de](mailto:lissner@mib.uni-stuttgart.de)"
   ]
  },
  {
   "cell_type": "code",
   "execution_count": null,
   "metadata": {},
   "outputs": [],
   "source": [
    "import numpy as np\n",
    "import matplotlib.pyplot as plt\n",
    "import sys\n",
    "\n",
    "sys.path.append( 'provided_functions')\n",
    "import result_check as check\n",
    "import image_kernels as kernels\n",
    "\n",
    "sys.path.append( '../submodules')\n",
    "from general_functions import tic, toc\n",
    "\n",
    "sys.path.append( 'incomplete_functions' )\n",
    "import image_operations as operate"
   ]
  },
  {
   "cell_type": "markdown",
   "metadata": {},
   "source": [
    "- the presented image processing will mostly rely on the convolution operation\n",
    "- convolution is relevant for computer vision (c.f. convolutional neural networks)\n",
    "- no algorithm beats the human eye (yet) <br>\n"
   ]
  },
  {
   "cell_type": "markdown",
   "metadata": {},
   "source": [
    "consider an image $A \\in \\mathbb R ^{ M\\times N}$ and a kernel of odd size $k\\in \\mathbb R^{m\\times n}$. `//` denotes the floor division.\n",
    "- convolution shrinks the image by `p_x=n//2`and `p_y = m//2` in each direction\n",
    "- padding the image with zeros can circumvent undesired effects\n",
    "- after applying e.g. the convolution, the image needs to be un-padded\n",
    "\n",
    "<img src='figures/padding.png'>\n",
    "\n",
    "- the corners need to be filled with 0s as well (for zero padding)\n",
    "-------------------\n",
    "**Task:** Implement the functions `zero_padding` and `un_padding` in 'image_operations.py'.y:-y]"
   ]
  },
  {
   "cell_type": "code",
   "execution_count": null,
   "metadata": {},
   "outputs": [],
   "source": [
    "check.padding( operate.zero_padding, operate.un_pad)"
   ]
  },
  {
   "cell_type": "markdown",
   "metadata": {},
   "source": [
    "- consider the padded image $\\underline{\\underline A} \\in \\mathbb R^{(N + n/2)\\times (M+ m/2)}$ and the kernel $\\underline{\\underline k} \\in \\mathbb R^{n\\times m}$\n",
    "- for all admissible $i$ and $j$, the convolution is computed as\n",
    "$$C(i,j) = \\sum\\limits_{o=-\\frac n2}^{\\frac n2}\\,\\, \\sum\\limits_{p=-\\frac m2}^{\\frac m2} A(i+o,j+p) \\cdot k( \\frac n2-o, \\frac m2-p)$$\n",
    "- depending on the shape definition of $C$, the resulting $C$ might need to be un padded\n",
    "- there are multiple ways to correctly implement the convolution using the above formula\n",
    "---------------------\n",
    "**Task:** implement the 'sum_convolution' using the above equation in 'image_operations.py'."
   ]
  },
  {
   "cell_type": "code",
   "execution_count": null,
   "metadata": {},
   "outputs": [],
   "source": [
    "tic( 'sum convolution' )\n",
    "check.convolution( operate.sum_convolution)\n",
    "toc( 'sum convolution' )"
   ]
  },
  {
   "cell_type": "markdown",
   "metadata": {},
   "source": [
    "- convolution is has a computational effort of $\\mathcal O((NM)^2)$\n",
    "- using the FFT, the computational effort can be reduced to $\\mathcal O( NM \\log(MN) )$\n",
    "- following the convolution theorem and $\\mathcal F(A)$ denoting the FFT of $A$, we get\n",
    "\n",
    "$$ A \\ast k = \\mathcal F^{-1} \\big( \\mathcal F( A) \\cdot \\mathcal F(k) \\big)$$\n",
    "- pointwise multiplication is required $\\blacktriangleright A$ and $k$ need to be of same size\n",
    "-------------------\n",
    "**Task:** Implement the 'embed_kernel' function in 'image_operations.py'.\n",
    "(The result check will give you visual feedback)"
   ]
  },
  {
   "cell_type": "code",
   "execution_count": null,
   "metadata": {},
   "outputs": [],
   "source": [
    "check.embed_kernel( operate.embed_kernel)"
   ]
  },
  {
   "cell_type": "markdown",
   "metadata": {},
   "source": [
    "- recall the steps for convolution in Fourier space:\n",
    "    - image padding\n",
    "    - embed kernel\n",
    "    - compute convolution\n",
    "    - un pad image\n",
    "- note that this convolution is significantly faster than the sum convolution.\n",
    "-----------------\n",
    "**Task:** Write the function 'convolution' in 'image_operations.py' performing the convolution based on the convolution theorem."
   ]
  },
  {
   "cell_type": "code",
   "execution_count": null,
   "metadata": {},
   "outputs": [],
   "source": [
    "tic( 'fft convolution' )\n",
    "check.convolution( operate.convolution)\n",
    "toc( 'fft convolution' )"
   ]
  },
  {
   "cell_type": "markdown",
   "metadata": {},
   "source": [
    "- `sum_convolution` and `convolution` with padding yield the same result\n",
    "- they differ in numerical precision, see the plot for reference\n"
   ]
  },
  {
   "cell_type": "code",
   "execution_count": null,
   "metadata": {},
   "outputs": [],
   "source": [
    "images = np.load( 'data/periodic_images.npz')\n",
    "image = images[ 'arr_0']\n",
    "kernel = kernels.disc( 37)\n",
    "fft_conv = operate.convolution( image, kernel)\n",
    "sum_conv = operate.sum_convolution( image, kernel)\n",
    "\n",
    "fig, axes = plt.subplots( 1, 3, figsize=(18,6))\n",
    "axes[0].imshow( fft_conv)\n",
    "axes[1].imshow( sum_conv)\n",
    "difference = axes[2].imshow( fft_conv - sum_conv)\n",
    "\n",
    "plt.colorbar( difference, ax=axes[2])\n",
    "titles = ['fft convolution', 'sum convolution', 'difference' ]\n",
    "for num, ax in enumerate(axes):\n",
    "    ax.axis( 'off')\n",
    "    ax.set_title( titles[num] )"
   ]
  },
  {
   "cell_type": "markdown",
   "metadata": {},
   "source": [
    "- if no padding is deployed, they do yield different results\n",
    "- this is due to an inherent property of the FFT, which induces periodicity\n",
    "--------------\n",
    "**Task:** Implement the 'periodic_convolution' function in 'image_operations.py' using the FFT."
   ]
  },
  {
   "cell_type": "code",
   "execution_count": null,
   "metadata": {},
   "outputs": [],
   "source": [
    "check.periodic_convolution( operate.periodic_convolution)\n",
    "#check.periodic_convolution( operate.sum_convolution)\n",
    "## NOTE: you could also implement the periodic convolution as sum convolution using available functions"
   ]
  },
  {
   "cell_type": "markdown",
   "metadata": {},
   "source": [
    "-------------"
   ]
  },
  {
   "cell_type": "markdown",
   "metadata": {},
   "source": [
    "## Image Processing via Convolution\n",
    "\n",
    "- convolution can be used to show the match of a kernel with the image\n",
    "- the kernel is highlighting how much it matches in the image\n",
    "- if there is only one activation voxel, the highlight is the kernel\n",
    "- we will firstly use the convolution to create images by placing the kernel in the image\n"
   ]
  },
  {
   "cell_type": "code",
   "execution_count": null,
   "metadata": {},
   "outputs": [],
   "source": [
    "resolution = 256\n",
    "image = np.zeros( 2*[resolution])\n",
    "specified_activation = [ (25,25), (225, 50), (125, 100), (75, 175)]\n",
    "for position in specified_activation:\n",
    "    image[ position] = 1\n",
    "\n",
    "disc_kernel = kernels.disc(39, kind='ones')\n",
    "image = operate.convolution( image, disc_kernel)\n",
    "\n",
    "plt.imshow( image)\n",
    "plt.axis( 'off')"
   ]
  },
  {
   "cell_type": "markdown",
   "metadata": {
    "lines_to_next_cell": 0
   },
   "source": [
    "- different shapes can also be added by simple addition\n",
    "- this lays two images on top of each other (works here so perfectly because the 'blue' is all 0 )\n",
    "\n",
    "--------\n",
    "__Task:__ Add another shape of your liking into the image. Make sure that it is not significantly bigger than the circles."
   ]
  },
  {
   "cell_type": "code",
   "execution_count": null,
   "metadata": {},
   "outputs": [],
   "source": [
    "extra_kernel = kernels.#TODO kind='ones') #try help( kernels) or dir(kernels)\n",
    "additional_shapes = np.zeros( image.shape)\n",
    "specified_activation = [ (210, 230), (150, 200), (65, 75), (25,220) ]\n",
    "for position in specified_activation:\n",
    "    additional_shapes[ position] = 1\n",
    "    \n",
    "extra_shapes = #TODO\n",
    "image += #TODO\n",
    "plt.imshow( image)\n",
    "plt.axis( 'off')"
   ]
  },
  {
   "cell_type": "markdown",
   "metadata": {
    "lines_to_next_cell": 0
   },
   "source": [
    "- use the convolution to detect specified shapes\n",
    "- applying the convolution shows how much the kernel is represented in the image\n",
    "- convoluted binary images are generally no longer binary images\n",
    "\n",
    "-----------\n",
    "__Task:__ Apply the convolution and review the result. View the peak value in the convoluted image."
   ]
  },
  {
   "cell_type": "code",
   "execution_count": null,
   "metadata": {},
   "outputs": [],
   "source": [
    "convoluted = operate.convolution( image, disc_kernel)\n",
    "print( 'sum of the kernel:', disc_kernel.sum() )\n",
    "\n",
    "plt.imshow( convoluted)\n",
    "plt.axis( 'off')\n",
    "plt.colorbar()"
   ]
  },
  {
   "cell_type": "markdown",
   "metadata": {},
   "source": [
    "- peak activations are given where the image fully matches the kernel\n",
    "- peak values can be extracted using binary segmentation\n",
    "- segmentation is defined as: \n",
    "$$ A = \\begin{cases}  1 & A \\geq \\theta \\\\ 0 & else \\end{cases}$$\n",
    "\n",
    "----------\n",
    "**Task:** Implement the 'segmentation' function in in 'image_operations.py'."
   ]
  },
  {
   "cell_type": "code",
   "execution_count": null,
   "metadata": {},
   "outputs": [],
   "source": [
    "check.segmentation( operate.segmentation)"
   ]
  },
  {
   "cell_type": "markdown",
   "metadata": {},
   "source": [
    "- previously implemented functions and applied steps can now be used to detect the circles \n",
    "- segmentation is used to find locations where the searched shape is (fully) present\n",
    "- after a convolution of the found locations with the shape kernel the shape is drawn again\n",
    "- **Note** if the searched shape is contained within another bigger shape, this simple approach does not work<br>\n",
    "(e.g. searched shape: small circles, other shape: bigger rectangles)\n",
    "--------- \n",
    "__Task:__ Use the previously introduced methods to find all vertical rectangles in the given image."
   ]
  },
  {
   "cell_type": "code",
   "execution_count": null,
   "metadata": {},
   "outputs": [],
   "source": [
    "fig, axes = plt.subplots( 2,2, figsize=(12,12))\n",
    "image = np.load( 'data/detect_shapes.npz')['arr_0']\n",
    "\n",
    "#searched_shape = kernels.#TODO\n",
    "#kernel_match = #TODO\n",
    "\n",
    "#found_shapes = operate.convolution( #TODO, searched_shape) #redraw the locations where the shape was found\n",
    "#found_shapes = np.minimum( found_shapes, 1)\n",
    "\n",
    "## the plotting template might help you find the solution, you can plot your owns steps for debugging\n",
    "axes[0,0].imshow( image)\n",
    "#axes[0,1].imshow( kernel_match) \n",
    "#axes[#TODO....\n",
    "#axes[1,1].imshow( found_shapes + image) \n",
    "\n",
    "titles = [ 'Original image', 'Intermediate step 1', 'Intermediate step 2',  'Detected shapes' ]\n",
    "for ax in axes.flatten():\n",
    "    ax.set_title( titles.pop(0))"
   ]
  },
  {
   "cell_type": "code",
   "execution_count": null,
   "metadata": {},
   "outputs": [],
   "source": []
  }
 ],
 "metadata": {
  "kernelspec": {
   "display_name": "Python 3 (Spyder)",
   "language": "python3",
   "name": "python3"
  },
  "language_info": {
   "codemirror_mode": {
    "name": "ipython",
    "version": 3
   },
   "file_extension": ".py",
   "mimetype": "text/x-python",
   "name": "python",
   "nbconvert_exporter": "python",
   "pygments_lexer": "ipython3",
   "version": "3.7.8"
  }
 },
 "nbformat": 4,
 "nbformat_minor": 4
}
