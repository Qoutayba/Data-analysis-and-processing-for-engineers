{
 "cells": [
  {
   "cell_type": "markdown",
   "metadata": {},
   "source": [
    "# Image filtering\n",
    "Author: Julian Lißner\n",
    "\n",
    "For questions and feedback write a mail to: [lissner@mib.uni-stuttgart.de](mailto:lissner@mib.uni-stuttgart.de)"
   ]
  },
  {
   "cell_type": "code",
   "execution_count": null,
   "metadata": {
    "lines_to_next_cell": 2
   },
   "outputs": [],
   "source": [
    "import numpy as np\n",
    "import matplotlib.pyplot as plt\n",
    "import sys\n",
    "\n",
    "sys.path.append( 'provided_functions')\n",
    "import result_check as check\n",
    "import image_kernels as kernels\n",
    "\n",
    "sys.path.append( 'incomplete_functions' )\n",
    "import image_operations as operate\n",
    "import binary_image_processing as binary\n",
    "import image_conversion as convert"
   ]
  },
  {
   "cell_type": "code",
   "execution_count": null,
   "metadata": {},
   "outputs": [],
   "source": [
    "def display( *images):\n",
    "    \"\"\"This function is defined for convenience and better readability of further blocks \"\"\"\n",
    "    n_images = len(images)\n",
    "    if n_images > 3:\n",
    "        n_row = 2\n",
    "        n_col = np.ceil( n_images/2).astype(int)\n",
    "    else:\n",
    "        n_row = 1\n",
    "        n_col = n_images\n",
    "    fig, axes = plt.subplots( n_row, n_col, figsize=(n_col*6, n_row*6) )\n",
    "    axes = axes.flatten()\n",
    "    for i in range( n_images):\n",
    "        axes[i].imshow( images[i], cmap='gray' )\n",
    "\n",
    "    for ax in axes:\n",
    "        ax.axis('off')\n",
    "    fig.tight_layout()\n",
    "    return fig, axes"
   ]
  },
  {
   "cell_type": "markdown",
   "metadata": {
    "lines_to_next_cell": 0
   },
   "source": [
    "- different kernel highlight different features\n",
    "- low pass filter $\\blacktriangleright$ retain low frequencies $\\blacktriangleright$ smoothing of image (e.g. gaussian kernel)\n",
    "- high pass filter $\\blacktriangleright$ retain high frequencies $\\blacktriangleright$ sharpen image (e.g. laplacian kernel)\n",
    "- previously learned moving average (signal denoising) $\\blacktriangleright$ low pass filter\n",
    "\n",
    "## Edge detection\n",
    "- an edge is defined as a large gradient between neighbouring pixels\n",
    "- a kernel to detect these edges inspects neighbouring pixels\n",
    "    - if neighbouring pixels are identical $\\blacktriangleright$ no gradient $\\blacktriangleright$ 0 activation of the kernel\n",
    "    - if neighbouring pixels are different $\\blacktriangleright$ gradient $\\blacktriangleright$ activation of the kernel\n",
    "- segmentation after filtering usually improves results\n",
    "\n",
    "------\n",
    "__Task:__ Create a kernel to find local vertical edges."
   ]
  },
  {
   "cell_type": "code",
   "execution_count": null,
   "metadata": {},
   "outputs": [],
   "source": [
    "image = 255-convert.load_grayscale( 'figures/house.jpg' )\n",
    "\n",
    "edge_kernel = np.array( [[ #TODO,#TODO,#TODO]] ) #choose the values 0, 1 and -1\n",
    "edges = operate.convolution( image, edge_kernel)\n",
    "\n",
    "display( image, edges)"
   ]
  },
  {
   "cell_type": "markdown",
   "metadata": {},
   "source": [
    "- note that depending on the orientation of the kernel the algorithm differs between 'positive' and 'negative' edges\n",
    "- to highlight all edges, the absolute value of the image has to be taken\n",
    "- __NOTE:__ for a nice highlight of the edges, the segmentation_threshold needs to be well tuned\n",
    "- if there is too much 'noise' in the highlighted edges, the segmentation limit is too low\n",
    "-----------\n",
    "__Task:__ Apply binary segmentation to show _all_ major vertical edges, review the difference."
   ]
  },
  {
   "cell_type": "code",
   "execution_count": null,
   "metadata": {},
   "outputs": [],
   "source": [
    "all_edges =  #TODO #make 'negative' edges equally important\n",
    "\n",
    "segmentation_threshold = #TODO\n",
    "edge_highlight = #TODO( all_edges, #TODO) #segment the image with a good threshold\n",
    "positive_edges = #TODO( edges, #TODO)\n",
    "\n",
    "display( image, edges, edge_highlight, positive_edges )\n",
    "vertical_edges = edge_highlight.copy()"
   ]
  },
  {
   "cell_type": "markdown",
   "metadata": {
    "lines_to_next_cell": 0
   },
   "source": [
    "- the steps to detect any directional edges are always equivalent \n",
    "- the major difference is the kernel and the segmentation threshold\n",
    "----\n",
    "__Task:__ Define and write yourself a function in 'image_operations.py' to execute the edge detection steps. <br> Do not forget to write a documentation for it!"
   ]
  },
  {
   "cell_type": "code",
   "execution_count": null,
   "metadata": {},
   "outputs": [],
   "source": [
    "horizontal_edges = #TODO( image, edge_kernel, segmentation_threshold) #call your function\n",
    "display( image, horizontal_edges)"
   ]
  },
  {
   "cell_type": "markdown",
   "metadata": {},
   "source": [
    "---------\n",
    "__Task:__ Highlight all major vertical edges.\n"
   ]
  },
  {
   "cell_type": "code",
   "execution_count": null,
   "metadata": {
    "lines_to_next_cell": 0
   },
   "outputs": [],
   "source": [
    "vertical_kernel = #TODO\n",
    "vertical_edges = #TODO\n",
    "display( image, horizontal_edges, vertical_edges)"
   ]
  },
  {
   "cell_type": "markdown",
   "metadata": {
    "lines_to_next_cell": 0
   },
   "source": [
    "## Sobel operators\n",
    "\n",
    "- there are generally better ways to compute image gradients than a 1d vector\n",
    "- the Sobel operator can be used to generally find good  gradients in $x$ and $y$ direction\n",
    "- it is defined as\n",
    "$$ H_H = \\begin{bmatrix} -1 & 0 & 1 \\\\ -2 & 0 & 2 \\\\ -1 & 0 & 1 \\end{bmatrix} $$\n",
    "$ H_V = H_H^{T} \\qquad \\quad \\text{with} \\cdot_V, \\cdot_H, \\text{ vertical/horizontal}  $\n",
    "- if you inspect the kernel very closely, you will see that the sobol filter smoothes perpendicular to the edge detection direction\n",
    "----- \n",
    "__Task:__ Apply both Sobel operators and compare it to the previous results. Note that the segmentation limit has to be chosen differently."
   ]
  },
  {
   "cell_type": "code",
   "execution_count": null,
   "metadata": {
    "lines_to_next_cell": 2
   },
   "outputs": [],
   "source": [
    "vertical_filter =  #TODO\n",
    "vertical_filter[ #TODO....\n",
    "horizontal_filter = #TODO vertical_filter\n",
    "\n",
    "sobel_ver = operate.#TODO #edge detection\n",
    "sobel_hor = operate.#TODO #edge detection\n",
    "\n",
    "fig, axes = display( vertical_edges, sobel_ver, horizontal_edges, sobel_hor)\n",
    "for ax in axes[[0,2]]:\n",
    "    ax.set_title( 'simple kernel')\n",
    "for ax in axes[[1,3]]:\n",
    "    ax.set_title( 'sobel operator')"
   ]
  },
  {
   "cell_type": "markdown",
   "metadata": {},
   "source": [
    "## Laplace filter\n",
    "- the Laplace filter can be used to highlight all contours\n",
    "- it is able to find edges in both horizontal and vertical direction\n",
    "- the laplace filter can be defined densely, considering values in a 45° angle as well\n",
    "$$ F_d = \\frac18 \\begin{bmatrix} -1 & -1 & -1 \\\\ -1 & 8 & -1 \\\\ -1 & -1 & -1 \\end{bmatrix} $$\n",
    "- or it can be defined as a cross, considering only direct $x$ and $y$ neighbours\n",
    "$$ F_c = \\frac14 \\begin{bmatrix} 0 & -1 & 0 \\\\ -1 & 4 & -1 \\\\ 0 & -1 & 0 \\end{bmatrix} $$\n",
    "- __Note__: If you see a black image in the Laplace-edges, turn down the segmentation threshold\n",
    "----\n",
    "__Task:__ Define the Laplacian kernel and apply it. Compare the results to the Sobel filter."
   ]
  },
  {
   "cell_type": "code",
   "execution_count": null,
   "metadata": {
    "lines_to_next_cell": 0
   },
   "outputs": [],
   "source": [
    "laplacian = #TODO...\n",
    "laplacian[ #TODO ...\n",
    "\n",
    "unidirectional_edges =  #TODO\n",
    "\n",
    "fig, axes = display( sobel_hor, sobel_ver,\n",
    "            sobel_hor+ sobel_ver, unidirectional_edges)\n",
    "\n",
    "fig.suptitle( 'detected edges in the image', y=0.95 )\n",
    "titles = [ 'vertical', 'horizontal', 'horizontal+vertical', 'laplace' ]\n",
    "for ax in axes:\n",
    "    ax.set_title( titles.pop(0) )\n",
    "    ax.axis( 'off' )"
   ]
  },
  {
   "cell_type": "markdown",
   "metadata": {
    "lines_to_next_cell": 0
   },
   "source": [
    "## RGB images\n",
    "- RGB images are images with three channels, i.e. $A \\in \\mathbb R^{x \\times y \\times 3}$\n",
    "- each color channel can have different highlights/contours\n",
    "- for edge detection etc. it is generally advisable to work with the converted grayscale image\n",
    "\n",
    "---\n",
    "__Task:__ Apply edge detection on all three color channels _and_ on the grayscale image.<br>\n",
    "Try out different filters for different results."
   ]
  },
  {
   "cell_type": "code",
   "execution_count": null,
   "metadata": {
    "lines_to_next_cell": 2
   },
   "outputs": [],
   "source": [
    "image = convert.load_rgb( 'figures/mandrill.png' )\n",
    "grayscale_image = convert.rgb_to_grayscale( image)\n",
    "\n",
    "# 3 channels, R(ed), G(reen), B(lue)\n",
    "# you might need to change the function, depending the name you used\n",
    "threshold = 40\n",
    "red_edges = operate.edge_detection( image[:,:,0], horizontal_filter, threshold )\n",
    "green_edges = #TODO\n",
    "blue_edges = #TODO\n",
    "\n",
    "gray_edges = operate.edge_detection( grayscale_image, horizontal_filter, threshold )\n",
    "\n",
    "fig, axes = display( image, grayscale_image, gray_edges, \n",
    "        red_edges, green_edges, blue_edges) \n",
    "axes[0].imshow( image)\n",
    "titles = [ 'red channel', 'green channel', 'blue channel' ]\n",
    "for ax in axes[-3:]:\n",
    "    ax.set_title( titles.pop( 0) )"
   ]
  },
  {
   "cell_type": "markdown",
   "metadata": {
    "lines_to_next_cell": 0
   },
   "source": [
    "## Reducing unwanted noise\n",
    "- noise reduction is a multi step process\n",
    "- noise usually has high frequency $\\blacktriangleright$ low pass to reduce it\n",
    "- features are smeared out and can be enhanced again with a high pass filter\n",
    "- denoising is made up of the following steps:\n",
    "    - smoothing with e.g. a guassian kernel\n",
    "    - edge detection/highlighting mask (computed on the smoothed image), e.g. with a laplacian kernel\n",
    "    - enhancing of features by applying the mask\n",
    "\n",
    "-----------\n",
    "__Task:__ Reduce the noise in the given RGB image by applying the operations to each channel. Makre sure that the smoothing kernel is not too big."
   ]
  },
  {
   "cell_type": "code",
   "execution_count": null,
   "metadata": {
    "lines_to_next_cell": 0
   },
   "outputs": [],
   "source": [
    "image = 255- convert.load_rgb( 'figures/lena.jpeg')\n",
    "original_image = image.copy()\n",
    "smoothed_image = np.zeros( image.shape) #holds the smoothed color channels\n",
    "refined_image =  np.zeros( image.shape) #holds the fully processed image\n",
    "\n",
    "smoothing_window = #TODO #adjust this parameter to get a nice result\n",
    "gaussian = kernels.disc( smoothing_window, kind='gauss')\n",
    "laplacian = kernels.laplace()\n",
    "print(gaussian.sum())\n",
    "\n",
    "for i in range( #TODO #loop through all channels\n",
    "    smoothed_image[..., i] =  #TODO #smoothing/blurring\n",
    "    refined_image[..., i]  = #TODO #highlight/contour detection\n",
    "\n",
    "refined_image += smoothed_image #have the highlight be applied over the smoothed image\n",
    "\n",
    "\n",
    "## plotting of results\n",
    "fig, axes = plt.subplots( 1, 3, figsize=(15,5) )\n",
    "axes[0].imshow( original_image)\n",
    "axes[1].imshow( smoothed_image.astype(int))\n",
    "axes[2].imshow( refined_image.astype(int))\n",
    "\n",
    "titles = [ 'noisy image', 'smoothed image', 'refined image' ]\n",
    "for ax in axes:\n",
    "    ax.axis( 'off' )\n",
    "    ax.set_title( titles.pop( 0 ) )\n"
   ]
  },
  {
   "cell_type": "markdown",
   "metadata": {},
   "source": [
    "- even if the image does not look much different to us, for the machine it does\n",
    "- when computing edges (below), you will see a major difference"
   ]
  },
  {
   "cell_type": "markdown",
   "metadata": {
    "lines_to_next_cell": 0
   },
   "source": [
    "## Computational tweak\n",
    "\n",
    "- a kernel can be defined to smooth and detect edges in one convolution\n",
    "- instead of a convolution of the image with both kernels, the kernels can be pre-convoluted\n",
    "- thus we can save one costly computation of the image with the kernel in this example\n",
    "- the kernels could be precomputed and stored in fourier space for more computational savings\n",
    "----\n",
    "__Task:__ Define yourself the smooth gradient kernel and apply it, compare it to a noisy gradient computation."
   ]
  },
  {
   "cell_type": "code",
   "execution_count": null,
   "metadata": {},
   "outputs": [],
   "source": [
    "image = convert.load_grayscale( 'figures/lena.jpeg')\n",
    "laplacian = kernels.laplace()\n",
    "gaussian = kernels.disc( #TODO, kind='gauss') \n",
    "kernel = #TODO #smooth gradient kernel\n",
    "\n",
    "noisy_gradient  = operate.edge_detection( image, laplacian, #TODO)\n",
    "smooth_gradient = #TODO #apply the previous edge detection function\n",
    "\n",
    "\n",
    "display( original_image, refined_image.astype(int), noisy_gradient, smooth_gradient)\n"
   ]
  },
  {
   "cell_type": "markdown",
   "metadata": {},
   "source": [
    "note how all the 'wrongly detected edges' (salt noise) are removed by smoothing, even though the images above look barely different to us humans."
   ]
  },
  {
   "cell_type": "code",
   "execution_count": null,
   "metadata": {},
   "outputs": [],
   "source": []
  }
 ],
 "metadata": {
  "kernelspec": {
   "display_name": "Python 3 (Spyder)",
   "language": "python3",
   "name": "python3"
  },
  "language_info": {
   "codemirror_mode": {
    "name": "ipython",
    "version": 3
   },
   "file_extension": ".py",
   "mimetype": "text/x-python",
   "name": "python",
   "nbconvert_exporter": "python",
   "pygments_lexer": "ipython3",
   "version": "3.8.3"
  }
 },
 "nbformat": 4,
 "nbformat_minor": 4
}
