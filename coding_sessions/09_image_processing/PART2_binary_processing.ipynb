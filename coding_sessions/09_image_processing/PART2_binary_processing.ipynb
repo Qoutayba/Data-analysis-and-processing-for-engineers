{
 "cells": [
  {
   "cell_type": "markdown",
   "metadata": {},
   "source": [
    "# Binary image processing\n",
    "\n",
    "Author: Julian Lißner\n",
    "\n",
    "For questions and feedback write a mail to: [lissner@mib.uni-stuttgart.de](mailto:lissner@mib.uni-stuttgart.de)\n"
   ]
  },
  {
   "cell_type": "code",
   "execution_count": null,
   "metadata": {},
   "outputs": [],
   "source": [
    "import matplotlib.pyplot as plt\n",
    "import numpy as np\n",
    "import sys\n",
    "\n",
    "sys.path.extend( ['provided_functions', 'incomplete_functions' ] )\n",
    "import image_operations as operate\n",
    "import binary_image_processing as binary\n",
    "import result_check as check\n",
    "import image_kernels as kernels\n",
    "from image_conversion import load_grayscale"
   ]
  },
  {
   "cell_type": "markdown",
   "metadata": {},
   "source": [
    "## Erosion and dilation\n",
    "- have a straight forward implementation for binary images (special case!)\n",
    "- dilation places the kernel as a stencil on every foreground pixel it finds <br>\n",
    "$\\quad\\blacktriangleright$ every value larger 0 is kept after convolution\n",
    "- erosion erodes every foreground pixel but those where the kernel fully fits <br>\n",
    "$\\quad\\blacktriangleright$ every value which is not the sum of the kernel is omitted\n",
    "- erosion is the counterpart to dilation, but they are not invertible\n",
    "- both dilation and erosion can be implemented with a convolution followed by a segmentation\n",
    "- the major difference is the segmentation threshold\n",
    "\n",
    "-------\n",
    "__Task:__ Implement the `erosion` and `dilation` function in 'binary_image_processing.py'."
   ]
  },
  {
   "cell_type": "code",
   "execution_count": null,
   "metadata": {},
   "outputs": [],
   "source": [
    "check.erosion_dilation( binary.erosion)"
   ]
  },
  {
   "cell_type": "code",
   "execution_count": null,
   "metadata": {},
   "outputs": [],
   "source": [
    "check.erosion_dilation( binary.dilation)"
   ]
  },
  {
   "cell_type": "code",
   "execution_count": null,
   "metadata": {},
   "outputs": [],
   "source": [
    "image = np.load( 'data/convolution_check.npz')['arr_0']\n",
    "kernel = kernels.disc( 15)\n",
    "dilated = binary.erosion( image, kernel)\n",
    "eroded = binary.dilation( image, kernel)\n",
    "recovered = binary.dilation( eroded, kernel) \n",
    "\n",
    "fig, axes = plt.subplots( 2,2, figsize=(12,12))\n",
    "axes = axes.flatten()\n",
    "axes[0].imshow( image )\n",
    "axes[1].imshow( dilated )\n",
    "axes[2].imshow( eroded )\n",
    "axes[3].imshow( recovered)\n",
    "\n",
    "titles =[ 'original_image', 'dilation', 'erosion', 'recovered image']\n",
    "for ax in axes:\n",
    "    ax.set_title( titles.pop(0))\n",
    "    ax.axis( 'off')"
   ]
  },
  {
   "cell_type": "markdown",
   "metadata": {},
   "source": [
    "- erosion is the counterpart to dilation\n",
    "- neither erosion, nor dilation are invertible\n",
    "- the above deployed process is called opening\n",
    "- closing is first a dilation, followed by erosion <br>\n",
    "$\\quad \\blacktriangleright$ small gaps in the foreground are _closed_\n",
    "- opening is first an erosion, followed by a dilation <br>\n",
    "$\\quad \\blacktriangleright$ background is _opened up_\n",
    "-----\n",
    "__Task:__ Implement the `opening` and `closing` functions in 'binary_image_processing.py'."
   ]
  },
  {
   "cell_type": "code",
   "execution_count": null,
   "metadata": {},
   "outputs": [],
   "source": [
    "if not np.allclose( recovered, binary.opening(image, kernel) ):\n",
    "    raise Exception( 'opening most likely wrongly implemented')"
   ]
  },
  {
   "cell_type": "markdown",
   "metadata": {},
   "source": [
    "- opening and closing can be used to remove salt and pepper noise\n",
    "- Salt noise: 'foreground pixels' where there should be background\n",
    "- pepper noise: 'background pixels where they should be foreground\n",
    "- a combination of salt and pepper noise requires multiple processing steps\n",
    "\n",
    "------\n",
    "__Task:__ Deploy a chain of opening and closing with the correct kernels to restore the rectangle in the image."
   ]
  },
  {
   "cell_type": "code",
   "execution_count": null,
   "metadata": {},
   "outputs": [],
   "source": [
    "images = list( np.load( 'data/opening_closing_images.npz').values() )\n",
    "#images[0] -> original image\n",
    "glitched_image = images[3]\n",
    "\n",
    "#kernel = kernels.#TODO\n",
    "recovered_image = glitched_image #TODO\n",
    "#TODO....\n",
    "\n",
    "fig, axes = plt.subplots( 1,4, figsize=(15,6) )\n",
    "axes[0].imshow( images[0])\n",
    "axes[1].imshow( glitched_image)\n",
    "axes[2].imshow( recovered_image) \n",
    "axes[3].imshow( np.roll( images[0], [-2,-2], axis=[0,1]) - recovered_image) #images[0] does not exactly match the solution\n",
    "titles = ['desired image', 'glitched image', 'recovered image', 'deviation']\n",
    "for ax in axes:\n",
    "    ax.set_title( titles.pop(0))\n",
    "for ax in axes[1:]:\n",
    "    ax.axis( 'off')\n"
   ]
  },
  {
   "cell_type": "markdown",
   "metadata": {},
   "source": [
    "------------\n",
    "-----------\n",
    "## Restoring ancient texts\n",
    "- before doing involved image processing, the image has to be cropped\n",
    "- cropping of images can be easily done in python with images being represented as arrays $\\blacktriangleright$ slicing\n"
   ]
  },
  {
   "cell_type": "code",
   "execution_count": null,
   "metadata": {},
   "outputs": [],
   "source": [
    "## Function definition for better readable code\n",
    "def show_images( image_1, image_2, axis='on'):\n",
    "    \"\"\"\n",
    "    This is a minor function for pure convenience in the lower code blocks\n",
    "    \"\"\"\n",
    "    fig, axes = plt.subplots( 1,2, figsize=(12,12) )\n",
    "    axes[0].imshow( image_1, cmap='gray' )\n",
    "    axes[1].imshow( image_2, cmap='gray')\n",
    "    \n",
    "    titles = [ 'Previous step', 'Current step']\n",
    "    for ax in axes:\n",
    "        ax.set_title( titles.pop(0 ))\n",
    "        ax.axis( axis)\n",
    "    return fig, axes\n"
   ]
  },
  {
   "cell_type": "markdown",
   "metadata": {},
   "source": [
    "(Interactive plotting has been moved to a python script because it functions differently in jupyter notebooks for different workstations)\n",
    "\n",
    "---------\n",
    "\n",
    "__Task:__ Crop the image to ommit the (non paper) background.<br>\n",
    "Optional: Write an interactive plot function for instantaneous visual feedback. A template is given in 'provided_functions/interactive_plot_example.py'."
   ]
  },
  {
   "cell_type": "code",
   "execution_count": null,
   "metadata": {},
   "outputs": [],
   "source": [
    "image_orig = 255-load_grayscale( 'figures/kassenzettel.jpeg' )\n",
    "\n",
    "image = image_orig#[ #TODO] # Hint: Crop the image here by trial-and-visualization \n",
    "               \n",
    "show_images( image_orig, image )\n",
    "cropped_image = image.copy() #used for further (repeatable) processing"
   ]
  },
  {
   "cell_type": "markdown",
   "metadata": {},
   "source": [
    "- grayscale images are usually given with color values from 0-255, i.e. [0, 1, 2, ...255]\n",
    "- binary segmentation segments the image to two values, black and white\n",
    "- for e.g. old text it is usually beneficial to deal with segmented black white (binary) images\n",
    "- the metric of (human) vision is a very good error indicator\n",
    "\n",
    "----\n",
    "__Task:__ Choose a good segmentation threshold to nicely recover the ancient texts.<br>"
   ]
  },
  {
   "cell_type": "code",
   "execution_count": null,
   "metadata": {},
   "outputs": [],
   "source": [
    "\n",
    "image = operate.#TODO( cropped_image, #TODO\n",
    "\n",
    "show_images( cropped_image, image)\n",
    "segmented_image = image.copy()\n"
   ]
  },
  {
   "cell_type": "markdown",
   "metadata": {},
   "source": [
    "- the image can be manually edited by overwriting specific values via indexing\n",
    "- this is especially simple for binary images, obtained from e.g. segmentation \n",
    "- if you have any residual black regions, you can overwrite them with indexing\n",
    "----------\n",
    "__Task:__ OPTIONAL, set remaining black regions to be white by direct indexing."
   ]
  },
  {
   "cell_type": "code",
   "execution_count": null,
   "metadata": {},
   "outputs": [],
   "source": [
    "image = segmented_image.copy()\n",
    "#image[ #TODO ] #TODO\n",
    "\n",
    "show_images( segmented_image, image )\n",
    "fixed_image = image.copy()"
   ]
  },
  {
   "cell_type": "markdown",
   "metadata": {},
   "source": [
    "- the remaining lines can be seen as pepper noise\n",
    "- depending on the kernel opening/closing can be rather coarse\n",
    "- text is also rather thin, so be careful when choosing your kernel\n",
    "- Note, here black is the 'background'\n",
    "\n",
    "--------\n",
    "__Task__: Create yourself a kernel (of 0 and 1) to remove the 'pepper noise'"
   ]
  },
  {
   "cell_type": "code",
   "execution_count": null,
   "metadata": {},
   "outputs": [],
   "source": [
    "kernel = np.array( [[#TODO] ]) \n",
    "image = #TODO\n",
    "    \n",
    "show_images( fixed_image, image)\n"
   ]
  },
  {
   "cell_type": "markdown",
   "metadata": {},
   "source": [
    "__Task:__ admire your result."
   ]
  },
  {
   "cell_type": "code",
   "execution_count": null,
   "metadata": {},
   "outputs": [],
   "source": [
    "show_images( image_orig, image, axis='off')"
   ]
  }
 ],
 "metadata": {
  "kernelspec": {
   "display_name": "Python 3 (Spyder)",
   "language": "python3",
   "name": "python3"
  },
  "language_info": {
   "codemirror_mode": {
    "name": "ipython",
    "version": 3
   },
   "file_extension": ".py",
   "mimetype": "text/x-python",
   "name": "python",
   "nbconvert_exporter": "python",
   "pygments_lexer": "ipython3",
   "version": "3.8.3"
  }
 },
 "nbformat": 4,
 "nbformat_minor": 4
}
