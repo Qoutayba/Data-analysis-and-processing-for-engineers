{
 "cells": [
  {
   "cell_type": "markdown",
   "metadata": {},
   "source": [
    "# Loops and Conditions\n",
    "\n",
    "Author: Julian Lißner<br>\n",
    "For questions and feedback write a mail to: [lissner@mib.uni-stuttgart.de](mailto:lissner@mib.uni-stuttgart.de)"
   ]
  },
  {
   "cell_type": "markdown",
   "metadata": {},
   "source": [
    "## Simple for loops\n",
    "- basic looping from 0 __up to__ $n$ is done with `for i in range(n):` <br>\n",
    "$\\quad$ $i=n-1$ is the last accessed element\n",
    "- after each `for` expression a colon `:` is required\n",
    "- after the colon, the lines in the statement need to be indended by 4 spaces\n",
    "- unindentation terminates the block\n",
    "- `range( start, stop, step)` is very similar to slicing, see `help(range)` for reference\n",
    "\n",
    "---\n",
    "__Task:__ Implement the loops to print out the requested values by replacing the #TODO flags."
   ]
  },
  {
   "cell_type": "code",
   "execution_count": 1,
   "metadata": {},
   "outputs": [
    {
     "name": "stdout",
     "output_type": "stream",
     "text": [
      "The length of the integers list is: 10\n"
     ]
    }
   ],
   "source": [
    "integers = [1,2,3,4,5,6,7,8,9,10]\n",
    "n = len(integers) #you can use the variable \"n\" \n",
    "print('The length of the integers list is: {}'.format( n) )"
   ]
  },
  {
   "cell_type": "code",
   "execution_count": 4,
   "metadata": {},
   "outputs": [
    {
     "name": "stdout",
     "output_type": "stream",
     "text": [
      "1,\t2,\t3,\t4,\t5,\t6,\t7,\t8,\t9,\t10,\t"
     ]
    }
   ],
   "source": [
    "## print out each number in integers\n",
    "for i in range(10):\n",
    "    print( integers[i], end=',\\t' )"
   ]
  },
  {
   "cell_type": "code",
   "execution_count": 6,
   "metadata": {},
   "outputs": [
    {
     "name": "stdout",
     "output_type": "stream",
     "text": [
      "3,\t4,\t5,\t6,\t"
     ]
    }
   ],
   "source": [
    "## print the numbers  3,4,5,6\n",
    "for i in range(2,6):\n",
    "    print( integers[i], end=',\\t' )"
   ]
  },
  {
   "cell_type": "code",
   "execution_count": 7,
   "metadata": {},
   "outputs": [
    {
     "name": "stdout",
     "output_type": "stream",
     "text": [
      "3,\t5,\t7,\t"
     ]
    }
   ],
   "source": [
    "## print the numbers 3,5,7\n",
    "for i in range(2,7,2):\n",
    "    print( integers[i], end=',\\t' )"
   ]
  },
  {
   "cell_type": "code",
   "execution_count": 12,
   "metadata": {},
   "outputs": [
    {
     "name": "stdout",
     "output_type": "stream",
     "text": [
      "8,\t5,\t2,\t"
     ]
    }
   ],
   "source": [
    "## print the numbers in the following order 8,5,2\n",
    "#for i in range(-3,-10,-3):\n",
    "for i in range(7,0,-3):\n",
    "    print( integers[i], end=',\\t' )"
   ]
  },
  {
   "cell_type": "markdown",
   "metadata": {},
   "source": [
    "-----\n",
    "## While and if statements\n",
    "- `while` and `if` statements rely on conditions\n",
    "- `break` jumps out of the inner most loop\n",
    "- comparison operators are: `>`, `<`, `<=`, `>=`, `!=`, `==`\n",
    "- logical operators are: `and`, `or`, `not`, `in`, `is`\n",
    "- at the end of the `while` or `if` expression, a colon `:` is required\n",
    "- previous rules for the colon apply\n",
    "\n",
    "---\n",
    "__Task:__ Implement the requested loops by replacing the `#TODO` flags."
   ]
  },
  {
   "cell_type": "code",
   "execution_count": 16,
   "metadata": {},
   "outputs": [
    {
     "name": "stdout",
     "output_type": "stream",
     "text": [
      "1\n",
      "2\n",
      "3\n",
      "4\n",
      "5\n"
     ]
    }
   ],
   "source": [
    "## loop until the counter equals 5\n",
    "counter = 0\n",
    "while counter <=4 :\n",
    "    counter += 1\n",
    "    print( counter)"
   ]
  },
  {
   "cell_type": "code",
   "execution_count": 22,
   "metadata": {},
   "outputs": [
    {
     "name": "stdout",
     "output_type": "stream",
     "text": [
      "1\n",
      "2\n",
      "3\n",
      "4\n",
      "5\n",
      "6\n",
      "6\n"
     ]
    }
   ],
   "source": [
    "## change a condition to be False when the counter is 5\n",
    "condition = True\n",
    "counter = 0\n",
    "while condition is True:\n",
    "    if counter >4:\n",
    "        condition = False\n",
    "    counter += 1\n",
    "    print(counter)\n",
    "print( counter) #should print 6"
   ]
  },
  {
   "cell_type": "code",
   "execution_count": 45,
   "metadata": {},
   "outputs": [
    {
     "name": "stdout",
     "output_type": "stream",
     "text": [
      "7\n",
      "[1, 5, 4]\n"
     ]
    }
   ],
   "source": [
    "## loop until the counter is bigger than 15\n",
    "## break the while statement if there is no 6 in 'my_list'\n",
    "counter = 0\n",
    "my_list = [ 1, 5, 4, 6, 9, 4, 2, 0, 'a string', 5.2]\n",
    "while counter < 15:\n",
    "    #print ('my_list.pop()')   \n",
    "    #my_list.pop()\n",
    "    counter += 1\n",
    "    if my_list.pop() == 6:\n",
    "        break\n",
    "print( counter) #should print 7\n",
    "print( my_list) "
   ]
  },
  {
   "cell_type": "markdown",
   "metadata": {},
   "source": [
    "------------\n",
    "## Iterables\n",
    "- lists, tuples, dictionaries or even strings are iterables\n",
    "- iterables can be used in for loops\n",
    "- additional tricks on iterables with objects will be shown in the 'tricks video'\n",
    "\n",
    "---\n",
    "__Task:__ Implement the requested loops by replacing the `#TODO` flags."
   ]
  },
  {
   "cell_type": "code",
   "execution_count": 46,
   "metadata": {},
   "outputs": [
    {
     "name": "stdout",
     "output_type": "stream",
     "text": [
      "t h i s i s a l o n g s t r i n g "
     ]
    }
   ],
   "source": [
    "## print out every letter (no spaces)\n",
    "for letter in 'this is a long string':\n",
    "    if letter != ' ':\n",
    "        print( letter, end=' ')"
   ]
  },
  {
   "cell_type": "code",
   "execution_count": 86,
   "metadata": {},
   "outputs": [
    {
     "name": "stdout",
     "output_type": "stream",
     "text": [
      "['apple', 'tomato', 'orange', 'avocado']\n",
      "apple\n",
      "tomato\n",
      "orange\n",
      "avocado\n"
     ]
    }
   ],
   "source": [
    "fruits = ['apple', 'tomato', 'orange', 'avocado']\n",
    "fruit_amount = [102, 1, 15, 43]\n",
    "\n",
    "##print out all the fruits\n",
    "print(fruits)\n",
    "for x in fruits:\n",
    "    print( x)"
   ]
  },
  {
   "cell_type": "code",
   "execution_count": 87,
   "metadata": {},
   "outputs": [
    {
     "name": "stdout",
     "output_type": "stream",
     "text": [
      "#### checking the next inner list ####\n",
      "0\n",
      "cat\n",
      "#### checking the next inner list ####\n",
      "[4, 2]\n",
      "-5.58\n",
      "2\n",
      "bird\n",
      "#### checking the next inner list ####\n",
      "#### checking the next inner list ####\n",
      "3\n"
     ]
    }
   ],
   "source": [
    "## Print out all the items in the inner list\n",
    "nested_list = [ [0, 'cat'], [ [ 4, 2 ] , -5.58, 2, 'bird'], [], [3] ]\n",
    "for inner_list in nested_list:\n",
    "    print( '#### checking the next inner list ####')\n",
    "    for item in inner_list:\n",
    "        print( item)"
   ]
  },
  {
   "cell_type": "markdown",
   "metadata": {},
   "source": [
    "------\n",
    "## Dictionaries\n",
    "- looping over two lists simultaneously without indexing is only possible with a workaround\n",
    "- `zip( a, b)` returns another list\n",
    "- `dict( zip( a, b,)` returns a dictionary, defined with key (a) - value (b) pairs\n",
    "- _fruits_ will be the key, and _fruit_amount_ will be the value\n",
    "- usually the loop is written as `for key,value in dict.items():` ...\n",
    "\n",
    "---\n",
    "__Task:__ Complete the requested instructions in each cell below."
   ]
  },
  {
   "cell_type": "code",
   "execution_count": 88,
   "metadata": {},
   "outputs": [
    {
     "name": "stdout",
     "output_type": "stream",
     "text": [
      "['apple', 'tomato', 'orange', 'avocado']\n",
      "(('apple', 102), ('tomato', 1), ('orange', 15), ('avocado', 43))\n",
      "we have 102 apples\n",
      "we have 1 tomato \n",
      "we have 15 oranges\n",
      "we have 43 avocados\n"
     ]
    }
   ],
   "source": [
    "## print out the amount of each fruit\n",
    "print(fruits)\n",
    "xxx = zip( fruits, fruit_amount)\n",
    "print(tuple(xxx))\n",
    "for fruit, amount in zip( fruits, fruit_amount):\n",
    "    if amount == 1:\n",
    "        suffix = ' '\n",
    "    elif amount > 1:    #if there is more than one fruit add an s\n",
    "        suffix = 's'\n",
    "    print( 'we have {} {}{}'.format( amount, fruit, suffix))"
   ]
  },
  {
   "cell_type": "markdown",
   "metadata": {},
   "source": [
    "- dictionaries are made of key, value pairs\n",
    "- values of the dictionary are accessed by string, not by integer-index\n",
    "- new key, value pairs by assigning a value to a new key"
   ]
  },
  {
   "cell_type": "code",
   "execution_count": 91,
   "metadata": {},
   "outputs": [
    {
     "name": "stdout",
     "output_type": "stream",
     "text": [
      "{'apple': 102, 'tomato': 1, 'orange': 15, 'avocado': 43}\n",
      "we have this many avocados: 43\n"
     ]
    }
   ],
   "source": [
    "# print out the number of avocados\n",
    "fruit_dict = dict( zip( fruits, fruit_amount) )\n",
    "print(fruit_dict)\n",
    "print( 'we have this many avocados:', fruit_dict['avocado']) #should be 43\n"
   ]
  },
  {
   "cell_type": "code",
   "execution_count": 93,
   "metadata": {
    "lines_to_next_cell": 2
   },
   "outputs": [
    {
     "name": "stdout",
     "output_type": "stream",
     "text": [
      "the fruit_dict looks like this:\n",
      " {'apple': 102, 'tomato': 1, 'orange': 15, 'avocado': 43, 'banana ': 9001}\n"
     ]
    }
   ],
   "source": [
    "## add another fruit into the dictionary\n",
    "fruit_dict['banana '] = 9001\n",
    "\n",
    "print( 'the fruit_dict looks like this:\\n', fruit_dict)"
   ]
  },
  {
   "cell_type": "markdown",
   "metadata": {
    "lines_to_next_cell": 0
   },
   "source": [
    "--------------------------------"
   ]
  },
  {
   "cell_type": "code",
   "execution_count": 94,
   "metadata": {},
   "outputs": [],
   "source": [
    "import sys #import a default module\n",
    "sys.path.append( 'provided_functions') # add a folder to 'PYTHONPATH'\n",
    "import result_check as check #import the user module result_check"
   ]
  },
  {
   "cell_type": "markdown",
   "metadata": {},
   "source": [
    "## List comprehension\n",
    "\n",
    "- List comprehension is a combination of the previous parts\n",
    "- It is a one liner to loop over list items\n",
    "- conditions in the loop are allowed\n",
    "- The following statements are equivalent\n"
   ]
  },
  {
   "cell_type": "code",
   "execution_count": 95,
   "metadata": {},
   "outputs": [
    {
     "name": "stdout",
     "output_type": "stream",
     "text": [
      "List comprehension\n",
      "2\n",
      "4\n",
      "\n",
      "fully written out loop\n",
      "2\n",
      "4\n"
     ]
    }
   ],
   "source": [
    "my_list = [-1, 2, -3, 4]\n",
    "print( 'List comprehension')\n",
    "[ print( item) for item in my_list if item > 0]\n",
    "print( '\\nfully written out loop')\n",
    "for item in my_list:\n",
    "    if item > 0:\n",
    "        print( item)    "
   ]
  },
  {
   "cell_type": "markdown",
   "metadata": {},
   "source": [
    "--------\n",
    "__Task:__ Fill out the remaining `#TODO` flags to get the desired results, always reuse `Ls_e`."
   ]
  },
  {
   "cell_type": "code",
   "execution_count": 106,
   "metadata": {},
   "outputs": [
    {
     "name": "stdout",
     "output_type": "stream",
     "text": [
      "[4, 6, 1, 2]\n",
      "Part correctly solved.\n",
      "[4, 6]\n",
      "Part correctly solved.\n"
     ]
    }
   ],
   "source": [
    "Ls_d = [ 4, 6, 1, 2]\n",
    "Ls_e = [ 3, 5, 0, 1]\n",
    "\n",
    "## add one to every element\n",
    "Ls_e = [ x+1 for x in Ls_e] #no condition required\n",
    "print(Ls_e)\n",
    "check.list_result(Ls_e, Ls_d)\n",
    "\n",
    "## rewrite the list with only the values greater than 3\n",
    "Ls_d = [ 4, 6]\n",
    "Ls_e = [ x for x in Ls_e if x>3 ]\n",
    "print(Ls_e)\n",
    "check.list_result(Ls_e, Ls_d)"
   ]
  },
  {
   "cell_type": "code",
   "execution_count": 117,
   "metadata": {},
   "outputs": [
    {
     "name": "stdout",
     "output_type": "stream",
     "text": [
      "[2, 3, 4, 5, 6, 7]\n",
      "Part correctly solved.\n",
      "[9, 25, 49]\n",
      "Part correctly solved.\n"
     ]
    }
   ],
   "source": [
    "## create a new list with list comprehension\n",
    "Ls_d = [ 2, 3, 4, 5, 6, 7 ]\n",
    "Ls_e = [x for x in range(2,8) ]\n",
    "print(Ls_e)\n",
    "check.list_result(Ls_e, Ls_d)\n",
    "    \n",
    "\n",
    "## get the square of all odd numbers in the list, modulo command '%'\n",
    "Ls_d = [ 9, 25, 49 ]\n",
    "Ls_e = [ x**2 for x in Ls_e  if x%2 !=0 ]\n",
    "print(Ls_e)\n",
    "check.list_result(Ls_e, Ls_d)\n"
   ]
  },
  {
   "cell_type": "code",
   "execution_count": 132,
   "metadata": {},
   "outputs": [
    {
     "name": "stdout",
     "output_type": "stream",
     "text": [
      "[1, 1, 1]\n",
      "Part correctly solved.\n"
     ]
    }
   ],
   "source": [
    "## overwrite your list with all 1 using list comprehension\n",
    "Ls_d = [ 1, 1, 1]\n",
    "Ls_e =[ 1 for x in Ls_e ]\n",
    "print(Ls_e)\n",
    "check.list_result(Ls_e, Ls_d)"
   ]
  },
  {
   "cell_type": "code",
   "execution_count": null,
   "metadata": {},
   "outputs": [],
   "source": []
  }
 ],
 "metadata": {
  "kernelspec": {
   "display_name": "Python 3 (Spyder)",
   "language": "python3",
   "name": "python3"
  },
  "language_info": {
   "codemirror_mode": {
    "name": "ipython",
    "version": 3
   },
   "file_extension": ".py",
   "mimetype": "text/x-python",
   "name": "python",
   "nbconvert_exporter": "python",
   "pygments_lexer": "ipython3",
   "version": "3.8.11"
  }
 },
 "nbformat": 4,
 "nbformat_minor": 4
}
