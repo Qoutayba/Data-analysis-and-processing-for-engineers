{
 "cells": [
  {
   "cell_type": "markdown",
   "metadata": {},
   "source": [
    "# Python Introduction\n",
    "\n",
    "Author: Julian Lißner<br>\n",
    "For questions and feedback write a mail to: [lissner@mib.uni-stuttgart.de](mailto:lissner@mib.uni-stuttgart.de)"
   ]
  },
  {
   "cell_type": "code",
   "execution_count": 1,
   "metadata": {},
   "outputs": [],
   "source": [
    "import sys #import a default module\n",
    "sys.path.append( 'provided_functions') # add a folder to 'PYTHONPATH'\n",
    "import result_check as check #import the user module result_check"
   ]
  },
  {
   "cell_type": "markdown",
   "metadata": {},
   "source": [
    "Each lab has the following structure:\n",
    "\n",
    "- ILIAS videos will explain the topic of the week\n",
    "- The weekly coding tasks and screencasts notebooks have to be downloaded\n",
    "- The screencast Jupyter-notebooks can be rewieved in the repository\n",
    "- There tasks are posed in Jupyter-notebooks\n",
    "- Often coding has to be done in python scripts in _incomplete_functions_\n",
    "- Insert the correct code at each `#TODO` flag\n",
    "- Execute the cell in the Jupyter-notebook with the `check.task()` \n",
    "- If there is an error the check will yield feedback on what was expected and what is given entered\n",
    "- If there is commented code, uncomment it after each substep"
   ]
  },
  {
   "cell_type": "markdown",
   "metadata": {},
   "source": [
    "-----------------\n",
    "## Basic Python operators on Lists\n",
    "\n",
    "- Lists do not behave like arrays/matrices\n",
    "- Native python operators can yield to different results than originally anticipated\n",
    "\n",
    "- Here: `Ls_d` $\\to$ desired list, `Ls_e` $\\to$ entered list\n",
    "- Always reuse the list from the previous step for the current step\n",
    "----\n",
    "__Task:__ Fill out the #TODO flags such that `Ls_e == Ls_d`"
   ]
  },
  {
   "cell_type": "code",
   "execution_count": 2,
   "metadata": {},
   "outputs": [
    {
     "name": "stdout",
     "output_type": "stream",
     "text": [
      "Part correctly solved.\n",
      "Part correctly solved.\n",
      "Part correctly solved.\n"
     ]
    }
   ],
   "source": [
    "### initialize\n",
    "Ls_d = list( (1,3) )\n",
    "Ls_e = [1,3]\n",
    "\n",
    "check.list_result(Ls_e, Ls_d)\n",
    "\n",
    "### append a 4 to Ls_e\n",
    "Ls_d = [1, 3, 4]\n",
    "Ls_e = Ls_e +  [ 4]\n",
    "\n",
    "check.list_result(Ls_e, Ls_d)\n",
    "\n",
    "### add the same list to itself (2x the list)\n",
    "Ls_d = [1, 3, 4, 1, 3, 4]\n",
    "Ls_e = Ls_e * 2\n",
    "\n",
    "check.list_result(Ls_e, Ls_d)"
   ]
  },
  {
   "cell_type": "markdown",
   "metadata": {},
   "source": [
    "--------\n",
    "## List methods/functions\n",
    "\n",
    "- Lists are objects, objects have methods/functions\n",
    "- `object.method( arguments)` calls the `method` with some `arguments`\n",
    "- methods do not always return a value \n",
    "- object methods often change the object _in place_ <br> $\\quad \\to$ the object instance (e.g. list) is changed without reassignment\n",
    "\n",
    "-----\n",
    "__Task:__ Apply the correct methods to match the results"
   ]
  },
  {
   "cell_type": "code",
   "execution_count": null,
   "metadata": {},
   "outputs": [],
   "source": [
    "help( list) #display the official documentation for lists\n",
    "# also displays all available methods/function"
   ]
  },
  {
   "cell_type": "code",
   "execution_count": 21,
   "metadata": {},
   "outputs": [
    {
     "name": "stdout",
     "output_type": "stream",
     "text": [
      "[1, 3, 4, 1, 3]\n",
      "Part correctly solved.\n",
      "[1, 4, 3]\n",
      "Part correctly solved.\n",
      "[1, 3, 4]\n",
      "Part correctly solved.\n",
      "[1, 4]\n",
      "Part correctly solved.\n",
      "[1, 'some string', 4, ['another list', 4.326]]\n",
      "Part correctly solved.\n"
     ]
    }
   ],
   "source": [
    "### delete last element using \"pop\"\n",
    "Ls_e = [1, 3, 4, 1, 3, 4]\n",
    "Ls_d = [1, 3, 4, 1, 3]\n",
    "Ls_e.pop()\n",
    "print(Ls_e)\n",
    "check.list_result(Ls_e, Ls_d)\n",
    "\n",
    "## delete the second, and second to last elements, again with pop()\n",
    "Ls_d = [1,  4,  3]\n",
    "Ls_e.pop(1)\n",
    "Ls_e.pop(2)\n",
    "print ( Ls_e)\n",
    "check.list_result(Ls_e, Ls_d)\n",
    "\n",
    "### sort the list\n",
    "Ls_d = [1, 3, 4]\n",
    "Ls_e.sort()\n",
    "print ( Ls_e)\n",
    "check.list_result(Ls_e, Ls_d)\n",
    "\n",
    "### remove the \"3\" using the \"index\" method to find it\n",
    "Ls_d = [1, 4]\n",
    "#print(Ls_e.pop(0))\n",
    "Ls_e.pop(Ls_e[0])\n",
    "print(Ls_e)\n",
    "check.list_result(Ls_e, Ls_d)\n",
    "\n",
    "### insert specific elements\n",
    "Ls_d = [1, 'some string',    4, ['another list', 4.326] ]\n",
    "Ls_e.insert( 1, 'some string')\n",
    "Ls_e.append(['another list', 4.326])\n",
    "print(Ls_e)\n",
    "check.list_result(Ls_e, Ls_d)\n"
   ]
  },
  {
   "cell_type": "markdown",
   "metadata": {},
   "source": [
    "--------------\n",
    "## Acessing Lists - Indexing and Slicing\n",
    "\n",
    "- Elements of lists are accessed by `list[ index]`\n",
    "- The first element is accessed with `index = 0`\n",
    "- Multiple elements are accessed via `list[ start: stop: step]`\n",
    "- Slicing also implicitely takes _default arguments_, e.g. <br>\n",
    "$quad$ `list[ start: stop] = list[ start:stop:] = list[ start:stop:1]` <br>\n",
    "$quad$ `list[ start:]` (returns everything from start), `list[ :stop]` (returns everything up to stop)<br>\n",
    "$quad$ `list[ :]` returns every element, $,$ `list[ ::step]` returns every 'step'-th element\n",
    "- the index `stop` is always excluded, slice is __up to__ `stop`\n",
    "- `start` has to be smaller than `stop` (unless `step` is negative)\n",
    "- Negative values are allowed and especially useful\n",
    "\n",
    "---\n",
    "__Task:__ Use the correct indices/slices to get the desired results."
   ]
  },
  {
   "cell_type": "code",
   "execution_count": 22,
   "metadata": {},
   "outputs": [
    {
     "name": "stdout",
     "output_type": "stream",
     "text": [
      "Part correctly solved.\n"
     ]
    }
   ],
   "source": [
    "integers = [1,2,3,4,5,6,7,8,9,10]\n",
    "## get the first entry of 'integers'\n",
    "Ls_d = 1\n",
    "Ls_e = integers[0]\n",
    "\n",
    "check.list_result(Ls_e, Ls_d)"
   ]
  },
  {
   "cell_type": "code",
   "execution_count": 24,
   "metadata": {},
   "outputs": [
    {
     "name": "stdout",
     "output_type": "stream",
     "text": [
      "Part correctly solved.\n"
     ]
    }
   ],
   "source": [
    "## get the last entry of 'integers' (hint: use a \"-\" sign for indexing)\n",
    "Ls_d = 10\n",
    "Ls_e = integers[9]\n",
    "\n",
    "check.list_result(Ls_e, Ls_d)"
   ]
  },
  {
   "cell_type": "code",
   "execution_count": 25,
   "metadata": {},
   "outputs": [
    {
     "name": "stdout",
     "output_type": "stream",
     "text": [
      "Part correctly solved.\n"
     ]
    }
   ],
   "source": [
    "## get every entry of 'integers'\n",
    "Ls_d = [1,2,3,4,5,6,7,8,9,10]\n",
    "Ls_e = integers[:]\n",
    "\n",
    "check.list_result(Ls_e, Ls_d)"
   ]
  },
  {
   "cell_type": "code",
   "execution_count": 27,
   "metadata": {},
   "outputs": [
    {
     "name": "stdout",
     "output_type": "stream",
     "text": [
      "Part correctly solved.\n"
     ]
    }
   ],
   "source": [
    "## get every number except the last one (hint: use a \"-\" sign for indexing)\n",
    "Ls_d = [1,2,3,4,5,6,7,8,9]\n",
    "Ls_e = integers[:9]\n",
    "\n",
    "check.list_result(Ls_e, Ls_d)"
   ]
  },
  {
   "cell_type": "code",
   "execution_count": 32,
   "metadata": {},
   "outputs": [
    {
     "name": "stdout",
     "output_type": "stream",
     "text": [
      "Part correctly solved.\n"
     ]
    }
   ],
   "source": [
    "## get the last three elements of the list\n",
    "Ls_d = [8,9,10]\n",
    "Ls_e = integers[-3:]\n",
    "\n",
    "check.list_result(Ls_e, Ls_d)"
   ]
  },
  {
   "cell_type": "code",
   "execution_count": 33,
   "metadata": {},
   "outputs": [
    {
     "name": "stdout",
     "output_type": "stream",
     "text": [
      "Part correctly solved.\n"
     ]
    }
   ],
   "source": [
    "\n",
    "## get the numbers 2,4,6,8,10; different \"step\" is required\n",
    "Ls_d = [2,4,6,8,10]\n",
    "Ls_e = integers[1::2]\n",
    "\n",
    "check.list_result(Ls_e, Ls_d)"
   ]
  },
  {
   "cell_type": "code",
   "execution_count": 34,
   "metadata": {},
   "outputs": [
    {
     "name": "stdout",
     "output_type": "stream",
     "text": [
      "Part correctly solved.\n"
     ]
    }
   ],
   "source": [
    "## get every number in reverse order; negative \"step\" is required\n",
    "Ls_d = [10,9,8,7,6,5,4,3,2,1] \n",
    "Ls_e = integers[10::-1]\n",
    "\n",
    "check.list_result(Ls_e, Ls_d)"
   ]
  },
  {
   "cell_type": "code",
   "execution_count": null,
   "metadata": {},
   "outputs": [],
   "source": []
  }
 ],
 "metadata": {
  "kernelspec": {
   "display_name": "Python 3 (Spyder)",
   "language": "python3",
   "name": "python3"
  },
  "language_info": {
   "codemirror_mode": {
    "name": "ipython",
    "version": 3
   },
   "file_extension": ".py",
   "mimetype": "text/x-python",
   "name": "python",
   "nbconvert_exporter": "python",
   "pygments_lexer": "ipython3",
   "version": "3.9.7"
  }
 },
 "nbformat": 4,
 "nbformat_minor": 4
}
