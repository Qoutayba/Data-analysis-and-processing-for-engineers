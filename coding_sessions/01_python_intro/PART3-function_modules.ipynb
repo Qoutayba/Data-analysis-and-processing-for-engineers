{
 "cells": [
  {
   "cell_type": "markdown",
   "metadata": {},
   "source": [
    "# Modules and Functions\n",
    "\n",
    "Author: Julian Lißner<br>\n",
    "For questions and feedback please write a mail to: [lissner@mib.uni-stuttgart.de](mailto:lissner@mib.uni-stuttgart.de)"
   ]
  },
  {
   "cell_type": "markdown",
   "metadata": {},
   "source": [
    "## Functions\n",
    "\n",
    "- are defined via `def function_name( arg, default_arg='something', *args, **kwargs):` \n",
    "- can have multiple return values\n",
    "- are called via brackets `()` i.e. `function_name( args)`\n",
    "- have to be __always__ documented\n",
    "\n",
    "---\n",
    "__Task__: Define yourself a `hello_world` function"
   ]
  },
  {
   "cell_type": "code",
   "execution_count": 2,
   "metadata": {},
   "outputs": [],
   "source": [
    "def hello_world():\n",
    "    \"\"\"\n",
    "    A simple function which prints 'Hello World' to terminal\n",
    "    Does not have any parameters or return values   \n",
    "    \"\"\"\n",
    "    print( 'Hello World')\n",
    "    return  #helo_world  #this return statement is not explicitely required. "
   ]
  },
  {
   "cell_type": "markdown",
   "metadata": {},
   "source": [
    "- The documentation of the function is already given, _help(function)_ will show it\n",
    "- Functions are called with brackets, empty brackets use default/no arguments\n",
    "----\n",
    "__Task:__ Call your first hello_world function"
   ]
  },
  {
   "cell_type": "code",
   "execution_count": 5,
   "metadata": {
    "lines_to_next_cell": 0
   },
   "outputs": [
    {
     "name": "stdout",
     "output_type": "stream",
     "text": [
      "### call of my function###\n",
      "\n",
      "Hello World\n",
      "\n",
      "\n",
      "Help on function hello_world in module __main__:\n",
      "\n",
      "hello_world()\n",
      "    A simple function which prints 'Hello World' to terminal\n",
      "    Does not have any parameters or return values\n",
      "\n"
     ]
    }
   ],
   "source": [
    "print( '### call of my function###\\n' )\n",
    "hello_world()\n",
    "\n",
    "print( '\\n' )\n",
    "help( hello_world)"
   ]
  },
  {
   "cell_type": "markdown",
   "metadata": {},
   "source": [
    "## Lambda functions\n",
    "- one liners used to define functions\n",
    "- general syntax is: `my_fun = lambda args: expression`\n",
    "- `*args` and `**kwargs` are also allowed in lambda functions\n",
    "- lambda functions should only be used in very close context\n",
    "- it is generally better to define a function (in a fitting module) and write its documentation<br>\n",
    "$\\quad \\to$ readability counts!\n",
    "\n",
    "---\n",
    "__Task:__ Define a lambda function to match the output of `testfunction`."
   ]
  },
  {
   "cell_type": "code",
   "execution_count": 7,
   "metadata": {
    "lines_to_next_cell": 2
   },
   "outputs": [
    {
     "name": "stdout",
     "output_type": "stream",
     "text": [
      "part correctly implemented\n"
     ]
    }
   ],
   "source": [
    "def testfunction( a, b, c=3):\n",
    "    f = a*b + 2\n",
    "    result = f / (c-1)\n",
    "    return result\n",
    "\n",
    "my_fun = lambda a,b,c: (a*b+2)/(c-1)\n",
    "\n",
    "assert testfunction( 1,6,9) == my_fun( 1,6,9), 'wrong value returned'\n",
    "assert testfunction( 2,5) == my_fun( 2,5,3), 'default argument wrongly set'\n",
    "print( 'part correctly implemented' )"
   ]
  },
  {
   "cell_type": "markdown",
   "metadata": {},
   "source": [
    "------\n",
    "## Modules and Imports"
   ]
  },
  {
   "cell_type": "code",
   "execution_count": 11,
   "metadata": {},
   "outputs": [],
   "source": [
    "import sys #import builtin module\n",
    "sys.path.append( 'incomplete_functions') \n",
    "#help (incomplete_functions.subfunction)\n",
    "## Allows direct import of your function without folder specification"
   ]
  },
  {
   "cell_type": "markdown",
   "metadata": {},
   "source": [
    "- functions can be defined in a different file and imported into the main file\n",
    "- in order to import these functions, an empty `__init__.py` file should be put in the subfolder (not strictly required since python 3.3)\n",
    "- general import syntax is `import user_module as module`\n",
    "- functions are then called as `module.function( arguments)` (see `object.function()` for reference)\n",
    "\n",
    "----\n",
    "__Task:__ Implement the `add` function in *incomplete_functions/subfunctions.py* and write a documentation for it. Import the module and call the function"
   ]
  },
  {
   "cell_type": "code",
   "execution_count": 15,
   "metadata": {},
   "outputs": [],
   "source": [
    "#import sys, importlib\n",
    "#importlib.reload(sys.modules['subfunction'])\n",
    "#import sys\n",
    "import subfunction as su \n",
    "a = 4\n",
    "b = 3\n",
    "addition = su.add(a,b)  #TODO #call your function to add these values\n",
    "assert addition == 7, 'Unexpected result gotten in add()'\n",
    "#help (su.multiply_and_divide)"
   ]
  },
  {
   "cell_type": "markdown",
   "metadata": {},
   "source": [
    "On some machines the imported module has to be reloaded after it has been changed and saved.\n",
    "For that, the `reload()` function from importlib can be deployed\n",
    "\n",
    "----\n",
    "__Task:__ Implement the 'multiply_and_divide' function in 'subfunctions.py. Call it to get the variables `prod` and `frac`."
   ]
  },
  {
   "cell_type": "code",
   "execution_count": 29,
   "metadata": {},
   "outputs": [],
   "source": [
    "from importlib import reload\n",
    "reload( su)\n",
    "\n",
    "prod, frac = su.multiply_and_divide( a, b) \n",
    "#assign values to 'prod' and 'frac' \n",
    "assert prod == 12,  'Unexpected value gotten for prod'\n",
    "assert frac == 8/6, 'Unexpected value gotten for frac'"
   ]
  },
  {
   "cell_type": "markdown",
   "metadata": {},
   "source": [
    "- functions can have default arguments automatically used when not specified\n",
    "- default variables are defined by `def function( default_arg=default_value):`\n",
    "- upon function call, these arguments can be specified by name <br> $\\quad$ e.g. `function( a,b, weight=500)` <br> $\\quad$ OR `function( a,b, weight=weight)` $\\quad$ `(a,b, function_argument=local_variable)`\n",
    "- the arguments can also be specified by order, e.g. `function( a,b, weight)`\n",
    "-----\n",
    "__Task:__ implement the 'oddly_weighted_sum' function in 'subfunctions.py'. Call it with the default and a specified argument."
   ]
  },
  {
   "cell_type": "code",
   "execution_count": 30,
   "metadata": {},
   "outputs": [
    {
     "name": "stdout",
     "output_type": "stream",
     "text": [
      "using the weight 1.618 in \"oddly_weighted_sum\"\n",
      "result of my function: 11.326\n",
      "using the weight 2.23 in \"oddly_weighted_sum\"\n",
      "result of my function: 15.61\n"
     ]
    }
   ],
   "source": [
    "weighted_sum = su.oddly_weighted_sum( a,b)\n",
    "print( 'result of my function:', weighted_sum)\n",
    "weight = 2.23\n",
    "weighted_sum = su.oddly_weighted_sum( a,b,weight)\n",
    "print( 'result of my function:', weighted_sum)"
   ]
  },
  {
   "cell_type": "markdown",
   "metadata": {},
   "source": [
    "- functions can also have an undefined amount of inputs, generally denoted `*args` and `**kwargs`\n",
    "- `*args` are un-named arguments, `**kwargs` are keyworded arguments \n",
    "- note that care has to be taken with multiple default arguments and `*args` specified\n",
    "----\n",
    "__Task:__ Implement the `product` function in _subfunctions.py_ and test it out."
   ]
  },
  {
   "cell_type": "code",
   "execution_count": 32,
   "metadata": {},
   "outputs": [
    {
     "name": "stdout",
     "output_type": "stream",
     "text": [
      "30\n"
     ]
    }
   ],
   "source": [
    "print( su.product( 1,1,2,1,5,3) ) #... etc"
   ]
  },
  {
   "cell_type": "code",
   "execution_count": null,
   "metadata": {},
   "outputs": [],
   "source": []
  }
 ],
 "metadata": {
  "kernelspec": {
   "display_name": "Python 3 (Spyder)",
   "language": "python3",
   "name": "python3"
  },
  "language_info": {
   "codemirror_mode": {
    "name": "ipython",
    "version": 3
   },
   "file_extension": ".py",
   "mimetype": "text/x-python",
   "name": "python",
   "nbconvert_exporter": "python",
   "pygments_lexer": "ipython3",
   "version": "3.8.11"
  }
 },
 "nbformat": 4,
 "nbformat_minor": 4
}
