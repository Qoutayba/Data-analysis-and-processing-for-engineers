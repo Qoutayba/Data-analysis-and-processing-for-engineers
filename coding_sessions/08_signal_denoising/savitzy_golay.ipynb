{
 "cells": [
  {
   "cell_type": "markdown",
   "metadata": {},
   "source": [
    "# Signal denoising\n",
    "\n",
    "Author: Julian Lißner<br>\n",
    "For questions and feedback write a mail to: [lissner@mib.uni-stuttgart.de](mailto:lissner@mib.uni-stuttgart.de)"
   ]
  },
  {
   "cell_type": "code",
   "execution_count": null,
   "metadata": {
    "lines_to_next_cell": 0
   },
   "outputs": [],
   "source": [
    "import numpy as np\n",
    "import matplotlib.pyplot as plt\n",
    "import sys\n",
    "sys.path.extend( ['provided_functions', 'incomplete_functions', '../submodules'] )\n",
    "import filters\n",
    "import result_check as check\n",
    "from general_functions import tic, toc"
   ]
  },
  {
   "cell_type": "markdown",
   "metadata": {},
   "source": [
    "## Pre processing\n",
    "- on denoising, the boundary of size $\\frac{\\text{window_length}}2$ has to be omitted\n",
    "- padding of the signal can reduce unwanted behaviour\n",
    "- denoising is made up of three steps:<br>\n",
    "padding, smoothing, un-padding\n",
    "\n",
    "---\n",
    "__Task:__ Implement the 'periodic_padding' and 'un_padding' functions in the 'padding.py' file."
   ]
  },
  {
   "cell_type": "code",
   "execution_count": null,
   "metadata": {},
   "outputs": [],
   "source": [
    "check.periodic_padding()\n",
    "check.un_padding()"
   ]
  },
  {
   "cell_type": "markdown",
   "metadata": {},
   "source": [
    "## Moving average\n",
    "- the moving average filters a signal by computing the average (or mean) over neighbouring points in a window\n",
    "- it is defined as\n",
    "$$ \\widehat s_i = \\frac1{2m+1}\\sum\\limits_{j=i-m}^{i+m} \\bar s_{j} $$\n",
    "with $\\,\\widehat s_i$: denoised signal; $\\qquad m$: $\\frac{\\rm window length}2$ <br>´\n",
    "- __Note__ that $m$ is called $N$ in the lecture\n",
    "- boundary values can not be computed because: for $i=1$ and $m>1 \\,\\blacktriangleright\\,i-m <0$ \n",
    "- padding allows computation on the whole signal length<br>\n",
    "- after smoothing the signal has to be unpadded\n"
   ]
  },
  {
   "cell_type": "markdown",
   "metadata": {},
   "source": [
    "----------\n",
    "__Task:__ Implement the 'moving_average' in 'filters.py'."
   ]
  },
  {
   "cell_type": "code",
   "execution_count": null,
   "metadata": {
    "lines_to_next_cell": 0
   },
   "outputs": [],
   "source": [
    "check.moving_average( filters.moving_average)"
   ]
  },
  {
   "cell_type": "markdown",
   "metadata": {},
   "source": [
    "- averaging on a window of size $2m+1$ can be also seen as a convolution with a kernel of size $2m+1$<br>\n",
    "$\\quad \\blacktriangleright$ signal denoising just a convolution with a smoothing kernel\n",
    "- the implementation with convolutions via Fourier transform is significantly faster\n",
    "- if periodicity is assumed, padding is not required \n",
    "- if you have implemented periodic padding in _moving_average_, you can check if the results match"
   ]
  },
  {
   "cell_type": "markdown",
   "metadata": {
    "lines_to_next_cell": 0
   },
   "source": [
    "-----\n",
    "__Task:__ Implement the 'moving_average_conv' in 'filters.py'."
   ]
  },
  {
   "cell_type": "code",
   "execution_count": null,
   "metadata": {
    "lines_to_next_cell": 2
   },
   "outputs": [],
   "source": [
    "signal = np.random.rand( 128)\n",
    "check.moving_average(filters.moving_average_conv )\n",
    "tic( 'naive implemetation', silent=True )\n",
    "a = filters.moving_average( signal, window_length=5)\n",
    "toc( 'naive implemetation', precision=5 )\n",
    "tic( 'convolution implemetation', silent=True )\n",
    "b = filters.moving_average_conv( signal, window_length=5)\n",
    "toc( 'convolution implemetation', precision=5 )\n",
    "## if you deployed periodic padding uncomment the following line\n",
    "#assert np.allclose( a, b ), 'moving_average_conv and moving_average do not yield the same result'"
   ]
  },
  {
   "cell_type": "markdown",
   "metadata": {
    "lines_to_next_cell": 0
   },
   "source": [
    "#### Moving Average performance\n",
    "- the filter quality is highly affected by the window length<br>\n",
    "$\\quad$ smaller window length $\\blacktriangleright$ less noise damped<br>\n",
    "$\\quad$ bigger window length $\\blacktriangleright$ more information lost\n",
    "- finding a good approximation to the original signal requires finetuning of the parameters\n",
    "- for `window_length=1` and `window_length=signal_length` interesting phenomena can be observed\n",
    "\n",
    "----------\n",
    "__Task:__ Change the parameters and test out the moving average."
   ]
  },
  {
   "cell_type": "code",
   "execution_count": null,
   "metadata": {
    "lines_to_next_cell": 2
   },
   "outputs": [],
   "source": [
    "# Parameters to adjust\n",
    "noise_magnitude = 0.05\n",
    "n_steps         = 50\n",
    "window_length   = 1 \n",
    "\n",
    "x                = np.arange( 0, 2*np.pi, 2*np.pi/n_steps )\n",
    "original_signal  = np.sin( x) - np.cos(x) \n",
    "noise            = np.random.randn( n_steps) * noise_magnitude \n",
    "signal           = noise + original_signal \n",
    "#smoothed_signal = filters.#TODO( signal, window_length)\n",
    "\n",
    "fig, axes = plt.subplots( 1, 2, figsize=(10,5))\n",
    "axes[0].plot( x, signal, label='noisy signal')\n",
    "axes[0].plot( x, original_signal, alpha=0.5, label='original signal')\n",
    "axes[1].plot( x, smoothed_signal, label='recovered signal')\n",
    "axes[1].plot( x, original_signal, alpha=0.5, label='original signal')\n",
    "\n",
    "for ax in axes:\n",
    "    ax.legend()\n",
    "    ax.grid()\n",
    "    ax.set_xlabel( 'x [-]' )\n",
    "    ax.set_ylabel( 'y=f(x) [-]' )"
   ]
  },
  {
   "cell_type": "markdown",
   "metadata": {},
   "source": [
    "-------------\n",
    "---------------\n",
    "## Savitzky-Golay filtering\n",
    "- same principle: use neighbourhood information to smooth signal\n",
    "- moving average: $\\blacktriangleright$ linear 'kernel'\n",
    "- Savitzky-Golay: $\\blacktriangleright$ polynomial 'kernel'\n",
    "- a smoothing matrix $\\underline{\\underline{ \\beta}}$ will be defined, which is of shape  `(poly order+1, window length)`\n",
    "- the smoothing matrix can compute derivatives up to order of `poly order`\n",
    "- in each row of $\\underline{\\underline{ \\beta}}$, a filtering kernel for the requested derivative is set. <br> \n",
    "$\\quad \\blacktriangleright$ filter array can be precomputed\n",
    "- the coefficients for the filtering are computed in multiple steps\n",
    "    - discretize the interval with $\\xi_k = k,\\quad k\\in\\{-m,...,m\\}$, $\\quad$with $m =\\frac{\\rm window length}2$\n",
    "    - for each polynomial order compute the coefficients via $p(\\xi)_{\\rm order} = \\xi^{\\rm order}$, allocate into 2d-array $\\underline{\\underline P}$ (in each row one polynomial order)\n",
    "    - compute the smoothing/derivative coefficients $\\underline{\\underline{ \\beta}} = \\big(\\underline{\\underline P}\\, \\underline{\\underline P}^T \\big)^{-1}\\underline{\\underline P}$\n",
    "\n",
    "-----\n",
    "__Task:__ Implement the function `compute_filter` in 'filters.py'."
   ]
  },
  {
   "cell_type": "code",
   "execution_count": null,
   "metadata": {},
   "outputs": [],
   "source": [
    "window_length = 7\n",
    "poly_order    = 2\n",
    "check.precompute_savgol( poly_order, window_length) "
   ]
  },
  {
   "cell_type": "markdown",
   "metadata": {},
   "source": [
    "#### application of the filter\n",
    "- can be done with for loop, convolution or matrix multiplication<br>\n",
    "- requirements for matrix multiplication (via sparse matrices) already implemented\n",
    "- the computation of the $j$-th derivative of the noisy signal $\\bar s$ is given as $\\dfrac{\\partial^j \\bar s}{\\partial\\xi^j} \\,= \\beta_j * \\bar s\\,\\dfrac {j!}{h^j} \\qquad$ <br> with stepsize $h$ on the discrete signal\n",
    "---\n",
    "__Task:__ Implement the `apply_filter` function in 'filters.py'. Do a visual inspection of the results.<br>\n",
    "The derivatives will most likely have many _spikes_.\n"
   ]
  },
  {
   "cell_type": "code",
   "execution_count": null,
   "metadata": {},
   "outputs": [],
   "source": [
    "noise_magnitude = 0.05\n",
    "n_steps         = 50\n",
    "\n",
    "stepsize        = 2*np.pi/n_steps \n",
    "x               = np.arange( 0, 2*np.pi, stepsize)\n",
    "original_signal = (np.sin( x) - np.cos(x)  )\n",
    "signal          =  original_signal + np.random.randn( n_steps) * 0.05\n",
    "derivative_1    = np.cos(x) + np.sin(x)\n",
    "derivative_2    = -np.sin(x) + np.cos( x) \n",
    "\n",
    "precomputed_filter = filters.compute_filter( poly_order=3, window_length=7 )\n",
    "smoothed_signal    = filters.apply_filter( signal, precomputed_filter)\n",
    "derivatives        = filters.apply_filter( signal, precomputed_filter, derivative=[1,2], stepsize=stepsize  )\n",
    "\n",
    "fig, axes = plt.subplots( 1,3, figsize=(15,5))\n",
    "axes[0].plot( x, smoothed_signal, color='black', lw=1.5, label='smoothed signal' )\n",
    "axes[0].plot( x, signal, color='blue', alpha=0.5, label='noisy signal' )\n",
    "axes[0].plot( x, original_signal, color='blue', ls='--', alpha=0.5, label='original signal' )\n",
    "axes[1].plot( x, derivative_1, color='red', lw=1.5, label='true first derivative' )\n",
    "axes[1].plot( x, derivatives[:,0], color='black', lw=1.0, label='SavGol first derivative' )\n",
    "axes[2].plot( x, derivative_2, color='red', lw=1.5, label='true second derivative' )\n",
    "axes[2].plot( x, derivatives[:,1], color='black', lw=1.0, label='SavGol second derivative' )\n",
    "\n",
    "titles = [ 'smoothed signal', 'noiseless first derivative', 'noiseless second derivative'] \n",
    "for ax in axes:\n",
    "    ax.grid()\n",
    "    ax.legend()\n",
    "    ax.set_xlabel( 'x [-]' )\n",
    "    ax.set_ylabel( 'y=f(x) [-]' )\n",
    "    ax.set_title( titles.pop( 0) )"
   ]
  },
  {
   "cell_type": "markdown",
   "metadata": {},
   "source": [
    "#### Performance of the Savitzky-Golay\n",
    "- high polynomial orders leads to oscillations for small window lengths (c.f. interpolation)\n",
    "- depending on window length and poly order, the Savitzky Golay filter can be worse than the moving average\n",
    "- to compare results, we define the Mean Squared Error (MSE):\n",
    "$$ MSE = \\frac1n \\sum\\limits_{i=0}^{n-1} (x - \\hat x)^2 $$\n",
    "with $x$: solution  and   $\\hat x$: approximation\n",
    "\n",
    "------------\n",
    "__Task__: Define the MSE. Apply the Savitzky-Golay filter and compare it to the mean filter. Adjust and try out different parameters."
   ]
  },
  {
   "cell_type": "code",
   "execution_count": null,
   "metadata": {},
   "outputs": [],
   "source": [
    "n_steps         = 128\n",
    "mse             = lambda x, x_hat: #TODO\n",
    "#TODO also adjust these paramters\n",
    "noise_magnitude = 0.05 \n",
    "poly_order      = [1, 2, 4]\n",
    "window_length   = [ 5, 5, 55]\n",
    "\n",
    "x               = np.arange( 0, 2*np.pi, 2*np.pi/n_steps )\n",
    "original_signal = np.sin( x) - np.cos(x) \n",
    "noise           = np.random.randn( n_steps) * noise_magnitude \n",
    "signal          = noise + original_signal \n",
    "\n",
    "fig, axes     = plt.subplots( 1, len( poly_order), figsize=(15,5) )\n",
    "print( 'noisy signal <-> original signal MSE:{:.6f}'.format( mse( original_signal, signal) ))\n",
    "for i in range( len( window_length) ):\n",
    "    mean_filtered = filters.moving_average( signal, window_length[i] )\n",
    "    mse_averaging = mse( mean_filtered, original_signal)\n",
    "    print()\n",
    "    print( 'moving average window={}, MSE: {:.6f}'.format( window_length[i], mse_averaging) )    \n",
    "\n",
    "    print( 'Savitzy- Golay MSE:' )\n",
    "    for poly in poly_order:\n",
    "        precomputed_filter = #TODO\n",
    "        savgol_filtered    = #TODO\n",
    "        mse_savgol         = #TODO #compute the MSE w.r.t. original_signal\n",
    "\n",
    "        print( '\\t window={}, poly={}, MSE: {:.6f}'.format( window_length[i], poly, mse_savgol) ) \n",
    "        axes[i].plot( x, savgol_filtered, label='savgol poly order: {}'.format( poly ) )\n",
    "    axes[i].plot( x, mean_filtered, label='moving average')\n",
    "\n",
    "    axes[i].set_title( 'window length {}'.format( window_length[i] ))\n",
    "    axes[i].legend()"
   ]
  },
  {
   "cell_type": "markdown",
   "metadata": {},
   "source": [
    "## Derivatives the Savitzky-Golay filter\n",
    "- higher order derivatives can be immediately computed\n",
    "- noise, usually very random and steep, creates spikes in the derivatives\n",
    "- generally poor higher order derivatives\n",
    "- signals can be filtered multiple times, each time, generally more information is lost, but more noise is reduced<br>\n",
    "- multiple instances of smoothing and derivative computation yield smooth derivatives\n",
    "\n",
    "---------------\n",
    "__Task:__ Change the parameters to obtain a good approximation of the second derivative.\n",
    "A MSE $\\approx 0.01$ can be achieved."
   ]
  },
  {
   "cell_type": "code",
   "execution_count": null,
   "metadata": {
    "lines_to_next_cell": 2
   },
   "outputs": [],
   "source": [
    "noise_magnitude = 0.15\n",
    "n_steps         = 50\n",
    "\n",
    "stepsize        = 2*np.pi/n_steps \n",
    "x               = np.arange( 0, 2*np.pi, stepsize)\n",
    "original_signal = (np.sin( x) - np.cos(x)  )\n",
    "signal          = original_signal + np.random.randn( n_steps) * 0.05\n",
    "derivative_1    = np.cos(x) + np.sin(x)\n",
    "derivative_2    = -np.sin(x) + np.cos( x) \n",
    "\n",
    "precomputed_filter = filters.compute_filter( poly_order=3, window_length=7 )\n",
    "smoothed_signal    = filters.apply_filter( signal, precomputed_filter, derivative=[0,1])\n",
    "first_derivative = smoothed_signal[ :,1] \n",
    "#TODO... #add more steps of signal processing\n",
    "second_derivative = #TODO\n",
    "#Note that the second derivative is the first derivative of the first derivative\n",
    "\n",
    "# Compare the second derivatives\n",
    "mse_derivative2 = mse( derivative_2, second_derivative)\n",
    "print('MSE for second derivative: {}'.format(mse_derivative2))\n",
    "\n",
    "### Plot\n",
    "fig, axes = plt.subplots( 1,3, figsize=(15,5))\n",
    "axes[0].plot( x, smoothed_signal, color='black', lw=1.5, label='smoothed signal' )\n",
    "axes[0].plot( x, signal, color='blue', alpha=0.5, label='noisy signal' )\n",
    "axes[0].plot( x, original_signal, color='blue', ls='--', alpha=0.5, label='original signal' )\n",
    "axes[1].plot( x, derivative_1, color='red', lw=1.5, label='true first derivative' )\n",
    "axes[1].plot( x, first_derivative, color='black', lw=1.0, label='SavGol first derivative' )\n",
    "axes[2].plot( x, derivative_2, color='red', lw=1.5, label='true second derivative' )\n",
    "axes[2].plot( x, second_derivative, color='black', lw=1.0, label='SavGol second derivative' )\n",
    "\n",
    "titles = [ 'smoothed signal', 'first derivative', 'second derivative'] \n",
    "for ax in axes:\n",
    "    ax.grid()\n",
    "    ax.legend()\n",
    "    ax.set_xlabel( 'x [-]' )\n",
    "    ax.set_ylabel( 'y=f(x) [-]' )\n",
    "    ax.set_title( titles.pop( 0) )\n",
    "    ax.set_ylim( ymin=-1.5, ymax=1.5 )\n"
   ]
  },
  {
   "cell_type": "markdown",
   "metadata": {},
   "source": [
    "## Scipy implementation\n",
    "- scipy also comes with the Savitzky-Golay filter\n",
    "- the function is found under `scipy.signal.savgol_filter` <br>\n",
    "$\\quad$ use `help( savgol_filter)` for reference\n",
    "\n",
    "---\n",
    "__Task:__ Compare your implementation to the Savitzy-Golay implementation to scipys implementation"
   ]
  },
  {
   "cell_type": "code",
   "execution_count": null,
   "metadata": {
    "lines_to_next_cell": 0
   },
   "outputs": [],
   "source": [
    "from scipy.#TODO\n",
    "#help( savgol_filter) \n",
    "\n",
    "\n",
    "scipy_filtered = #TODO\n",
    "\n",
    "fig, ax = plt.subplots(figsize=(8,6))\n",
    "ax.plot( x, smoothed_signal, color='black', lw=1.5, label='manual implementation' )\n",
    "ax.plot( x, scipy_filtered, color='red', lw=1.0, label='scipy implementation' )\n",
    "ax.plot( x, signal, color='blue', alpha=0.5, label='noisy signal' )\n",
    "ax.plot( x, original_signal, color='blue', ls='--', alpha=0.5, label='original signal' )\n",
    "ax.grid()\n",
    "ax.legend()"
   ]
  }
 ],
 "metadata": {
  "kernelspec": {
   "display_name": "Python 3 (Spyder)",
   "language": "python3",
   "name": "python3"
  },
  "language_info": {
   "codemirror_mode": {
    "name": "ipython",
    "version": 3
   },
   "file_extension": ".py",
   "mimetype": "text/x-python",
   "name": "python",
   "nbconvert_exporter": "python",
   "pygments_lexer": "ipython3",
   "version": "3.7.8"
  }
 },
 "nbformat": 4,
 "nbformat_minor": 4
}
