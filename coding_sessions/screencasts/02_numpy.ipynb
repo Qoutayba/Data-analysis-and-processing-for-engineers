{
 "cells": [
  {
   "cell_type": "markdown",
   "metadata": {},
   "source": [
    "\n",
    "# numpy Introduction\n",
    "Author: Julian Lißner<br>\n",
    "For questions and feedback please write a mail to: [lissner@mib.uni-stuttgart.de](mailto:lissner@mib.uni-stuttgart.de)\n"
   ]
  },
  {
   "cell_type": "markdown",
   "metadata": {},
   "source": [
    "## numpy...\n",
    "- is at the top of almost every script\n",
    "- brings matrix operations to python\n",
    "- comes with additional functionalities/subpackages"
   ]
  },
  {
   "cell_type": "code",
   "execution_count": 1,
   "metadata": {},
   "outputs": [],
   "source": [
    "import numpy as np"
   ]
  },
  {
   "cell_type": "markdown",
   "metadata": {},
   "source": [
    "## Creating arrays"
   ]
  },
  {
   "cell_type": "code",
   "execution_count": 12,
   "metadata": {},
   "outputs": [
    {
     "name": "stdout",
     "output_type": "stream",
     "text": [
      "x =  [2 5 1]\n",
      "A =  [[2 5 2]\n",
      " [1 4 3]]\n",
      "A.T =  [[2 1]\n",
      " [5 4]\n",
      " [2 3]]\n",
      "I =  [[1. 0. 0.]\n",
      " [0. 1. 0.]\n",
      " [0. 0. 1.]]\n",
      "II =  [[1. 1. 1.]\n",
      " [1. 1. 1.]]\n",
      "w =  [ 0  1  2  3  4  5  6  7  8  9 10 11 12 13 14 15 16 17 18 19 20 21 22 23\n",
      " 24 25 26 27 28 29 30 31 32 33 34 35 36 37 38 39 40 41 42 43 44 45 46 47\n",
      " 48 49 50 51 52 53 54 55 56 57 58 59 60 61 62 63 64 65 66 67 68 69 70 71]\n",
      "B =  [[0.7642962  0.72420473 0.0505443  0.3434011  0.49923602 0.8264337\n",
      "  0.6735265  0.79052027 0.34225518 0.90444451 0.43242669 0.23156176]\n",
      " [0.33433201 0.34290125 0.06793009 0.45252259 0.31398802 0.86888686\n",
      "  0.57798587 0.31929285 0.31184359 0.50297337 0.18428207 0.4829115 ]\n",
      " [0.14653438 0.29157605 0.47093966 0.3924841  0.51745691 0.1142705\n",
      "  0.23428983 0.12276462 0.62964241 0.35750141 0.06210851 0.771991  ]\n",
      " [0.96984639 0.19013572 0.25953095 0.41345897 0.39127429 0.15699914\n",
      "  0.30196991 0.67932448 0.10103357 0.93074785 0.34393931 0.59858511]\n",
      " [0.50860054 0.47503655 0.85389645 0.14540447 0.1807719  0.94763339\n",
      "  0.91094949 0.79261175 0.06003817 0.98429566 0.08621302 0.56797671]\n",
      " [0.93725496 0.43271094 0.46942423 0.81379944 0.82888044 0.47286622\n",
      "  0.31798298 0.38956727 0.27431358 0.91202039 0.21882404 0.11508755]]\n",
      "U =  [[ 0  1  2  3  4  5]\n",
      " [ 6  7  8  9 10 11]\n",
      " [12 13 14 15 16 17]\n",
      " [18 19 20 21 22 23]\n",
      " [24 25 26 27 28 29]\n",
      " [30 31 32 33 34 35]\n",
      " [36 37 38 39 40 41]\n",
      " [42 43 44 45 46 47]\n",
      " [48 49 50 51 52 53]\n",
      " [54 55 56 57 58 59]\n",
      " [60 61 62 63 64 65]\n",
      " [66 67 68 69 70 71]]\n"
     ]
    }
   ],
   "source": [
    "x = np.array( [ 2, 5,1] )\n",
    "A = np.array( [ [2,5 ,2], [ 1, 4, 3] ] )\n",
    "I = np.eye( 3) \n",
    "B = np.random.rand( 6, 12)\n",
    "II = np.ones( (2,3 ) )\n",
    "w = np.arange( 12* 6)\n",
    "U = np.reshape( w, (12, 6) )\n",
    "\n",
    "G = np.zeros( (4, 3) )\n",
    "#print(G)\n",
    "#print(G.shape[0] )\n",
    "for i in range( 3):\n",
    "    G[ :,i] = np.arange( G.shape[0] )**i \n",
    "    #print(G)\n",
    "print(\"x = \",x)\n",
    "print(\"A = \",A)\n",
    "print(\"A.T = \",A.T)\n",
    "print(\"I = \",I)\n",
    "print(\"II = \",II)\n",
    "print(\"w = \",w)\n",
    "print(\"B = \",B)\n",
    "print(\"U = \",U)"
   ]
  },
  {
   "cell_type": "markdown",
   "metadata": {},
   "source": [
    "## Accessing elements\n",
    "\n",
    "- element can be accessed by index brackets `[ ]` <br>\n",
    "$\\quad$ with indices: `array[i, j]` <br>\n",
    "$\\quad$ or slices: `array[ start:stop:increment, :stop]`<br>\n",
    "$\\quad$ or combinations of those\n"
   ]
  },
  {
   "cell_type": "code",
   "execution_count": 11,
   "metadata": {},
   "outputs": [
    {
     "name": "stdout",
     "output_type": "stream",
     "text": [
      "A =  [[ 0  1  2]\n",
      " [ 3  4  5]\n",
      " [ 6  7  8]\n",
      " [ 9 10 11]]\n",
      "two integer 0\n",
      "list and integer [2 5]\n",
      "one integer at the first index [ 9 10 11]\n",
      "one integer at the last index [ 2  5  8 11]\n",
      "only list\n",
      " [[3 4 5]\n",
      " [6 7 8]]\n",
      "only tuple\n",
      " 10\n",
      "type of a slice <class 'numpy.ndarray'>\n",
      "type of a slice [[ 2]\n",
      " [ 5]\n",
      " [ 8]\n",
      " [11]]\n",
      "slices\n",
      " [[2 1 0]\n",
      " [8 7 6]]\n"
     ]
    }
   ],
   "source": [
    "A = np.arange( 4*3).reshape( 4, 3)\n",
    "\n",
    "print(\"A = \",A)\n",
    "print( 'two integer', A[0, 0] )\n",
    "print( 'list and integer', A[ [0,1], -1 ] )\n",
    "print( 'one integer at the first index', A[ 3] )\n",
    "print( 'one integer at the last index', A[ ..., 2] )\n",
    "print( 'only list\\n', A[ [1, 2] ])\n",
    "print( 'only tuple\\n', A[ (-1, -2) ])\n",
    "print( 'type of a slice', type( A[...,4:] ) )\n",
    "print( 'type of a slice', A[...,2:]  )\n",
    "print( 'slices\\n', A[::2, 3::-1])"
   ]
  },
  {
   "cell_type": "markdown",
   "metadata": {},
   "source": [
    "------\n",
    "------"
   ]
  },
  {
   "cell_type": "markdown",
   "metadata": {},
   "source": [
    "## Array operations\n",
    "\n",
    "#### Matrix multiplication\n",
    "- numpy adds the _@_ operator\n",
    "- np.einsum, np.dot, np.matmul, ... <br>\n",
    "$\n",
    "C_{ik} = \\sum\\limits_{j=0}^{n-1} b_{ij}u_{jk} \\, \\widehat= \\,  B_{ij}\\, U_{jk}\n",
    "$<br>\n",
    "$C=$ components $\\hat=$ Einstein notation"
   ]
  },
  {
   "cell_type": "code",
   "execution_count": 13,
   "metadata": {
    "lines_to_next_cell": 2
   },
   "outputs": [
    {
     "name": "stdout",
     "output_type": "stream",
     "text": [
      "[[242.93613    143.61444321 244.56002585 197.01163793 201.02527556\n",
      "  236.00097027]\n",
      " [249.34718308 149.04081113 251.36746936 203.4796473  205.92301491\n",
      "  242.45991564]\n",
      " [255.75823616 154.46717905 258.17491287 209.94765667 210.82075427\n",
      "  248.918861  ]\n",
      " [262.16928924 159.89354697 264.98235638 216.41566605 215.71849363\n",
      "  255.37780637]\n",
      " [268.58034233 165.3199149  271.78979989 222.88367542 220.61623298\n",
      "  261.83675173]\n",
      " [274.99139541 170.74628282 278.5972434  229.3516848  225.51397234\n",
      "  268.2956971 ]]\n"
     ]
    }
   ],
   "source": [
    "C = np.matmul( B, U)\n",
    "C = B @ U #matrix multiplication\n",
    "b = np.einsum( 'ij, ki -> jk', U, B ) # U.T @ B.T\n",
    "assert ( B @ U == np.matmul( B, U)).all()\n",
    "print(b)"
   ]
  },
  {
   "cell_type": "code",
   "execution_count": 18,
   "metadata": {
    "lines_to_next_cell": 2
   },
   "outputs": [
    {
     "name": "stdout",
     "output_type": "stream",
     "text": [
      "A.shape : (4, 5)\n",
      "x.shape : (5,)\n",
      "1d-arrays: x == x.T\n",
      "are b and c equal? True\n"
     ]
    }
   ],
   "source": [
    "print( 'A.shape :',  A.shape)\n",
    "print( 'x.shape :',  x.shape)\n",
    "\n",
    "if (x == x.T).all():\n",
    "    print( '1d-arrays: x == x.T') \n",
    "b = A @ x\n",
    "c = x @ A.T\n",
    "#d = A.T @ x.T\n",
    "print( 'are b and c equal?', (b==c).all() )"
   ]
  },
  {
   "cell_type": "markdown",
   "metadata": {
    "lines_to_next_cell": 0
   },
   "source": [
    "- python operators ( +, -, ...) are __always__ element wise\n",
    "- element operations are always applied to the last slot "
   ]
  },
  {
   "cell_type": "code",
   "execution_count": 16,
   "metadata": {},
   "outputs": [
    {
     "name": "stdout",
     "output_type": "stream",
     "text": [
      "[ 6  9 12]\n"
     ]
    }
   ],
   "source": [
    "x = np.array( [ 3, 6, 9] ) \n",
    "y = x + 3\n",
    "print( y)"
   ]
  },
  {
   "cell_type": "code",
   "execution_count": 17,
   "metadata": {
    "lines_to_next_cell": 0
   },
   "outputs": [
    {
     "name": "stdout",
     "output_type": "stream",
     "text": [
      "x *0.2 : [0.  0.2 0.4 0.6 0.8]\n",
      "A:\n",
      " [[1. 1. 1. 1. 1.]\n",
      " [1. 1. 1. 1. 1.]\n",
      " [1. 1. 1. 1. 1.]\n",
      " [1. 1. 1. 1. 1.]]\n",
      "A*2:\n",
      " [[2. 2. 2. 2. 2.]\n",
      " [2. 2. 2. 2. 2.]\n",
      " [2. 2. 2. 2. 2.]\n",
      " [2. 2. 2. 2. 2.]]\n"
     ]
    }
   ],
   "source": [
    "x = np.arange( 5)\n",
    "A = np.ones( ( 4,5)) \n",
    "print( 'x *0.2 :',  x *0.2)\n",
    "print( 'A:\\n',  A)\n",
    "A = A * 2\n",
    "print( 'A*2:\\n',  A) "
   ]
  },
  {
   "cell_type": "code",
   "execution_count": 21,
   "metadata": {
    "lines_to_next_cell": 0
   },
   "outputs": [
    {
     "name": "stdout",
     "output_type": "stream",
     "text": [
      "x**2 : [ 0  1  4  9 16]\n",
      "x@ x : 30\n",
      "x* x : [ 0  1  4  9 16]\n",
      "A * A : [[4. 4. 4. 4. 4.]\n",
      " [4. 4. 4. 4. 4.]\n",
      " [4. 4. 4. 4. 4.]\n",
      " [4. 4. 4. 4. 4.]]\n"
     ]
    }
   ],
   "source": [
    "print( 'x**2 :',  x**2)\n",
    "print( 'x@ x :',  x@ x)\n",
    "print( 'x* x :',  x* x)\n",
    "print( 'A * A :',  A * A)"
   ]
  },
  {
   "cell_type": "code",
   "execution_count": 22,
   "metadata": {
    "lines_to_next_cell": 0
   },
   "outputs": [
    {
     "name": "stdout",
     "output_type": "stream",
     "text": [
      "A.shape : (4, 5)\n",
      "x.shape : (5,)\n",
      "A * x : [[0. 2. 4. 6. 8.]\n",
      " [0. 2. 4. 6. 8.]\n",
      " [0. 2. 4. 6. 8.]\n",
      " [0. 2. 4. 6. 8.]]\n",
      "x *A  : [[0. 2. 4. 6. 8.]\n",
      " [0. 2. 4. 6. 8.]\n",
      " [0. 2. 4. 6. 8.]\n",
      " [0. 2. 4. 6. 8.]]\n"
     ]
    }
   ],
   "source": [
    "print( 'A.shape :',  A.shape)\n",
    "print( 'x.shape :',  x.shape)\n",
    "print( 'A * x :',  A * x) \n",
    "print( 'x *A  :',  x *A ) "
   ]
  },
  {
   "cell_type": "code",
   "execution_count": 25,
   "metadata": {
    "lines_to_next_cell": 0
   },
   "outputs": [
    {
     "ename": "ValueError",
     "evalue": "operands could not be broadcast together with shapes (5,4) (5,) ",
     "output_type": "error",
     "traceback": [
      "Traceback \u001b[1;36m(most recent call last)\u001b[0m:\n",
      "\u001b[1;36m  File \u001b[1;32m\"C:\\Users\\Qoutayba\\AppData\\Local\\Temp/ipykernel_1992/986405384.py\"\u001b[1;36m, line \u001b[1;32m1\u001b[1;36m, in \u001b[1;35m<module>\u001b[1;36m\u001b[0m\n\u001b[1;33m    print( 'A.T * x :',  A.T * x)\u001b[0m\n",
      "\u001b[1;31mValueError\u001b[0m\u001b[1;31m:\u001b[0m operands could not be broadcast together with shapes (5,4) (5,) \n"
     ]
    }
   ],
   "source": [
    "print( 'A.T * x :',  A.T * x) "
   ]
  },
  {
   "cell_type": "code",
   "execution_count": 26,
   "metadata": {
    "lines_to_next_cell": 0
   },
   "outputs": [
    {
     "ename": "ValueError",
     "evalue": "operands could not be broadcast together with shapes (5,) (5,4) ",
     "output_type": "error",
     "traceback": [
      "Traceback \u001b[1;36m(most recent call last)\u001b[0m:\n",
      "\u001b[1;36m  File \u001b[1;32m\"C:\\Users\\Qoutayba\\AppData\\Local\\Temp/ipykernel_1992/1427318642.py\"\u001b[1;36m, line \u001b[1;32m1\u001b[1;36m, in \u001b[1;35m<module>\u001b[1;36m\u001b[0m\n\u001b[1;33m    print( 'x * A.T  :',  x * A.T )\u001b[0m\n",
      "\u001b[1;31mValueError\u001b[0m\u001b[1;31m:\u001b[0m operands could not be broadcast together with shapes (5,) (5,4) \n"
     ]
    }
   ],
   "source": [
    "print( 'x * A.T  :',  x * A.T ) "
   ]
  },
  {
   "cell_type": "markdown",
   "metadata": {},
   "source": [
    "- A.shape == ( 10, 12), x.shape == (12,) $\\to$ A\\*x works\n",
    "- A.shape == ( 10, 12, 5), x.shape == (12, 5) $\\to$ A\\*x works\n",
    "- A.shape == ( 10, 12), x.shape == (10, 12) $\\to$ A\\*x works\n",
    "\n",
    "----\n",
    "---- \n"
   ]
  },
  {
   "cell_type": "markdown",
   "metadata": {},
   "source": [
    "## Array methods\n",
    "- numpy arrays are objects\n",
    "- recall lists, `object.method()`"
   ]
  },
  {
   "cell_type": "code",
   "execution_count": 27,
   "metadata": {
    "lines_to_next_cell": 0
   },
   "outputs": [
    {
     "name": "stdout",
     "output_type": "stream",
     "text": [
      "numpy function: 10 object function: 10\n",
      "attribute shape: (72,)\n",
      "(12, 6) last index size: 6\n",
      "\n",
      "m originally:\t [ 0.25713046  1.59715491  2.32304986 -0.97838556]\n",
      "m after sum:\t [ 0.25713046  1.59715491  2.32304986 -0.97838556]\n",
      "sum of m:\t 3.1989496776643556\n",
      "m after sorting: [-0.97838556  0.25713046  1.59715491  2.32304986]\n",
      "new variable z: None\n"
     ]
    }
   ],
   "source": [
    "print( 'numpy function:', np.sum( x), 'object function:', x.sum() )\n",
    "y = w.reshape( 12, 6)\n",
    "print( 'attribute shape:', w.shape )\n",
    "print( y.shape, 'last index size:', y.shape[-1])\n",
    "print()\n",
    "#However\n",
    "m = np.random.randn( 4)\n",
    "print( 'm originally:\\t', m)\n",
    "\n",
    "s = m.sum()\n",
    "print( 'm after sum:\\t', m )\n",
    "print( 'sum of m:\\t', s )\n",
    "\n",
    "z = m.sort()\n",
    "print( 'm after sorting:', m)\n",
    "print( 'new variable z:', z)"
   ]
  },
  {
   "cell_type": "markdown",
   "metadata": {},
   "source": [
    "$\\to$ read `help()` documentation"
   ]
  },
  {
   "cell_type": "code",
   "execution_count": 13,
   "metadata": {
    "lines_to_next_cell": 2
   },
   "outputs": [],
   "source": [
    "#help( np.ndarray.sort)\n",
    "#help( y.sort )"
   ]
  },
  {
   "cell_type": "markdown",
   "metadata": {
    "lines_to_next_cell": 0
   },
   "source": [
    "## numpy packages\n",
    "- linalg, random, fft, doc\n",
    "- lib, polynomial, testing, f2py, distutils"
   ]
  },
  {
   "cell_type": "code",
   "execution_count": 28,
   "metadata": {
    "lines_to_next_cell": 0
   },
   "outputs": [
    {
     "name": "stdout",
     "output_type": "stream",
     "text": [
      "there are multiple ways to import subpackages \n"
     ]
    }
   ],
   "source": [
    "import numpy as np\n",
    "import numpy.linalg as la_2\n",
    "from numpy import linalg as la\n",
    "\n",
    "if np.linalg.det is la.det and la.det is la_2.det:\n",
    "    print( 'there are multiple ways to import subpackages ')"
   ]
  },
  {
   "cell_type": "code",
   "execution_count": 29,
   "metadata": {},
   "outputs": [
    {
     "name": "stdout",
     "output_type": "stream",
     "text": [
      "LinAlgError\n",
      "cholesky\n",
      "cond\n",
      "det\n",
      "eig\n",
      "eigh\n",
      "eigvals\n",
      "eigvalsh\n",
      "inv\n",
      "lapack_lite\n",
      "linalg\n",
      "lstsq\n",
      "matrix_power\n",
      "matrix_rank\n",
      "multi_dot\n",
      "norm\n",
      "pinv\n",
      "qr\n",
      "slogdet\n",
      "solve\n",
      "svd\n",
      "tensorinv\n",
      "tensorsolve\n",
      "test\n"
     ]
    }
   ],
   "source": [
    "_ = [print( x) for x in dir( np.linalg) if x[0] != '_']"
   ]
  },
  {
   "cell_type": "code",
   "execution_count": 30,
   "metadata": {},
   "outputs": [
    {
     "name": "stdout",
     "output_type": "stream",
     "text": [
      "Help on function det in module numpy.linalg:\n",
      "\n",
      "det(a)\n",
      "    Compute the determinant of an array.\n",
      "    \n",
      "    Parameters\n",
      "    ----------\n",
      "    a : (..., M, M) array_like\n",
      "        Input array to compute determinants for.\n",
      "    \n",
      "    Returns\n",
      "    -------\n",
      "    det : (...) array_like\n",
      "        Determinant of `a`.\n",
      "    \n",
      "    See Also\n",
      "    --------\n",
      "    slogdet : Another way to represent the determinant, more suitable\n",
      "      for large matrices where underflow/overflow may occur.\n",
      "    scipy.linalg.det : Similar function in SciPy.\n",
      "    \n",
      "    Notes\n",
      "    -----\n",
      "    \n",
      "    .. versionadded:: 1.8.0\n",
      "    \n",
      "    Broadcasting rules apply, see the `numpy.linalg` documentation for\n",
      "    details.\n",
      "    \n",
      "    The determinant is computed via LU factorization using the LAPACK\n",
      "    routine ``z/dgetrf``.\n",
      "    \n",
      "    Examples\n",
      "    --------\n",
      "    The determinant of a 2-D array [[a, b], [c, d]] is ad - bc:\n",
      "    \n",
      "    >>> a = np.array([[1, 2], [3, 4]])\n",
      "    >>> np.linalg.det(a)\n",
      "    -2.0 # may vary\n",
      "    \n",
      "    Computing determinants for a stack of matrices:\n",
      "    \n",
      "    >>> a = np.array([ [[1, 2], [3, 4]], [[1, 2], [2, 1]], [[1, 3], [3, 1]] ])\n",
      "    >>> a.shape\n",
      "    (3, 2, 2)\n",
      "    >>> np.linalg.det(a)\n",
      "    array([-2., -3., -8.])\n",
      "\n"
     ]
    }
   ],
   "source": [
    "help( np.linalg.det)"
   ]
  },
  {
   "cell_type": "code",
   "execution_count": 33,
   "metadata": {
    "lines_to_next_cell": 0
   },
   "outputs": [],
   "source": [
    "x = np.random.randn( 15, 41 )\n",
    "C = np.random.rand( 20, 20)\n",
    "s = np.linalg.det( C) \n",
    "f = np.fft.fft2( x)\n",
    "L, V = np.linalg.eig( C)\n",
    "U, S, V = np.linalg.svd( C)\n",
    "F = np.linalg.inv( C)"
   ]
  },
  {
   "cell_type": "code",
   "execution_count": 34,
   "metadata": {},
   "outputs": [
    {
     "name": "stdout",
     "output_type": "stream",
     "text": [
      "(20, 20) (20,) (20, 20)\n"
     ]
    }
   ],
   "source": [
    "print( U.shape, S.shape, V.shape)\n",
    "C_hat = (U * S ) @ V"
   ]
  },
  {
   "cell_type": "code",
   "execution_count": 35,
   "metadata": {},
   "outputs": [
    {
     "name": "stdout",
     "output_type": "stream",
     "text": [
      "array correctly reassembled\n"
     ]
    }
   ],
   "source": [
    "if np.allclose( C, C_hat):\n",
    "    print( 'array correctly reassembled')\n",
    "else:\n",
    "    print( 'array not correctly reassembled')"
   ]
  },
  {
   "cell_type": "code",
   "execution_count": null,
   "metadata": {},
   "outputs": [],
   "source": []
  }
 ],
 "metadata": {
  "kernelspec": {
   "display_name": "Python 3 (Spyder)",
   "language": "python3",
   "name": "python3"
  },
  "language_info": {
   "codemirror_mode": {
    "name": "ipython",
    "version": 3
   },
   "file_extension": ".py",
   "mimetype": "text/x-python",
   "name": "python",
   "nbconvert_exporter": "python",
   "pygments_lexer": "ipython3",
   "version": "3.8.11"
  }
 },
 "nbformat": 4,
 "nbformat_minor": 4
}
