{
 "cells": [
  {
   "cell_type": "markdown",
   "metadata": {},
   "source": [
    "# Python Introduction\n",
    "\n",
    "Author: Julian Lißner<br>\n",
    "For questions and feedback please write a mail to: [lissner@mib.uni-stuttgart.de](mailto:lissner@mib.uni-stuttgart.de)\n",
    "-----------------\n",
    "\n",
    "## Python is...\n",
    "- a dynamic programming language\n",
    "- an interpreted language\n",
    "- comparatively fast\n",
    "- becoming the most popular programming language\n",
    "- relatively easy to learn\n",
    "- focused on readability\n",
    "- using module imports"
   ]
  },
  {
   "cell_type": "markdown",
   "metadata": {},
   "source": [
    "Python has a '[pep guide](https://www.python.org/dev/peps/)'"
   ]
  },
  {
   "cell_type": "code",
   "execution_count": 1,
   "metadata": {},
   "outputs": [
    {
     "name": "stdout",
     "output_type": "stream",
     "text": [
      "a       <class 'int'> 5\n",
      "b       <class 'float'> 2.6\n",
      "c       <class 'int'> 3\n",
      "a+b     <class 'float'> 7.6\n",
      "c-b     <class 'float'> 0.3999999999999999\n",
      "a*c     <class 'int'> 15\n",
      "a/c     <class 'float'> 1.6666666666666667\n",
      "a//c    <class 'int'> 1\n",
      "a**b    <class 'float'> 65.6631951100942\n",
      "c**0.5  <class 'float'> 1.7320508075688772\n",
      "b % 1   <class 'float'> 0.6000000000000001\n"
     ]
    }
   ],
   "source": [
    "a = 5\n",
    "b = 2.6\n",
    "c = 2\n",
    "c += 1\n",
    "print( 'a      ', type( a), a)\n",
    "print( 'b      ', type( b), b)\n",
    "print( 'c      ', type( c), c)\n",
    "print( 'a+b    ', type( a+b), a+b )\n",
    "print( 'c-b    ', type( c-b), c-b )\n",
    "print( 'a*c    ', type( a*c), a*c )\n",
    "print( 'a/c    ', type( a/c), a/c )\n",
    "print( 'a//c   ', type( a//c), a//c )\n",
    "print( 'a**b   ', type( a**b), a**b )\n",
    "print( 'c**0.5 ', type( c**0.5), c**0.5)\n",
    "print( 'b % 1  ', type( b % 1),  b % 1)"
   ]
  },
  {
   "cell_type": "markdown",
   "metadata": {
    "lines_to_next_cell": 0
   },
   "source": [
    "### strings"
   ]
  },
  {
   "cell_type": "code",
   "execution_count": 3,
   "metadata": {
    "lines_to_next_cell": 2
   },
   "outputs": [
    {
     "name": "stdout",
     "output_type": "stream",
     "text": [
      "<class 'str'> first, second part\n",
      "first: this is a string with 3 formats of different datatypes\n"
     ]
    }
   ],
   "source": [
    "a = 'first'\n",
    "b = \"second part\"\n",
    "print( type( a+b), a + ', ' + b )\n",
    "c = '{}: this {} a string with {} {} of different datatypes'.format( a, 'is', 3, 'formats' )\n",
    "print( c)"
   ]
  },
  {
   "cell_type": "markdown",
   "metadata": {},
   "source": [
    "### python objects\n",
    "- dictionaries\n",
    "- lists, tuples\n",
    "- set"
   ]
  },
  {
   "cell_type": "code",
   "execution_count": 7,
   "metadata": {},
   "outputs": [
    {
     "name": "stdout",
     "output_type": "stream",
     "text": [
      "{'key': 'value', 'variable': 3}\n",
      "{'key': 'value', 'variable': 4}\n"
     ]
    }
   ],
   "source": [
    "my_dict1 = dict( key='value', variable=3)\n",
    "my_dict2 = { 'key':'value', 'variable':4 }\n",
    "\n",
    "print( my_dict1)\n",
    "print( my_dict2)"
   ]
  },
  {
   "cell_type": "code",
   "execution_count": 8,
   "metadata": {},
   "outputs": [
    {
     "name": "stdout",
     "output_type": "stream",
     "text": [
      "[1, 2, 3]\n",
      "(1, 2, 3)\n"
     ]
    }
   ],
   "source": [
    "my_list1 = list( (1,2,3 ) )\n",
    "my_list2 = [1,2,3]\n",
    "my_tuple1 = ( 3,4,5)\n",
    "my_tuple2 = tuple( ( 4,1,2) )\n",
    "my_tuple3 = tuple( my_list2)\n",
    "\n",
    "print( my_list2)\n",
    "print()"
   ]
  },
  {
   "cell_type": "code",
   "execution_count": 9,
   "metadata": {
    "lines_to_next_cell": 0
   },
   "outputs": [
    {
     "name": "stdout",
     "output_type": "stream",
     "text": [
      "[1, 2, 3, 2]\n"
     ]
    }
   ],
   "source": [
    "a = my_list2 + [2] \n",
    "print(a)"
   ]
  },
  {
   "cell_type": "code",
   "execution_count": 11,
   "metadata": {},
   "outputs": [
    {
     "ename": "TypeError",
     "evalue": "can only concatenate tuple (not \"int\") to tuple",
     "output_type": "error",
     "traceback": [
      "Traceback \u001b[1;36m(most recent call last)\u001b[0m:\n",
      "\u001b[1;36m  File \u001b[1;32m\"C:\\Users\\Qoutayba\\AppData\\Local\\Temp/ipykernel_9992/820321014.py\"\u001b[1;36m, line \u001b[1;32m1\u001b[1;36m, in \u001b[1;35m<module>\u001b[1;36m\u001b[0m\n\u001b[1;33m    b = my_tuple2 + (2)\u001b[0m\n",
      "\u001b[1;31mTypeError\u001b[0m\u001b[1;31m:\u001b[0m can only concatenate tuple (not \"int\") to tuple\n"
     ]
    }
   ],
   "source": [
    "b = my_tuple2 + (2) "
   ]
  },
  {
   "cell_type": "code",
   "execution_count": 10,
   "metadata": {},
   "outputs": [
    {
     "name": "stdout",
     "output_type": "stream",
     "text": [
      "{1, 2, 3, 4, 9}\n",
      "{1, 2, 5, 6}\n"
     ]
    }
   ],
   "source": [
    "some_list = [ 1, 2, 3 ,2, 4, 9, 1, 2]\n",
    "my_set1 = set( some_list)\n",
    "my_set2 = { 1,5, 1, 6, 1, 2, 1}\n",
    "print( my_set1)\n",
    "print( my_set2)"
   ]
  },
  {
   "cell_type": "markdown",
   "metadata": {},
   "source": [
    "---------------\n",
    "---------------"
   ]
  },
  {
   "cell_type": "markdown",
   "metadata": {},
   "source": [
    "## lists\n",
    "- can store anything\n",
    "- are very powerful tools\n",
    "- are objects with methods/functions"
   ]
  },
  {
   "cell_type": "code",
   "execution_count": 2,
   "metadata": {},
   "outputs": [
    {
     "name": "stdout",
     "output_type": "stream",
     "text": [
      "number of elements in my list 5\n",
      "[1, 'string', -4514.581875184, ['another', 'list'], <built-in function print>]\n"
     ]
    }
   ],
   "source": [
    "my_list = [ 1, 'string', -4514.581875184, [ 'another', 'list'], print]\n",
    "print( 'number of elements in my list', len( my_list) )\n",
    "print( my_list)"
   ]
  },
  {
   "cell_type": "markdown",
   "metadata": {},
   "source": [
    "#### Operations on lists\n",
    "- lists do not behave as firstly expected"
   ]
  },
  {
   "cell_type": "code",
   "execution_count": 3,
   "metadata": {
    "lines_to_next_cell": 2
   },
   "outputs": [
    {
     "name": "stdout",
     "output_type": "stream",
     "text": [
      "operation not possible\n"
     ]
    }
   ],
   "source": [
    "list_a = [3 ,6 ,9]\n",
    "list_b = [3]\n",
    "try: \n",
    "    c = list_a +3\n",
    "except:\n",
    "    print( 'operation not possible')"
   ]
  },
  {
   "cell_type": "code",
   "execution_count": 4,
   "metadata": {},
   "outputs": [
    {
     "name": "stdout",
     "output_type": "stream",
     "text": [
      "[3, 6, 9, 3]\n",
      "[3, 6, 9, 3, 3, 6, 9, 3]\n",
      "list_c: ['a new entry', 6, 9]\n",
      "list_a: ['a new entry', 6, 9]\n"
     ]
    }
   ],
   "source": [
    "c = list_a + list_b\n",
    "print( c )\n",
    "print( c*2)\n",
    "list_c = list_a\n",
    "list_c[0] = 'a new entry'\n",
    "print( 'list_c:', list_c )\n",
    "print( 'list_a:', list_a )"
   ]
  },
  {
   "cell_type": "markdown",
   "metadata": {
    "lines_to_next_cell": 0
   },
   "source": [
    "#### List methods\n",
    "- list $\\to$ object $\\to$ methods\n",
    "- general syntax: `object.method( arguments)`\n",
    "- `[]` indexing brackets, `()` function call brackets"
   ]
  },
  {
   "cell_type": "code",
   "execution_count": 6,
   "metadata": {
    "lines_to_next_cell": 0
   },
   "outputs": [
    {
     "name": "stdout",
     "output_type": "stream",
     "text": [
      "a: None\n",
      "my_list: [1, 2, 5, 6, 67, 419]\n",
      "419\n",
      "[1, 2, 5, 6, 67]\n"
     ]
    }
   ],
   "source": [
    "my_list = [ 5, 1, 67, 419, 2, 6]\n",
    "a = my_list.sort()\n",
    "print( 'a:', a )\n",
    "print( 'my_list:', my_list )\n",
    "\n",
    "print( my_list.pop() )\n",
    "print( my_list)"
   ]
  },
  {
   "cell_type": "markdown",
   "metadata": {
    "lines_to_next_cell": 0
   },
   "source": [
    "Official documentation"
   ]
  },
  {
   "cell_type": "code",
   "execution_count": 10,
   "metadata": {},
   "outputs": [
    {
     "name": "stdout",
     "output_type": "stream",
     "text": [
      "Help on built-in function sort:\n",
      "\n",
      "sort(*, key=None, reverse=False) method of builtins.list instance\n",
      "    Stable sort *IN PLACE*.\n",
      "\n"
     ]
    }
   ],
   "source": [
    "#help( list)\n",
    "#dir( list)\n",
    "#help( my_list)\n",
    "#help( list.sort)\n",
    "help( my_list.sort)"
   ]
  },
  {
   "cell_type": "code",
   "execution_count": 11,
   "metadata": {
    "lines_to_next_cell": 0
   },
   "outputs": [
    {
     "name": "stdout",
     "output_type": "stream",
     "text": [
      "['first intermediate step', ['list', 'with', 'intermediate', 'variables'], 'result of computation']\n"
     ]
    }
   ],
   "source": [
    "results = []\n",
    "results.append( 'first intermediate step' )\n",
    "results.append( [ 'list', 'with', 'intermediate', 'variables'] )\n",
    "results.append( 'result of computation' )\n",
    "print( results)"
   ]
  },
  {
   "cell_type": "markdown",
   "metadata": {},
   "source": [
    "-----------\n",
    "-----------\n",
    "## Indexing\n",
    "- access elements by `[]`\n",
    "- first index: 0, last index: -1\n",
    "- multiple elements via slices: `[start :stop :step]`"
   ]
  },
  {
   "cell_type": "code",
   "execution_count": 12,
   "metadata": {},
   "outputs": [
    {
     "name": "stdout",
     "output_type": "stream",
     "text": [
      "length of my list: 5\n",
      "1\n",
      "last_element\n"
     ]
    }
   ],
   "source": [
    "my_list = [ 1, 'second element', 3, ['some', 'list'],  'last_element' ]\n",
    "print( 'length of my list:', len( my_list) )\n",
    "print( my_list[0] ) \n",
    "print( my_list[-1] ) "
   ]
  },
  {
   "cell_type": "code",
   "execution_count": 14,
   "metadata": {},
   "outputs": [
    {
     "name": "stdout",
     "output_type": "stream",
     "text": [
      "last_element\n"
     ]
    }
   ],
   "source": [
    "print( my_list[4] ) "
   ]
  },
  {
   "cell_type": "code",
   "execution_count": 16,
   "metadata": {},
   "outputs": [
    {
     "name": "stdout",
     "output_type": "stream",
     "text": [
      "counter[ 0: 2]     [0, 1]\n",
      "counter[ :2]       [0, 1]\n",
      "counter[ -3:-1]    [4, 5]\n",
      "counter[ -3:]      [4, 5, 6]\n",
      "counter[ -1:-5:-1] [6, 5, 4, 3]\n",
      "counter[ ::2]      [0, 2, 4, 6]\n",
      "counter[ 4::-1]    [4, 3, 2, 1, 0]\n"
     ]
    }
   ],
   "source": [
    "counter = [0,1,2,3,4,5,6] \n",
    "print( 'counter[ 0: 2]    ',  counter[ 0: 2] )\n",
    "print( 'counter[ :2]      ',  counter[ :2] )\n",
    "print( 'counter[ -3:-1]   ',  counter[ -3:-1] )\n",
    "print( 'counter[ -3:]     ',  counter[ -3:] )\n",
    "print( 'counter[ -1:-5:-1]',  counter[ -1:-5:-1] )\n",
    "print( 'counter[ ::2]     ',  counter[ ::2] )\n",
    "print( 'counter[ 4::-1]   ',  counter[ 4::-1] ) "
   ]
  },
  {
   "cell_type": "code",
   "execution_count": 17,
   "metadata": {
    "lines_to_next_cell": 2
   },
   "outputs": [
    {
     "name": "stdout",
     "output_type": "stream",
     "text": [
      "[[1, 2], [3, 4], [5, 6]]\n"
     ]
    }
   ],
   "source": [
    "nested_list = [ [1,2], [3,4], [5,6] ]\n",
    "print( nested_list)"
   ]
  },
  {
   "cell_type": "code",
   "execution_count": 18,
   "metadata": {
    "lines_to_next_cell": 2
   },
   "outputs": [
    {
     "name": "stdout",
     "output_type": "stream",
     "text": [
      "2\n"
     ]
    }
   ],
   "source": [
    "print( nested_list[0][1])"
   ]
  },
  {
   "cell_type": "markdown",
   "metadata": {
    "lines_to_next_cell": 0
   },
   "source": [
    "------\n",
    "\n",
    "### How to solve the labs"
   ]
  },
  {
   "cell_type": "code",
   "execution_count": 19,
   "metadata": {},
   "outputs": [],
   "source": [
    "import sys\n",
    "sys.path.append( 'submodules')\n",
    "import result_check as check"
   ]
  },
  {
   "cell_type": "markdown",
   "metadata": {
    "lines_to_next_cell": 0
   },
   "source": [
    "----\n",
    "__Task:__ Change `Ls_e` such that it matches `Ls_d`."
   ]
  },
  {
   "cell_type": "code",
   "execution_count": 21,
   "metadata": {
    "lines_to_next_cell": 0
   },
   "outputs": [
    {
     "name": "stdout",
     "output_type": "stream",
     "text": [
      "Part correctly solved.\n"
     ]
    }
   ],
   "source": [
    "Ls_d = list( (6,9) )\n",
    "Ls_e = [ 6,9] #TODO\n",
    "check.list_result(Ls_e, Ls_d)"
   ]
  },
  {
   "cell_type": "code",
   "execution_count": 23,
   "metadata": {
    "lines_to_next_cell": 0
   },
   "outputs": [],
   "source": [
    "result = 666\n",
    "task = 2* 333\n",
    "assert result == task, 'task wrongly implemented, please fix'"
   ]
  },
  {
   "cell_type": "markdown",
   "metadata": {},
   "source": [
    "---------------------\n",
    "---------------------\n",
    "## Conditions and loops\n",
    "- general syntax <br>\n",
    "`keyword condition:` <br>\n",
    "$\\quad$ `statement` <br>\n",
    "$\\quad$ `in` <br>\n",
    "$\\quad$ `condition` <br>\n",
    "`other statements`\n",
    "- comparator operators: `==`, `!=`, `>=`, `<=`, `>`, `<`\n",
    "- logical operators: `and`, `or`, `not`, `in`, `is`"
   ]
  },
  {
   "cell_type": "code",
   "execution_count": 24,
   "metadata": {
    "lines_to_next_cell": 0
   },
   "outputs": [
    {
     "name": "stdout",
     "output_type": "stream",
     "text": [
      "i am printed out if the above condition is True\n"
     ]
    }
   ],
   "source": [
    "if 1 < 2:\n",
    "    print( 'i am printed out if the above condition is True')"
   ]
  },
  {
   "cell_type": "code",
   "execution_count": 25,
   "metadata": {},
   "outputs": [],
   "source": [
    "if 1 != 1:\n",
    "    print( 'i am printed out if the above condition is True')"
   ]
  },
  {
   "cell_type": "code",
   "execution_count": 26,
   "metadata": {
    "lines_to_next_cell": 0
   },
   "outputs": [
    {
     "name": "stdout",
     "output_type": "stream",
     "text": [
      "1 iteration in while loop\n",
      "2 iteration in while loop\n",
      "3 iteration in while loop\n",
      "4 iteration in while loop\n",
      "5 iteration in while loop\n",
      "is k smaller than m? False\n"
     ]
    }
   ],
   "source": [
    "k = 1\n",
    "m = 4\n",
    "i = 0\n",
    "while k < m:\n",
    "    k = 2**k\n",
    "    m = m**2\n",
    "    i += 1\n",
    "    print( '{} iteration in while loop'.format(i) )\n",
    "print( 'is k smaller than m?', k < m)"
   ]
  },
  {
   "cell_type": "code",
   "execution_count": 27,
   "metadata": {},
   "outputs": [
    {
     "name": "stdout",
     "output_type": "stream",
     "text": [
      "i=1\n",
      "i=2\n",
      "i=3\n",
      "i=4\n",
      "i=5\n",
      "i=6\n",
      "i=7\n",
      "c= 65536\n",
      "b= 64\n",
      "i= 8\n"
     ]
    }
   ],
   "source": [
    "c = 2\n",
    "b = 2\n",
    "i = 0\n",
    "while i < 11:     \n",
    "    i += 1\n",
    "    if c == b and c < 17: \n",
    "        c = c**4 \n",
    "    elif b > 32:\n",
    "        break \n",
    "    else:\n",
    "        b = b*2\n",
    "    print( 'i = {}'.format( i) )\n",
    "print( 'c =', c)\n",
    "print( 'b =', b) \n",
    "print( 'i =', i)"
   ]
  },
  {
   "cell_type": "markdown",
   "metadata": {},
   "source": [
    "------\n",
    "------\n",
    "\n",
    "## for loops and iterables\n",
    "- lists are iterables \n",
    "- dictionaries, tuples, strings are also iterables\n",
    "- `range()` is an iterable"
   ]
  },
  {
   "cell_type": "code",
   "execution_count": 28,
   "metadata": {},
   "outputs": [
    {
     "name": "stdout",
     "output_type": "stream",
     "text": [
      "1\n",
      "2\n",
      "3\n"
     ]
    }
   ],
   "source": [
    "iterable = [1,2,3]\n",
    "for iterator in iterable:\n",
    "    print( iterator )"
   ]
  },
  {
   "cell_type": "code",
   "execution_count": 29,
   "metadata": {},
   "outputs": [
    {
     "name": "stdout",
     "output_type": "stream",
     "text": [
      "my dict has the following keys and values\n",
      "key = value\n",
      "variable = 6\n",
      "\n",
      "key value pairs:\n",
      "key value\n",
      "variable 6\n"
     ]
    }
   ],
   "source": [
    "my_dict = dict( key='value', variable=6)\n",
    "print( 'my dict has the following keys and values')\n",
    "for key in my_dict:\n",
    "    print( key, '=', my_dict[ key])\n",
    "\n",
    "print( '\\nkey value pairs:')\n",
    "for key, value in my_dict.items():\n",
    "    print( key, value)"
   ]
  },
  {
   "cell_type": "code",
   "execution_count": 30,
   "metadata": {},
   "outputs": [
    {
     "name": "stdout",
     "output_type": "stream",
     "text": [
      "lalelilolu\n"
     ]
    }
   ],
   "source": [
    "consonant = 'l'\n",
    "word = ''\n",
    "for vowel in 'aeiou':\n",
    "    word = word + consonant + vowel\n",
    "print( word)"
   ]
  },
  {
   "cell_type": "code",
   "execution_count": 31,
   "metadata": {
    "lines_to_next_cell": 0
   },
   "outputs": [
    {
     "name": "stdout",
     "output_type": "stream",
     "text": [
      "loop variable \"i\": 0\n",
      "my_list[i]: first_entry\n",
      "\n",
      "loop variable \"i\": 1\n",
      "my_list[i]: 123512\n",
      "\n",
      "loop variable \"i\": 2\n",
      "my_list[i]: last entry\n",
      "\n"
     ]
    }
   ],
   "source": [
    "my_list = [ 'first_entry', 123512, 'last entry' ]\n",
    "for i in range( 3):\n",
    "    print( 'loop variable \"i\":', i)\n",
    "    print( 'my_list[i]:', my_list[i]) \n",
    "    print()"
   ]
  },
  {
   "cell_type": "code",
   "execution_count": 33,
   "metadata": {
    "lines_to_next_cell": 0
   },
   "outputs": [],
   "source": [
    "#help( range) "
   ]
  },
  {
   "cell_type": "code",
   "execution_count": 34,
   "metadata": {
    "lines_to_next_cell": 0
   },
   "outputs": [
    {
     "name": "stdout",
     "output_type": "stream",
     "text": [
      "loop variable \"i\": 2\n",
      "my_list[i]: last entry\n",
      "\n",
      "loop variable \"i\": 1\n",
      "my_list[i]: 123512\n",
      "\n",
      "loop variable \"i\": 0\n",
      "my_list[i]: first_entry\n",
      "\n"
     ]
    }
   ],
   "source": [
    "for i in range( 2, -1, -1):\n",
    "    print( 'loop variable \"i\":', i)\n",
    "    print( 'my_list[i]:', my_list[i]) \n",
    "    print()"
   ]
  },
  {
   "cell_type": "markdown",
   "metadata": {},
   "source": [
    "---------------------\n",
    "---------------------\n",
    "## Functions and imports\n",
    "\n",
    "### functions can...\n",
    "- be called with `function( args)`\n",
    "- have (default) arguments, `*args` and `**kwargs`\n",
    "- have return values\n",
    "- be defined in modules"
   ]
  },
  {
   "cell_type": "code",
   "execution_count": 35,
   "metadata": {
    "lines_to_next_cell": 0
   },
   "outputs": [
    {
     "name": "stdout",
     "output_type": "stream",
     "text": [
      "calling with default argument:\n",
      "my variables a and b are: 5, 1\n",
      "function output: 6\n",
      "\n",
      "calling with specified argument:\n",
      "my variables a and b are: 5, 3\n",
      "function output: 8\n"
     ]
    }
   ],
   "source": [
    "def my_first_function( a, b=1):\n",
    "    print( 'my variables a and b are: {}, {}'.format( a, b) )\n",
    "    return a+b\n",
    "\n",
    "print( 'calling with default argument:')\n",
    "print( 'function output:', my_first_function( a=5) )\n",
    "\n",
    "print()\n",
    "print( 'calling with specified argument:' )\n",
    "print( 'function output:', my_first_function( a=5, b=3) )"
   ]
  },
  {
   "cell_type": "markdown",
   "metadata": {},
   "source": [
    "#### _lambda_ functions\n",
    "- `lambda` functions are one-liners to define functions\n",
    "- general syntax is `lambda args: function operation`\n",
    "- after definition they are also called as `lambda_function( args)`\n",
    "- can also have default arguments, `*args` and `**kwargs\n",
    "- syntax on equivalent functions is given below"
   ]
  },
  {
   "cell_type": "code",
   "execution_count": 36,
   "metadata": {},
   "outputs": [
    {
     "name": "stdout",
     "output_type": "stream",
     "text": [
      "calling the lambda function, result: 54\n",
      "calling the full def , result: 54\n"
     ]
    }
   ],
   "source": [
    "multiply = lambda x,y: x*y\n",
    "def multiply_function( x,y):\n",
    "    return x * y\n",
    "\n",
    "print( 'calling the lambda function, result:', multiply( 6, 9) )\n",
    "print( 'calling the full def , result:', multiply_function( 6, 9) )"
   ]
  },
  {
   "cell_type": "markdown",
   "metadata": {},
   "source": [
    "#### \\*args and \\*\\*kwargs\n",
    "- passing unspecified arguments will always fill positional/required arguments, then optional arguments, then `*args`\n",
    "- to define `*args`, every positional and optional argument has to be specified\n",
    "- keyworded arguments have to be passed after unspecified arguments"
   ]
  },
  {
   "cell_type": "code",
   "execution_count": 38,
   "metadata": {
    "lines_to_next_cell": 0
   },
   "outputs": [
    {
     "name": "stdout",
     "output_type": "stream",
     "text": [
      "first two arguments: 1 2\n",
      "args: (3, 4)\n",
      "the args I have gotten of type <class 'tuple'>\n",
      "kwargs: {'these': 0, 'are': 2, 'kwargs': 'something'}\n",
      "the kwargs I have gotten are a <class 'dict'>\n"
     ]
    }
   ],
   "source": [
    "def argument_test( default_1='string', default_2=42.1, *args, **kwargs):\n",
    "    print( 'first two arguments:', default_1, default_2 )\n",
    "    print( 'args:', args )\n",
    "    print( 'the args I have gotten of type {}'.format( type(args)) )\n",
    "    print( 'kwargs:', kwargs )\n",
    "    print( 'the kwargs I have gotten are a {}'.format( type(kwargs)) )\n",
    "    for arg in args:\n",
    "        pass\n",
    "    for key, value in kwargs.items():\n",
    "        pass\n",
    "    return\n",
    "\n",
    "argument_test( 1,2,3,4, these=0, are=2, kwargs='something')"
   ]
  },
  {
   "cell_type": "code",
   "execution_count": 39,
   "metadata": {
    "lines_to_next_cell": 2
   },
   "outputs": [
    {
     "name": "stdout",
     "output_type": "stream",
     "text": [
      "first two arguments: string 42.1\n",
      "args: ()\n",
      "the args I have gotten of type <class 'tuple'>\n",
      "kwargs: {'these': 0, 'are': 2, 'kwargs': 'something'}\n",
      "the kwargs I have gotten are a <class 'dict'>\n"
     ]
    }
   ],
   "source": [
    "argument_test( these=0, are=2, kwargs='something')"
   ]
  },
  {
   "cell_type": "code",
   "execution_count": 40,
   "metadata": {},
   "outputs": [
    {
     "name": "stdout",
     "output_type": "stream",
     "text": [
      "first two arguments: 1 2\n",
      "args: ()\n",
      "the args I have gotten of type <class 'tuple'>\n",
      "kwargs: {'these': 0, 'are': 2, 'kwargs': 'something'}\n",
      "the kwargs I have gotten are a <class 'dict'>\n"
     ]
    }
   ],
   "source": [
    "argument_test( 1,2, these=0, are=2, kwargs='something')"
   ]
  },
  {
   "cell_type": "markdown",
   "metadata": {},
   "source": [
    "#### Modules\n",
    "- functions can be defined in modules\n",
    "- modules have to be imported\n",
    "- python comes with default modules (e.g. numpy, sys, os)\n",
    "- additional modules can be downloaded via package managers, i.e. pip or conda\n",
    "- functions are called with `module.function()`\n",
    "\n",
    "Syntax for module imports is <br>\n",
    "\n",
    "`import module as alias`<br>\n",
    "`import module`<br>\n",
    "`import subfolder.module (as alias)`<br>\n",
    "`from module import function (as alias)`<br>\n",
    "`from module import fun_a, fun_b, fun_c\n"
   ]
  },
  {
   "cell_type": "code",
   "execution_count": 42,
   "metadata": {
    "lines_to_next_cell": 0
   },
   "outputs": [
    {
     "name": "stdout",
     "output_type": "stream",
     "text": [
      "Hello, world!\n"
     ]
    }
   ],
   "source": [
    "import sys\n",
    "sys.path.append( 'submodules' )\n",
    "import example_functions as fun\n",
    "\n",
    "fun.hello_world()"
   ]
  },
  {
   "cell_type": "code",
   "execution_count": 43,
   "metadata": {},
   "outputs": [
    {
     "name": "stdout",
     "output_type": "stream",
     "text": [
      "Help on function split_data in module example_functions:\n",
      "\n",
      "split_data(inputs, outputs, split=0.3, shuffle=True)\n",
      "    Randomly shuffle the data and thereafter split it into two sets \n",
      "    Arranges the data row-wise if it is given column wise (return arrays, each row one sample)\n",
      "    Data is ALWAYS returned row-wise\n",
      "    (Note that this function assumes that there are more samples than dimensions of the problem)\n",
      "    Parameters:\n",
      "    -----------\n",
      "    inputs:     numpy nd-array\n",
      "                input data (preferably) arranged row wise\n",
      "    outputs:    numpy nd-array\n",
      "                output data (preferably) arranged row wise\n",
      "    split:      float, default 0.3\n",
      "                percentage part of the second set (validation set)\n",
      "    shuffle:    bool, default True\n",
      "                Whether the data should be randomly shuffled before splitting\n",
      "    Returns:\n",
      "    --------\n",
      "    input_train:    numpy nd-array\n",
      "                    input data containing 1-split percent of samples (rounded up)\n",
      "    input_valid:    numpy nd-array\n",
      "                    input data containing split percent of samples (rounded down)\n",
      "    output_train:   numpy nd-array\n",
      "                    output data containing 1-split percent of samples (rounded up)\n",
      "    output_valid:   numpy nd-array\n",
      "                    output data containing split percent of samples (rounded down)\n",
      "\n"
     ]
    }
   ],
   "source": [
    "help( fun.split_data)"
   ]
  },
  {
   "cell_type": "code",
   "execution_count": null,
   "metadata": {},
   "outputs": [],
   "source": []
  }
 ],
 "metadata": {
  "kernelspec": {
   "display_name": "Python 3 (Spyder)",
   "language": "python3",
   "name": "python3"
  },
  "language_info": {
   "codemirror_mode": {
    "name": "ipython",
    "version": 3
   },
   "file_extension": ".py",
   "mimetype": "text/x-python",
   "name": "python",
   "nbconvert_exporter": "python",
   "pygments_lexer": "ipython3",
   "version": "3.8.11"
  }
 },
 "nbformat": 4,
 "nbformat_minor": 4
}
