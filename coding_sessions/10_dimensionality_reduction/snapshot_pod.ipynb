{
 "cells": [
  {
   "cell_type": "markdown",
   "metadata": {},
   "source": [
    "## Snapshot Proper Orthogonal Decomposition POD\n",
    "\n",
    "Author: Julian Lißner\n",
    "\n",
    "For questions and feedback write a mail to: [lissner@mib.uni-stuttgart.de](mailto:lissner@mib.uni-stuttgart.de)"
   ]
  },
  {
   "cell_type": "code",
   "execution_count": null,
   "metadata": {
    "lines_to_next_cell": 2
   },
   "outputs": [],
   "source": [
    "import numpy as np\n",
    "import matplotlib.pyplot as plt\n",
    "import sys\n",
    "from numpy.fft import ifft2, fft2\n",
    "\n",
    "sys.path.extend( ['provided_functions', 'incomplete_functions' ])\n",
    "import snapshot_pod as pod \n",
    "import result_check as check\n",
    "sys.path.append( '../submodules' )\n",
    "from general_functions import file_size"
   ]
  },
  {
   "cell_type": "markdown",
   "metadata": {
    "lines_to_next_cell": 0
   },
   "source": [
    "## Lossy image compression\n",
    "- the Schmidt-Eckard Young theorem states:\n",
    "- given the SVD $ \\qquad\\underline{\\underline V}\\, \\underline{\\sigma} \\,\\underline{\\underline W}^T = \\text{svd}(\\underline{\\underline A})$\n",
    "- the optimal rank-$k$ approximation w.r.t. the Frobenius and dual norm is given by (underlines omitted for better readability)\n",
    " $$  A^{(k)} = \\sum_{i=1}^k \\sigma_k v_k  w^T_k$$\n",
    "- the introduced error is then $e^2 = \\sum\\limits_{i=k+1}^n \\sigma_i^2  = || A -  A^{(k)} ||_F^2 $\n",
    "- with the relative error $e_{\\rm rel}^2 = \\dfrac{\\sum_{i=k+1}^n \\sigma_i^2 }{ \\sum_{j=1}^n \\sigma_j^2} = \\dfrac{\\sum_{i=k+1}^n \\sigma_i^2 }{ ||  A||_F^2}$\n",
    "- we can store arrays as their singular values and singular vectors<br>\n",
    "$\\quad\\blacktriangleright$ the SVD can be used for lossy image compression\n",
    "\n",
    "---------\n",
    "__Task:__ Compute the SVD and the truncation threshold for the given image."
   ]
  },
  {
   "cell_type": "code",
   "execution_count": null,
   "metadata": {},
   "outputs": [],
   "source": [
    "image = np.load( 'data/lena_gray.npz')['arr_0'].copy()\n",
    "V, sigma, WT #TODO #svd is found in the numpy.linalg package\n",
    "\n",
    "truncation_threshold = 0.1  #TODO #try out different parameters\n",
    "info = np.sum( sigma**2 )\n",
    "for N in range( len(sigma) ):\n",
    "    error_rel = np.sqrt( np.max( (0, #TODO) )) #np.max to circumvent possible numerical issues\n",
    "    if error_rel <= #TODO: \n",
    "        break\n",
    "print( 'number of singular values/vectors required for specified precision:', N)"
   ]
  },
  {
   "cell_type": "markdown",
   "metadata": {
    "lines_to_next_cell": 0
   },
   "source": [
    "- Note that $N$ is relatively high since image are (usually) high rank\n",
    "- the approximate image is given as $\\widetilde{\\underline{\\underline A}} =  \\widetilde{\\underline{\\underline V}}\\, \\widetilde{\\underline{\\sigma}} \\,\\widetilde{\\underline{\\underline W}}^T  $\n",
    "---------\n",
    "__Task:__ Truncate the singular vectors/values and reassemble the image"
   ]
  },
  {
   "cell_type": "code",
   "execution_count": null,
   "metadata": {
    "lines_to_next_cell": 0
   },
   "outputs": [],
   "source": [
    "V_tilde = #TODO\n",
    "sigma_tilde= sigma[:N]\n",
    "WT_tilde = #TODO\n",
    "\n",
    "reconstructed_image = #TODO #recompute the image using the truncated SVD\n",
    "fig, axes = plt.subplots( 1, 3, figsize=(18,6) )\n",
    "axes[0].imshow( image, cmap='gray')\n",
    "axes[1].imshow( reconstructed_image, cmap='gray')\n",
    "axes[2].semilogy( sigma, label='singular values' )\n",
    "axes[2].axvline( N, color='k', label='truncation threshold')\n",
    "\n",
    "titles = [ 'original image', 'reconstructed image', 'truncation criteria' ]\n",
    "for ax in axes:\n",
    "    ax.set_title( titles.pop(0))\n",
    "axes[2].legend()\n",
    "axes[2].set_xticks( list(axes[2].get_xticks()) + [N] )\n",
    "axes[2].set_xlim( xmin=0, xmax=len(sigma))\n",
    "check.image_truncation( N, V_tilde, sigma_tilde, WT_tilde, reconstructed_image, image) "
   ]
  },
  {
   "cell_type": "markdown",
   "metadata": {
    "lines_to_next_cell": 0
   },
   "source": [
    "- the actual relative error is defined as $e_{\\rm rel}= \\sqrt{ \\dfrac{ || A- \\tilde A||^2_F}{ || A||^2_F}} $ with the image $A$\n",
    "\n",
    "---------\n",
    "__Task:__ Compare the found relative error to the truncation threshold you specified"
   ]
  },
  {
   "cell_type": "code",
   "execution_count": null,
   "metadata": {},
   "outputs": [],
   "source": [
    "n_pixels = np.prod( image.shape)\n",
    "n_svd = np.sum( [ np.prod( V_tilde.shape),  len(sigma_tilde), np.prod( WT_tilde.shape) ] )\n",
    "print( 'compression ratio:\\t {:1.4f}\\n% of storage required:\\t{:5.2f}%\\nnumber of pixels saved up:\\t{:8.0f}(out of {})\\n'.format( \n",
    "n_pixels/n_svd,  1/( n_pixels/n_svd)*100,  n_pixels-n_svd, n_pixels) )\n",
    "\n",
    "\n",
    "e_rel = #TODO\n",
    "\n",
    "print( 'defined relative error: {:3.5f}%'.format( 100*truncation_threshold ) )\n",
    "print( 'actual relative error:  {:3.5f}%'.format( 100*e_rel ) ) "
   ]
  },
  {
   "cell_type": "markdown",
   "metadata": {
    "lines_to_next_cell": 0
   },
   "source": [
    "--------------\n",
    "## Reduced basis construction\n",
    "\n",
    "- a reduced basis can be computed constructed using an SVD or an eigenvalue decomposition\n",
    "- often the metric $\\underline{\\underline M}=\\underline{\\underline I}$ can be set to identity matrix\n",
    "- generally $\\underline{\\underline M} \\neq \\underline{\\underline I}$\n",
    "- in order to achieve model order reduction, the problem dimension should be significantly reduced\n",
    "- the truncation threshold is given as (similar to the Schmidt Eckard Young theorem)\n",
    "$$ \\delta_N \\geq \\sqrt{\\frac{ \\sum_{i=N+1}^n \\sigma_i^2}{ \\sum_{j=1}^n \\sigma_j^2}} =\\sqrt{1 - \\frac{ \\sum_{i=1}^N \\sigma_i^2}{ \\sum_{j=1}^n \\sigma_j^2}} $$\n",
    "\n",
    "---------\n",
    "__Task:__ Implement the `truncation` function in 'snapshot_pod.py'."
   ]
  },
  {
   "cell_type": "code",
   "execution_count": null,
   "metadata": {
    "lines_to_next_cell": 0
   },
   "outputs": [],
   "source": [
    "check.truncation_implementation()"
   ]
  },
  {
   "cell_type": "markdown",
   "metadata": {
    "lines_to_next_cell": 0
   },
   "source": [
    "- the reduced basis can be implemented using the SVD and the snapshot correlation matrix\n",
    "- both yield the exact same result, except for numerical precision\n",
    "- if the metric is set to the identity matrix, the implementation is significantly easier\n",
    "- the RB computation via the snapshot correlation matrix is implemented as:<br>\n",
    "$ \\underline{\\underline C}_s = \\underline{\\underline S}^T\\, \\underline{\\underline M}\\,\\underline{\\underline S} $ <br>\n",
    "$ \\underline{\\underline Q}\\, \\underline{\\underline \\Sigma}^2\\,\\underline{\\underline Q}^T = \\text{eig}\\big( \\underline{\\underline C_s} )$ <br>\n",
    "$\\underline{\\underline A} = \\widetilde{\\underline{\\underline Q}}\\,\\widetilde{\\underline{\\underline \\Sigma}}^{-1} =  \\big[ \\underline v_1\\cdot\\frac1{\\sigma_1},\\quad \\underline v_2\\cdot\\frac1{\\sigma_2},\\quad \\cdot\\cdot\\cdot, \\quad \\underline v_N\\cdot\\frac1{\\sigma_N} \\big]$<br>\n",
    " finally $\\underline{\\underline B}$ is given as<br>\n",
    " $ \\underline{\\underline B} = \\underline{\\underline S}\\, \\underline{\\underline A} $\n",
    "\n",
    "with $\\tilde \\ast$ denoting the truncated arrays\n",
    "- Note the square on $\\Sigma$ in the eigenvalue decomposition\n",
    "- also note that numpy.linalg.eig returns the eigenvalues in _ascending_ order\n",
    "\n",
    "-----\n",
    "__Task:__ Implement the RB computation in 'snapshot_pod.py' via the eigenvalue decomposition considering a metric."
   ]
  },
  {
   "cell_type": "code",
   "execution_count": null,
   "metadata": {},
   "outputs": [],
   "source": [
    "check.reduced_basis( pod.correlation_matrix)"
   ]
  },
  {
   "cell_type": "markdown",
   "metadata": {
    "lines_to_next_cell": 0
   },
   "source": [
    "- the computation of the reduced basis using the SVD is implemented as:<br>\n",
    " $ \\underline{\\underline M} = \\underline{\\underline L}\\, \\underline{\\underline L}^T \\qquad$ cholesky decomposition<br>\n",
    " $ \\underline{\\underline U}_{\\ast} = \\underline{\\underline L}^T\\, \\underline{\\underline S} $<br>\n",
    "$ \\text{svd}\\big( \\underline{\\underline U}_{\\ast}\\big) =\\underline{\\underline V}\\, \\underline{\\underline \\Sigma}\\, \\underline{\\underline W}^T $<br>\n",
    "$ \\underline{\\underline B} = \\underline{\\underline L}^{-T}\\, \\widetilde{\\underline{\\underline V}} $\n",
    "\n",
    "---------\n",
    "__Task:__ Implement the RB computation in 'snapshot_pod.py' via the SVD considering a metric."
   ]
  },
  {
   "cell_type": "code",
   "execution_count": null,
   "metadata": {},
   "outputs": [],
   "source": [
    "check.reduced_basis( pod.svd_rb)"
   ]
  },
  {
   "cell_type": "markdown",
   "metadata": {
    "lines_to_next_cell": 0
   },
   "source": [
    "## Application of the RB for storage efficiency\n",
    "- similar to image compression, we can use the RB to store large arrays more efficiently\n",
    "- instead of storing the data, we can store the computed RB and the reduced coefficients $\\xi$\n",
    "- approximate reassembly of the data is given by $\\underline{\\underline S} \\approx \\underline{\\underline B}\\,\\underline{\\underline{\\xi}} = \\underline{\\underline B}\\,\\underline{\\underline B}^T\\, \\underline{\\underline S}$\n",
    "- the relative projection error is defined as $P_{\\delta} = \\sqrt{ \\dfrac{ || \\underline{\\underline A} - \\underline{\\underline B} \\, \\underline{\\underline B}^T\\, \\underline{\\underline {A}}||_F^2 }{ || \\underline{\\underline A} ||_F^2 } }\\,$\n",
    "- as image data we will use the so called _2 point correlation function_ of microstructure images\n",
    "-----\n",
    "__Task:__ Compute the reduced basis of the `pcf`, store the basis and the reduced coefficients as a file. "
   ]
  },
  {
   "cell_type": "code",
   "execution_count": null,
   "metadata": {
    "lines_to_next_cell": 0
   },
   "outputs": [],
   "source": [
    "from rve_functions import compute_pcf\n",
    "\n",
    "images = np.load( 'data/rve_images.npz')['arr_0']\n",
    "resolution = (400, 400)\n",
    "n_image = images.shape[1]\n",
    "pcf = np.zeros( images.shape)\n",
    "dim = np.prod( resolution) \n",
    "for i in range( n_image): \n",
    "    pcf[:,i] = compute_pcf( images[:,i] )\n",
    "\n",
    "truncation_threshold = 0.01\n",
    "B = #TODO #use your defined function\n",
    "\n",
    "xi = #TODO\n",
    "p_delta = #TODO #relative projection error\n",
    "print( 'number of eigenmodes required:\\t\\t\\t', B.shape[-1])\n",
    "print( 'mean relative projection error on the data:\\t', p_delta)\n",
    "print( 'vs the truncation threshold:\\t\\t\\t', truncation_threshold )\n",
    "\n",
    "np.savez_compressed( 'results/snapshots.npz', pcf )\n",
    "np.savez_compressed( 'results/reduced_representation.npz', #TODO )\n",
    "\n",
    "\n",
    "\n",
    "print( 'size of compressed snapshots:\\t\\t\\t', file_size( 'results/snapshots.npz' ))\n",
    "print( 'size of compressed reduced representation:\\t', file_size( 'results/reduced_representation.npz' ) )\n",
    "del pcf, B, xi "
   ]
  },
  {
   "cell_type": "markdown",
   "metadata": {},
   "source": [
    "- the projection error can be reformulated into an efficient (implementation) manner:\n",
    " \\begin{equation*}P_{\\delta} = \\sqrt{ \\dfrac{ || \\underline{\\underline A} - \\underline{\\underline B} \\, \\underline{\\underline B}^T\\, \\underline{\\underline A}||_F^2 }{ || \\underline{\\underline A} ||_F^2 } }\\, \\overset{\\rm some\\, algebra}{======} \\sqrt{ 1-\\Big(\\dfrac{ || \\underline\\xi||_F }{ || \\underline{\\underline A} ||_F } }\\Big)^2 \\end{equation*}\n",
    "- using the given identities:\n",
    "    - $|| \\underline{\\underline A}- \\underline{\\underline B}||_F^2 = ||\\underline{\\underline A}||_F^2+ ||\\underline{\\underline B}||_F^2 - 2 \\langle \\underline{\\underline A}, \\underline{\\underline B} \\rangle_F$\n",
    "    - $\\langle \\underline{\\underline A}, \\underline{\\underline B} \\rangle_F = \\text{trace} ( \\underline{\\underline A}^T \\underline{\\underline B} )$\n",
    "    - $||\\underline{\\underline A} ||_F^2 = \\text{trace} ( \\underline{\\underline A}^T \\underline{\\underline A} )$\n",
    "    - $\\text{trace} ( \\underline{\\underline A} ) = \\text{trace} ( \\underline{\\underline A}^T) $\n",
    "    - $\\text{trace} ( \\underline{\\underline A}^T \\underline{\\underline B} ) = \\text{trace} ( \\underline{\\underline A} \\,\\underline{\\underline B}^T )= \\text{trace} ( \\underline{\\underline B}^T \\,\\underline{\\underline A} )= \\text{trace} ( \\underline{\\underline B}\\, \\underline{\\underline A}^T )$\n",
    "    - $\\text{trace} ( \\underline{\\underline A}\\, \\underline{\\underline B}\\, \\underline{\\underline C} \\,) = \\text{trace} ( \\underline{\\underline C}\\, \\underline{\\underline A}\\, \\underline{\\underline B}\\, ) = \\text{trace} ( \\underline{\\underline B}\\, \\underline{\\underline C} \\,\\underline{\\underline A} ) $\n",
    "\n",
    "---\n",
    "__Task:__ Derive the efficient implementation of the projection error by hand (on paper) and implement it. Also state the major computational speedups attained by it."
   ]
  },
  {
   "cell_type": "code",
   "execution_count": null,
   "metadata": {
    "lines_to_next_cell": 0
   },
   "outputs": [],
   "source": [
    "B = np.load(  'results/reduced_representation.npz')['arr_0']\n",
    "xi = np.load( 'results/reduced_representation.npz')['arr_1'] \n",
    "pcf = np.load( 'results/snapshots.npz' )['arr_0']\n",
    "\n",
    "projection_error = #TODO #efficient implementation\n",
    "print( 'mean relative projection error with efficient computation:', projection_error )\n",
    "\n",
    "pcf_reconstructed = #TODO \n",
    "assert np.allclose( pcf_reconstructed.shape, (B.shape[0], xi.shape[1]) ), 'reconstruction wrongly implemented'\n",
    "\n",
    "n_plotting = 4 #TODO #can be adjusted\n",
    "indices = np.random.randint( 0, xi.shape[1], n_plotting ) \n",
    "fig, axes = plt.subplots( n_plotting, 4, figsize=(4*n_plotting,16) )\n",
    "axes[0,0].set_title( 'image data' )\n",
    "axes[0,1].set_title( 'true snapshot' )\n",
    "axes[0,2].set_title( 'reconstructed snapshot' )\n",
    "axes[0,3].set_title( 'deviation' )\n",
    "for i in range( n_plotting):\n",
    "    axes[i,0].imshow( images[:,indices[i] ].reshape( resolution) )\n",
    "    axes[i,1].imshow( pcf[:,indices[i] ].reshape( resolution) )\n",
    "    axes[i,2].imshow( pcf_reconstructed[:,indices[i] ].reshape( resolution) )\n",
    "    handle = axes[i,3].imshow( (pcf[:,indices[i] ] - pcf_reconstructed[:,indices[i] ]).reshape( resolution) )\n",
    "    plt.colorbar( handle, ax=axes[i,3] )\n",
    "for ax in axes.flatten():\n",
    "    ax.axis('off')"
   ]
  },
  {
   "cell_type": "markdown",
   "metadata": {
    "lines_to_next_cell": 0
   },
   "source": [
    "-----\n",
    "__Task:__ VOLUNTARY: implement and plot the development of the projection error over the number of eigenmodes.<br>\n",
    "You could also compute a basis of size $N = n_s$ to see the full development of the projection error.<br>\n",
    "Hint: $\\xi$ can be precomputed and simply indexed in a loop."
   ]
  },
  {
   "cell_type": "code",
   "execution_count": null,
   "metadata": {
    "lines_to_next_cell": 0
   },
   "outputs": [],
   "source": [
    "#TODO...\n",
    "fig, ax = plt.subplots( figsize=(6,6))\n",
    "#TODO...\n",
    "ax.set_xlabel( '# of eigenmodes' )\n",
    "ax.set_ylabel( r'projection error $P_{\\delta}$ [%]' )"
   ]
  },
  {
   "cell_type": "markdown",
   "metadata": {
    "lines_to_next_cell": 0
   },
   "source": [
    "Clear up unneccesary space on the hard drive"
   ]
  },
  {
   "cell_type": "code",
   "execution_count": null,
   "metadata": {},
   "outputs": [],
   "source": [
    "import os\n",
    "os.system( 'rm results/*.npz' )"
   ]
  }
 ],
 "metadata": {
  "kernelspec": {
   "display_name": "Python 3 (Spyder)",
   "language": "python3",
   "name": "python3"
  },
  "language_info": {
   "codemirror_mode": {
    "name": "ipython",
    "version": 3
   },
   "file_extension": ".py",
   "mimetype": "text/x-python",
   "name": "python",
   "nbconvert_exporter": "python",
   "pygments_lexer": "ipython3",
   "version": "3.7.8"
  }
 },
 "nbformat": 4,
 "nbformat_minor": 4
}
