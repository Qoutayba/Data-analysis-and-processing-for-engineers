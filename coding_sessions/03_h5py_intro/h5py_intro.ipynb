{
 "cells": [
  {
   "cell_type": "markdown",
   "metadata": {},
   "source": [
    "# HDF5 files"
   ]
  },
  {
   "cell_type": "markdown",
   "metadata": {},
   "source": [
    "Author: Julian Lißner<br>\n",
    "For questions and feedback please write a mail to: [lissner@mib.uni-stuttgart.de](mailto:lissner@mib.uni-stuttgart.de)"
   ]
  },
  {
   "cell_type": "code",
   "execution_count": 1,
   "metadata": {
    "lines_to_next_cell": 0
   },
   "outputs": [],
   "source": [
    "import numpy as np\n",
    "import matplotlib.pyplot as plt\n",
    "import h5py\n",
    "import sys \n",
    "import os\n",
    "import read_h5 as read\n",
    "sys.path.extend( ['provided_functions', 'incomplete_functions'] )\n",
    "os.environ[\"HDF5_USE_FILE_LOCKING\"] = \"FALSE\"\n",
    "import result_check as check \n",
    "import subfunctions as funcs"
   ]
  },
  {
   "cell_type": "markdown",
   "metadata": {},
   "source": [
    "## Writing hdf5 files\n",
    "\n",
    "- throughout this lab if you can not open the file restart the kernel of the notebook\n",
    "- hdf5 files have to be 'open' for read/write access\n",
    "- `h5py` interfaces python and hdf5 files\n",
    "- install `h5py` by typing `conda install h5py` into the terminal\n",
    "- files can be opened with different permissions to circumvent accidential data deletion\n",
    "- write ( `'w'`) and append ( `'a'`) automatically create a file if it does not exist\n",
    "- care: write will always create a new file, overwriting existing files\n",
    "\n",
    "------\n",
    "__Task:__ Create a hdf5 file and allocate storage for an array of shape (128,128, 3). Recall that `help( h5py.command)` will also show the arguments of the functions."
   ]
  },
  {
   "cell_type": "code",
   "execution_count": 2,
   "metadata": {},
   "outputs": [
    {
     "ename": "NameError",
     "evalue": "name 'h5file' is not defined",
     "output_type": "error",
     "traceback": [
      "Traceback \u001b[1;36m(most recent call last)\u001b[0m:\n",
      "\u001b[1;36m  File \u001b[1;32m\"C:\\Users\\Qoutayba\\AppData\\Local\\Temp/ipykernel_11912/1275382737.py\"\u001b[1;36m, line \u001b[1;32m1\u001b[1;36m, in \u001b[1;35m<module>\u001b[1;36m\u001b[0m\n\u001b[1;33m    h5file.close()\u001b[0m\n",
      "\u001b[1;31mNameError\u001b[0m\u001b[1;31m:\u001b[0m name 'h5file' is not defined\n"
     ]
    }
   ],
   "source": [
    "h5file.close()"
   ]
  },
  {
   "cell_type": "code",
   "execution_count": null,
   "metadata": {},
   "outputs": [],
   "source": [
    "filename = 'temp_data.h5' #create a file in the 'temp_data' folder\n",
    "h5file = h5py.File( filename, 'w' )\n",
    "my_data = h5file.create_dataset( 'dataset1', shape=(128,128, 3) ) \n",
    "#h5file.close()\n",
    "#read.disply_all_data(h5file)"
   ]
  },
  {
   "cell_type": "code",
   "execution_count": 3,
   "metadata": {},
   "outputs": [
    {
     "ename": "NameError",
     "evalue": "name 'h5file' is not defined",
     "output_type": "error",
     "traceback": [
      "Traceback \u001b[1;36m(most recent call last)\u001b[0m:\n",
      "\u001b[1;36m  File \u001b[1;32m\"C:\\Users\\Qoutayba\\AppData\\Local\\Temp/ipykernel_11912/3344093186.py\"\u001b[1;36m, line \u001b[1;32m1\u001b[1;36m, in \u001b[1;35m<module>\u001b[1;36m\u001b[0m\n\u001b[1;33m    read.display_all_data(h5file)\u001b[0m\n",
      "\u001b[1;31mNameError\u001b[0m\u001b[1;31m:\u001b[0m name 'h5file' is not defined\n"
     ]
    }
   ],
   "source": [
    "read.display_all_data(h5file)"
   ]
  },
  {
   "cell_type": "markdown",
   "metadata": {},
   "source": [
    "- `my_data` is a pointer to the dataset stored on your harddrive\n",
    "- although the array can be directly accessed, it does not have to be stored in memory to access\n",
    "- datasets can be continuously written with pointers or written immediately (see below)\n",
    "- when writing entries into the dataset care has to be taken<br>\n",
    "    $\\quad$ `my_data[ :,0,1] = np.arange(128)` $\\quad$ set the values at the first row of `my_data` <br>\n",
    "    $\\quad$ `my_data = np.ones( 128, 128, 3)`  $\\quad$ set a local variable called `my_data`\n",
    "- on the second line, a new variable is created and the pointer to the dataset is lost\n",
    "    \n",
    "----\n",
    "__Task:__ Fill the dataset `my_data` with all ones."
   ]
  },
  {
   "cell_type": "code",
   "execution_count": 5,
   "metadata": {},
   "outputs": [
    {
     "name": "stdout",
     "output_type": "stream",
     "text": [
      "pointer to the dataset set\n"
     ]
    }
   ],
   "source": [
    "my_data = h5file['dataset1'] #fix if pointer was lost\n",
    "my_data [ :,:,:] = 1\n",
    "check.allocation( my_data)"
   ]
  },
  {
   "cell_type": "markdown",
   "metadata": {},
   "source": [
    "### Metadata\n",
    "- metadata is data describing data\n",
    "- metadata should also contain information to reproduce the data\n",
    "- in this example, it should at least contain auther, creation date and h5py version\n",
    "- in h5py, the metadata is handled similar to python dictionaries\n",
    "\n",
    "- data can be neatly organized within the hdf5 file\n",
    "- folders and metadata enables good management and description of data\n",
    "\n",
    "-------------------------------\n",
    "__Task:__ Create a subfolder in your hdf5 file and attach metadata to the folder."
   ]
  },
  {
   "cell_type": "code",
   "execution_count": 6,
   "metadata": {
    "lines_to_next_cell": 0
   },
   "outputs": [],
   "source": [
    "group = h5file.create_group( 'subfolder')\n",
    "group.attrs.update( dict( created_by='group', creation_date='today' ) )"
   ]
  },
  {
   "cell_type": "markdown",
   "metadata": {},
   "source": [
    "- `group` is now a pointer to the group/folder in the hdf5 file\n",
    "- a dataset could be created e.g. by <br>\n",
    " $\\quad$ `group.create_dataset(..)` $\\qquad$ or<br>\n",
    " $\\quad$ `h5file[ 'subfolder'].create_dataset(..)` <br>\n",
    "- elements in the hdf5 file are accesed by name, or by reference (pointer variable)"
   ]
  },
  {
   "cell_type": "markdown",
   "metadata": {},
   "source": [
    "---\n",
    "__Task:__ Create a dataset containing the `random_array` in the 'subfolder' and attach metadata to it. "
   ]
  },
  {
   "cell_type": "code",
   "execution_count": 7,
   "metadata": {},
   "outputs": [
    {
     "name": "stdout",
     "output_type": "stream",
     "text": [
      "pointer is the same as reference? True\n",
      "metadata nicely set\n"
     ]
    }
   ],
   "source": [
    "random_array = np.random.rand( 219)\n",
    "print( 'pointer is the same as reference?', group == h5file[ 'subfolder'] )\n",
    "dset = group.create_dataset('dataset3' , data = random_array , compression='gzip')#TODO #create a dataset in the subfolder, use the 'data=' argument\n",
    "metadata = { 'key1':h5py.__version__, 'date' : '07.11.2021' }\n",
    "dset.attrs.update( metadata ) #add the metadata\n",
    "check.metadata( dset.attrs)"
   ]
  },
  {
   "cell_type": "markdown",
   "metadata": {},
   "source": [
    "- after you are done, you should always close the file\n",
    "- thereafter, the reference of the pointers is lost\n",
    "\n",
    "---\n",
    "__Task:__ Close the open hdf5 file."
   ]
  },
  {
   "cell_type": "code",
   "execution_count": 8,
   "metadata": {
    "lines_to_next_cell": 0
   },
   "outputs": [
    {
     "ename": "ValueError",
     "evalue": "Not a dataset (not a dataset)",
     "output_type": "error",
     "traceback": [
      "Traceback \u001b[1;36m(most recent call last)\u001b[0m:\n",
      "  File \u001b[0;32m\"C:\\Users\\Qoutayba\\AppData\\Local\\Temp/ipykernel_14880/2206447875.py\"\u001b[0m, line \u001b[0;32m2\u001b[0m, in \u001b[0;35m<module>\u001b[0m\n    print( my_data[10:15, 3, 1] )\n",
      "  File \u001b[0;32m\"h5py\\_objects.pyx\"\u001b[0m, line \u001b[0;32m54\u001b[0m, in \u001b[0;35mh5py._objects.with_phil.wrapper\u001b[0m\n",
      "  File \u001b[0;32m\"h5py\\_objects.pyx\"\u001b[0m, line \u001b[0;32m55\u001b[0m, in \u001b[0;35mh5py._objects.with_phil.wrapper\u001b[0m\n",
      "  File \u001b[0;32m\"C:\\Users\\Qoutayba\\anaconda3\\lib\\site-packages\\h5py\\_hl\\dataset.py\"\u001b[0m, line \u001b[0;32m489\u001b[0m, in \u001b[0;35m__getitem__\u001b[0m\n    if is_empty_dataspace(self.id):\n",
      "  File \u001b[0;32m\"C:\\Users\\Qoutayba\\anaconda3\\lib\\site-packages\\h5py\\_hl\\base.py\"\u001b[0m, line \u001b[0;32m87\u001b[0m, in \u001b[0;35mis_empty_dataspace\u001b[0m\n    if obj.get_space().get_simple_extent_type() == h5s.NULL:\n",
      "  File \u001b[0;32m\"h5py\\_objects.pyx\"\u001b[0m, line \u001b[0;32m54\u001b[0m, in \u001b[0;35mh5py._objects.with_phil.wrapper\u001b[0m\n",
      "  File \u001b[0;32m\"h5py\\_objects.pyx\"\u001b[0m, line \u001b[0;32m55\u001b[0m, in \u001b[0;35mh5py._objects.with_phil.wrapper\u001b[0m\n",
      "\u001b[1;36m  File \u001b[1;32m\"h5py\\h5d.pyx\"\u001b[1;36m, line \u001b[1;32m289\u001b[1;36m, in \u001b[1;35mh5py.h5d.DatasetID.get_space\u001b[1;36m\u001b[0m\n",
      "\u001b[1;31mValueError\u001b[0m\u001b[1;31m:\u001b[0m Not a dataset (not a dataset)\n"
     ]
    }
   ],
   "source": [
    "h5file.close()\n",
    "print( my_data[10:15, 3, 1] )\n",
    "#print statement should raise an error <not a dataset>"
   ]
  },
  {
   "cell_type": "code",
   "execution_count": 9,
   "metadata": {},
   "outputs": [],
   "source": [
    "h5file.close()"
   ]
  },
  {
   "cell_type": "markdown",
   "metadata": {},
   "source": [
    "-----------------\n",
    "## Accessing hdf5 files\n",
    "\n",
    "- reading hdf5 files also works with pointers\n",
    "- when assigning a viarbale to a dataset, the dataset is not stored in memory (unless specified)\n",
    "- read/write operations are generally slower when accessing data directly from the hard drive\n",
    "- the loss of computational speed is, in most cases, neglegible\n",
    "- references to datasets are lost after the file is closed\n",
    "\n",
    "---\n",
    "__Task:__ Read two datasets from the provided hdf5 file. Load the first one into memory, set a pointer to the second dataset."
   ]
  },
  {
   "cell_type": "code",
   "execution_count": 2,
   "metadata": {
    "lines_to_next_cell": 0
   },
   "outputs": [
    {
     "name": "stdout",
     "output_type": "stream",
     "text": [
      "[[0 0 0 ... 0 0 0]\n",
      " [0 0 0 ... 0 0 0]\n",
      " [0 0 0 ... 0 0 0]\n",
      " ...\n",
      " [0 0 0 ... 0 0 0]\n",
      " [0 0 0 ... 0 0 0]\n",
      " [0 0 0 ... 0 0 0]]\n",
      "(400, 400)\n",
      "[[0 0 0 ... 0 0 0]\n",
      " [0 0 0 ... 0 0 0]\n",
      " [0 0 0 ... 0 0 0]\n",
      " ...\n",
      " [0 0 0 ... 0 0 0]\n",
      " [0 0 0 ... 0 0 0]\n",
      " [0 0 0 ... 0 0 0]]\n",
      "(400, 400)\n",
      "mean value of dset_0: 0.32746875\n",
      "mean value of dset_1: 0.32349375\n",
      "dset_0\n",
      "image_data\n",
      "image_data/dset_0\n",
      "image_data/dset_1\n",
      "image_data/dset_10\n",
      "image_data/dset_11\n",
      "image_data/dset_2\n",
      "image_data/dset_3\n",
      "image_data/dset_4\n",
      "image_data/dset_5\n",
      "image_data/dset_6\n",
      "image_data/dset_7\n",
      "image_data/dset_8\n",
      "image_data/dset_9\n",
      "results12\n",
      "results12/dset_1\n",
      "results12/dset_2\n",
      "results12/dset_3\n",
      "results12/dset_4\n",
      "results12/dset_5\n",
      "results12/dset_6\n",
      "results12/dset_7\n",
      "results12/dset_8\n",
      "results12/dset_9\n",
      "################ file closed ################\n",
      "mean value of dset_0: 0.32746875\n",
      "mean value of dset_1: 0.32349375\n"
     ]
    }
   ],
   "source": [
    "h5file = h5py.File( 'data/images.h5', 'r' ) #set read permissions\n",
    "check.permissions( h5file)\n",
    "dset_0 = h5file[ 'image_data/dset_0'][:]\n",
    "dset_1 = h5file[ 'image_data/dset_1'][:] #dset_1 in the same folder\n",
    "#del h5file[result]\n",
    "print(dset_0)\n",
    "print(np.shape(dset_0))\n",
    "print(dset_1)\n",
    "print(np.shape(dset_1))\n",
    "print( 'mean value of dset_0:', dset_0.mean() )\n",
    "print( 'mean value of dset_1:', dset_1.mean() )\n",
    "h5file.visit( print) \n",
    "h5file.close()\n",
    "print( '################ file closed ################' )\n",
    "\n",
    "print( 'mean value of dset_0:', dset_0.mean() )\n",
    "try:\n",
    "    print( 'mean value of dset_1:', dset_1.mean() )\n",
    "except:\n",
    "    print( 'could not read dset_1!' ) \n"
   ]
  },
  {
   "cell_type": "markdown",
   "metadata": {},
   "source": [
    "--- \n",
    "__Task:__ Open the file 'data/images.h5' and write the result of `do_image_stuff` in the results subfolder."
   ]
  },
  {
   "cell_type": "code",
   "execution_count": 3,
   "metadata": {
    "lines_to_next_cell": 0
   },
   "outputs": [
    {
     "name": "stdout",
     "output_type": "stream",
     "text": [
      "[[0.32746875 0.32459375 0.321725   ... 0.3188625  0.321725   0.32459375]\n",
      " [0.324475   0.3231125  0.32075625 ... 0.3185375  0.32115625 0.32345625]\n",
      " [0.32148125 0.3205625  0.31875625 ... 0.31733125 0.31946875 0.3210375 ]\n",
      " ...\n",
      " [0.31849375 0.31829375 0.3172125  ... 0.31446875 0.31633125 0.31775625]\n",
      " [0.32148125 0.3210375  0.31946875 ... 0.31655625 0.31875625 0.3205625 ]\n",
      " [0.324475   0.32345625 0.32115625 ... 0.31813125 0.32075625 0.3231125 ]]\n",
      "[[0.32746875 0.32459375 0.321725   ... 0.3188625  0.321725   0.32459375]\n",
      " [0.324475   0.3231125  0.32075625 ... 0.3185375  0.32115625 0.32345625]\n",
      " [0.32148125 0.3205625  0.31875625 ... 0.31733125 0.31946875 0.3210375 ]\n",
      " ...\n",
      " [0.31849375 0.31829375 0.3172125  ... 0.31446875 0.31633125 0.31775625]\n",
      " [0.32148125 0.3210375  0.31946875 ... 0.31655625 0.31875625 0.3205625 ]\n",
      " [0.324475   0.32345625 0.32115625 ... 0.31813125 0.32075625 0.3231125 ]]\n",
      "[[0 0 0 ... 0 0 0]\n",
      " [0 0 0 ... 0 0 0]\n",
      " [0 0 0 ... 0 0 0]\n",
      " ...\n",
      " [0 0 0 ... 0 0 0]\n",
      " [0 0 0 ... 0 0 0]\n",
      " [0 0 0 ... 0 0 0]]\n",
      "[[0.32349375 0.32094375 0.31839375 ... 0.31585    0.31839375 0.32094375]\n",
      " [0.32075    0.3199     0.3178875  ... 0.31515625 0.3175     0.31959375]\n",
      " [0.31800625 0.3176375  0.31630625 ... 0.3137     0.31569375 0.31725625]\n",
      " ...\n",
      " [0.3152625  0.31468125 0.3134625  ... 0.31271875 0.31416875 0.3150875 ]\n",
      " [0.31800625 0.31725625 0.31569375 ... 0.3144375  0.31630625 0.3176375 ]\n",
      " [0.32075    0.31959375 0.3175     ... 0.315575   0.3178875  0.3199    ]]\n"
     ]
    }
   ],
   "source": [
    "result = funcs.do_image_stuff( dset_0 )\n",
    "h5file = h5py.File( 'data/images.h5', 'r+' ) \n",
    "#TODO Create the subfolder and write the result in there, give it the name 'dset_0'\n",
    "#TODO use 'compression='gzip' on the create_dataset function\n",
    "#h5file.create_dataset('dset_0' , data= result, compression='gzip')#TODO ...\n",
    "print(result)\n",
    "print(h5file['dset_0'][:])\n",
    "print(h5file['image_data/dset_0'][:])\n",
    "print(h5file['results12/dset_1'][:])\n",
    "h5file.close()"
   ]
  },
  {
   "cell_type": "markdown",
   "metadata": {},
   "source": [
    "- Opening a hdf5 file with `a` permissions will always succeed\n",
    "- a file is created if it doesnt exist, and appended to if it does exist\n",
    "- `r+` permissions only works if the file exists. This is significantly more safe for debugging. \n",
    "\n",
    "--- \n",
    "__Task:__ Open the file 'data/images.h5' with `r+` permissions. Compute the results of further datasets without storing them into memory. "
   ]
  },
  {
   "cell_type": "code",
   "execution_count": 4,
   "metadata": {
    "lines_to_next_cell": 0
   },
   "outputs": [
    {
     "ename": "ValueError",
     "evalue": "Unable to create group (name already exists)",
     "output_type": "error",
     "traceback": [
      "Traceback \u001b[1;36m(most recent call last)\u001b[0m:\n",
      "  File \u001b[0;32m\"C:\\Users\\Qoutayba\\AppData\\Local\\Temp/ipykernel_10300/106869783.py\"\u001b[0m, line \u001b[0;32m2\u001b[0m, in \u001b[0;35m<module>\u001b[0m\n    result_group = h5file.create_group('results12')\n",
      "  File \u001b[0;32m\"C:\\Users\\Qoutayba\\anaconda3\\lib\\site-packages\\h5py\\_hl\\group.py\"\u001b[0m, line \u001b[0;32m65\u001b[0m, in \u001b[0;35mcreate_group\u001b[0m\n    gid = h5g.create(self.id, name, lcpl=lcpl, gcpl=gcpl)\n",
      "  File \u001b[0;32m\"h5py\\_objects.pyx\"\u001b[0m, line \u001b[0;32m54\u001b[0m, in \u001b[0;35mh5py._objects.with_phil.wrapper\u001b[0m\n",
      "  File \u001b[0;32m\"h5py\\_objects.pyx\"\u001b[0m, line \u001b[0;32m55\u001b[0m, in \u001b[0;35mh5py._objects.with_phil.wrapper\u001b[0m\n",
      "\u001b[1;36m  File \u001b[1;32m\"h5py\\h5g.pyx\"\u001b[1;36m, line \u001b[1;32m162\u001b[1;36m, in \u001b[1;35mh5py.h5g.create\u001b[1;36m\u001b[0m\n",
      "\u001b[1;31mValueError\u001b[0m\u001b[1;31m:\u001b[0m Unable to create group (name already exists)\n"
     ]
    }
   ],
   "source": [
    "h5file = h5py.File( 'data/images.h5', 'r+' ) \n",
    "result_group = h5file.create_group('results12')\n",
    "for i in range( 1, 10):\n",
    "    dset = 'dset_{}'.format( i )\n",
    "    image_path = 'image_data/' + dset\n",
    "    image = h5file[image_path][:]\n",
    "    result = funcs.do_image_stuff(image)\n",
    "    result_group.create_dataset( dset, data=result, compression='gzip' )\n",
    "h5file.close()"
   ]
  },
  {
   "cell_type": "markdown",
   "metadata": {},
   "source": [
    "----- \n",
    "__Task:__ Open the hdf5 file once again and plot 9 'results' without storing the datasets in memory."
   ]
  },
  {
   "cell_type": "code",
   "execution_count": null,
   "metadata": {},
   "outputs": [
    {
     "ename": "KeyError",
     "evalue": "\"Unable to open object (object 'dset_0' doesn't exist)\"",
     "output_type": "error",
     "traceback": [
      "Traceback \u001b[1;36m(most recent call last)\u001b[0m:\n",
      "  File \u001b[0;32m\"C:\\Users\\Qoutayba\\AppData\\Local\\Temp/ipykernel_10132/3651303008.py\"\u001b[0m, line \u001b[0;32m5\u001b[0m, in \u001b[0;35m<module>\u001b[0m\n    result = h5file['results12/dset_{}'.format( i )]\n",
      "  File \u001b[0;32m\"h5py\\_objects.pyx\"\u001b[0m, line \u001b[0;32m54\u001b[0m, in \u001b[0;35mh5py._objects.with_phil.wrapper\u001b[0m\n",
      "  File \u001b[0;32m\"h5py\\_objects.pyx\"\u001b[0m, line \u001b[0;32m55\u001b[0m, in \u001b[0;35mh5py._objects.with_phil.wrapper\u001b[0m\n",
      "  File \u001b[0;32m\"C:\\Users\\Qoutayba\\anaconda3\\lib\\site-packages\\h5py\\_hl\\group.py\"\u001b[0m, line \u001b[0;32m288\u001b[0m, in \u001b[0;35m__getitem__\u001b[0m\n    oid = h5o.open(self.id, self._e(name), lapl=self._lapl)\n",
      "  File \u001b[0;32m\"h5py\\_objects.pyx\"\u001b[0m, line \u001b[0;32m54\u001b[0m, in \u001b[0;35mh5py._objects.with_phil.wrapper\u001b[0m\n",
      "  File \u001b[0;32m\"h5py\\_objects.pyx\"\u001b[0m, line \u001b[0;32m55\u001b[0m, in \u001b[0;35mh5py._objects.with_phil.wrapper\u001b[0m\n",
      "\u001b[1;36m  File \u001b[1;32m\"h5py\\h5o.pyx\"\u001b[1;36m, line \u001b[1;32m190\u001b[1;36m, in \u001b[1;35mh5py.h5o.open\u001b[1;36m\u001b[0m\n",
      "\u001b[1;31mKeyError\u001b[0m\u001b[1;31m:\u001b[0m \"Unable to open object (object 'dset_0' doesn't exist)\"\n"
     ]
    }
   ],
   "source": [
    "h5file = h5py.File( 'data/images.h5', 'r' ) \n",
    "fig, axes = plt.subplots( 3, 3, figsize=(16,16))\n",
    "axes = axes.flatten()\n",
    "for i in range(10):\n",
    "    result = h5file['results12/dset_{}'.format( i )]\n",
    "    axes[i].imshow( result)\n",
    "    check.memory( result)\n",
    "\n",
    "for ax in axes.flatten():\n",
    "    ax.axis( 'off')\n",
    "plt.show()\n",
    "\n",
    "h5file.close()\n",
    "plt.close('all')"
   ]
  },
  {
   "cell_type": "code",
   "execution_count": 3,
   "metadata": {},
   "outputs": [],
   "source": [
    "plt.close('all')"
   ]
  },
  {
   "cell_type": "code",
   "execution_count": null,
   "metadata": {},
   "outputs": [],
   "source": [
    "import numpy as np\n",
    "import matplotlib.pyplot as plt\n",
    "\n",
    "# Come up with x and y\n",
    "x = np.arange(0, 5, 0.1)\n",
    "y = np.sin(x)\n",
    "\n",
    "# Just print x and y for fun\n",
    "print (x)\n",
    "print (y)\n",
    "\n",
    "# Plot the x and y and you are supposed to see a sine curve\n",
    "plt.plot(x, y)\n",
    "\n",
    "# Without the line below, the figure won't show\n",
    "#plt.show()"
   ]
  },
  {
   "cell_type": "code",
   "execution_count": null,
   "metadata": {},
   "outputs": [],
   "source": []
  }
 ],
 "metadata": {
  "kernelspec": {
   "display_name": "Python 3 (Spyder)",
   "language": "python3",
   "name": "python3"
  },
  "language_info": {
   "codemirror_mode": {
    "name": "ipython",
    "version": 3
   },
   "file_extension": ".py",
   "mimetype": "text/x-python",
   "name": "python",
   "nbconvert_exporter": "python",
   "pygments_lexer": "ipython3",
   "version": "3.8.12"
  }
 },
 "nbformat": 4,
 "nbformat_minor": 4
}
