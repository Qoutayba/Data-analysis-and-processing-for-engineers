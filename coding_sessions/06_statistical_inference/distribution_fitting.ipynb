{
 "cells": [
  {
   "cell_type": "markdown",
   "metadata": {},
   "source": [
    "# Statistical Inference\n",
    "Author: Julian Lißner\n",
    "\n",
    "For questions and feedback write a mail to: [lissner@mib.uni-stuttgart.de](mailto:lissner@mib.uni-stuttgart.de)"
   ]
  },
  {
   "cell_type": "code",
   "execution_count": null,
   "metadata": {},
   "outputs": [],
   "source": [
    "import numpy as np\n",
    "import matplotlib.pyplot as plt\n",
    "import sys\n",
    "from scipy import stats as scipy_distributions\n",
    "\n",
    "sys.path.append( 'provided_functions')\n",
    "import sample\n",
    "\n",
    "sys.path.append( 'incomplete_functions' )\n",
    "import maximum_likelihood_estimators as MLE\n",
    "import data_binning as binning"
   ]
  },
  {
   "cell_type": "markdown",
   "metadata": {},
   "source": [
    "## Maximum likelhood estimator\n",
    "\n"
   ]
  },
  {
   "cell_type": "markdown",
   "metadata": {
    "lines_to_next_cell": 0
   },
   "source": [
    "### binomial distribution\n",
    "- a random variable $Y$ of the binomial distribution can only take 2 values, 0 and 1\n",
    "- the probability is thus defined by $\\displaystyle P(\\{Y=1\\})=\\theta \\quad\\text{and} \\quad P( \\{ Y=0 \\} ) = 1-\\theta$\n",
    "- the Maximum Likelihood Estimator (MLE) yields: $$\\displaystyle \\widehat{\\theta} = \\frac{1}{n} \\sum\\limits_{i=1}^n y_i$$\n",
    "- the quality of the MLE is often heavily dependent on sample size in order to dampen out the inherent randomness of sampled values\n",
    "- since the data is sampled ad hoc, you will get different results for each execution\n",
    "\n",
    "------- \n",
    "__Task:__ Write a function to estimate the parameter of the binomial distribution in 'incomplete_functions/maximum_likelihood_estimators.py' and apply/validate it.<br>\n",
    "Run the cell multiple times and try out different parameters."
   ]
  },
  {
   "cell_type": "code",
   "execution_count": null,
   "metadata": {
    "lines_to_next_cell": 2
   },
   "outputs": [],
   "source": [
    "n_flips = 20 #TODO try out different values\n",
    "weight = 0.55\n",
    "\n",
    "coin_results = sample.flip_coin( n_flips, weight=weight, datatype='array' )\n",
    "\n",
    "theta = #MLE.binomial#TODO #estimate the parameter of the binomial distribution\n",
    "print( 'true parameter:   \\t', weight)\n",
    "\n",
    "print( 'estimated parameter:\\t', theta)"
   ]
  },
  {
   "cell_type": "markdown",
   "metadata": {},
   "source": [
    "## Uniform distribution\n",
    "- a random variable $Y$ of the uniform distribution can take any value in the interval $[a,b]$\n",
    "- the probability density is given by constants as \n",
    "$ f(x) = \\frac1{b-a} $\n",
    "- the MLE yields: $$ \\widehat{a} = \\underset{i=1, \\dots, n}{\\text{min}} y_i\\,,\\qquad \\qquad \\widehat{b} = \\underset{i=1, \\dots, n}{\\text{max}} y_i$$"
   ]
  },
  {
   "cell_type": "markdown",
   "metadata": {
    "lines_to_next_cell": 0
   },
   "source": [
    "---------- \n",
    "__Task:__ Write a function to estimate the parameter of the uniform distribution in 'incomplete_functions/maximum_likelihood_estimators.py' and apply/validate it.<br>"
   ]
  },
  {
   "cell_type": "code",
   "execution_count": null,
   "metadata": {},
   "outputs": [],
   "source": [
    "n_samples = 20 #TODO #try out different parameters\n",
    "a_true = -1.5\n",
    "b_true = 5\n",
    "samples = sample.uniform_distribution( n_samples, a_true, b_true )\n",
    "\n",
    "a, b = MLE.#TODO #estimate the parameters of the uniform distribution\n",
    "\n",
    "print( 'true values of the uniform distribution:')\n",
    "print( '\\ta: {:5.2f}\\n\\tb: {:5.2f}'.format( a_true, b_true) )\n",
    "print( 'estimated values of the uniform distribution:')\n",
    "print( '\\ta: {:7.4f}\\n\\tb: {:7.4f}'.format( a, b) )\n",
    "print()\n",
    "print( 'absolute deviation of estimated interval length: {:.4f}'.format(#TODO #compute the deviation of interval length)) "
   ]
  },
  {
   "cell_type": "markdown",
   "metadata": {
    "lines_to_next_cell": 0
   },
   "source": [
    "--------------\n",
    "---------------\n",
    "## Real world distribution\n",
    "- for real world data the underlying distribution is often unknown\n",
    "- the distribution often does not perfectly follow common distributions like the normal or the uniform distribution\n",
    "- the expert (you in this case) has to guess a fitting distribution and validate the model error $\\blacktriangleright$ statistical inference\n",
    "\n",
    "-------\n",
    "__Task:__ Fit the data to the uniform distribution. "
   ]
  },
  {
   "cell_type": "code",
   "execution_count": null,
   "metadata": {
    "lines_to_next_cell": 0
   },
   "outputs": [],
   "source": [
    "data = np.load( 'data/samples.npz' )['arr_0'] \n",
    "n_samples = len( data)\n",
    "\n",
    "a, b = #TODO #estimated parameters of the uniform distribution"
   ]
  },
  {
   "cell_type": "markdown",
   "metadata": {
    "lines_to_next_cell": 0
   },
   "source": [
    "- data is often easier analyzed in bins\n",
    "- with data binning, there is always a loss of information\n",
    "- a bin is defined by:\n",
    "    - number of samples found in the $k$-th bin $N_k$<br>\n",
    "    - center value of the bin (generally not the mean of samples in the bin)<br>\n",
    "    - width of the bin $w^{\\rm bin}_k$\n",
    "- significant measurements introduced for binned data are:\n",
    "    - relative frequency: $\\quad P_k = \\frac{N_k}{n_{\\rm samples} }$<br>\n",
    "    - cumulative frequency: $F_k = \\sum\\limits_i^k P_i$ <br>\n",
    "    - bin density: $\\qquad\\quad$ $f_k = \\frac{ P_k}{w^{\\rm bin}_k} $<br>\n",
    "- Hint: The plots below might help you debugging\n",
    "------\n",
    "__Task:__ Bin the data into a reasonable amount of bins, write the `bin_data` function in 'data_binning.py'. Compute the relative and cumulative frequency of each bin as well as the bin density."
   ]
  },
  {
   "cell_type": "code",
   "execution_count": null,
   "metadata": {
    "lines_to_next_cell": 0
   },
   "outputs": [],
   "source": [
    "n_bins = 2 #TODO #parameter to be adjusted\n",
    "\n",
    "bin_occurence, bin_centers, bin_width = binning.bin_data(#TODO \n",
    "rel_freq = #TODO\n",
    "#help( np.cumsum )\n",
    "cum_freq = #TODO \n",
    "bin_density = #TODO"
   ]
  },
  {
   "cell_type": "markdown",
   "metadata": {
    "lines_to_next_cell": 0
   },
   "source": [
    "- binned data can be nicely visualized\n",
    "- recall that binned data is given as discrete data, thus, line plots are rarely a good choice\n",
    "- when plotting the CDF the cumulative frequency can not be anchored at `bin_center`<br>\n",
    "$\\quad$ the line has to go through the 'right corner' of the current bin (see lecture jupyter for an example)\n",
    "\n",
    "----------\n",
    "__Task:__ Plot the cumulative density function and the bin density/probability density of the binned data and the estimated distribution. Make sure that the plot looks nice by specifying e.g. linewidth or colors."
   ]
  },
  {
   "cell_type": "code",
   "execution_count": null,
   "metadata": {
    "lines_to_next_cell": 2
   },
   "outputs": [],
   "source": [
    "plotting_centers = bin_centers + #TODO #shift the x-value of the plots\n",
    "fig, axes = plt.subplots( 1, 2, figsize=(12,7))\n",
    "# cumulative distribution function\n",
    "axes[0].plot( [a, b, 5*b ], [0,1,1], color='red', lw=2.2, label='estimate - uniform distribution')\n",
    "axes[0].plot( #TODO #plot the CDF of the binned data , label='underlying distribution')\n",
    "axes[0].bar( #TODO #plot the bins in the CDF , width=#TODO, color='lightblue', alpha=0.5 ) \n",
    "\n",
    "# relative distribution function\n",
    "axes[1].plot( [a-0.0001, a, b, b+0.00001], [0, 1/(b-a), 1/(b-a), 0 ], color='red', lw=2.2, label='estimate - uniform distribution' )\n",
    "axes[1].bar( #TODO #display the bin density of the binned data ,label='underlying distribution' )\n",
    "\n",
    "## style of plots\n",
    "titles = ['cumulative distribution function', 'relative distribution function' ]\n",
    "for ax in axes:\n",
    "    ax.grid( color='#AAAAAA', ls=':' )\n",
    "    ax.set_title( titles.pop( 0) )\n",
    "    ax.legend()\n",
    "\n",
    "axes[0].set_ylim( ymin=0, ymax=1.01 )\n",
    "axes[0].set_xlim( xmax=b ) "
   ]
  },
  {
   "cell_type": "markdown",
   "metadata": {
    "lines_to_next_cell": 0
   },
   "source": [
    "- the MLE maximizes the likelihood function that the data is the most probable under the assumed distribution\n",
    "- the MLE does not give an error measure\n",
    "- we define an error measure for error $e$ based on the bin density:\n",
    "$$\n",
    "e = \\frac{n_{\\rm samples}}{n_{\\rm bins} }\\, \\sum\\limits_{i=1}^k \\Big|\\frac{P_k}{w^{\\rm bin}_k} - \n",
    "\\underbrace{\\frac{F(u_k| \\text{distr}) - F(l_k|\\text{distr})}{w^{\\rm bin}_k}}_{\\frac{\\text d F}{\\text d x}}\\,\\Big|\n",
    "$$\n",
    "$\\quad$ with $P_k$ being the relative frequency at bin $k$, $w^{\\rm bin}_k$ the width of bin $k$.<br>\n",
    "$\\quad$ $F(x|\\text{distr})$ denotes the cumulative distribution function of the estimated distribution evaluated at $x$<br>\n",
    "$\\quad$ $u_k$ and $l_k$ denote the _upper_ and _lower_ bound of each bin, respectively.<br>\n",
    "- the error measure is interpreted as the amount of 'wrongly binned' samples averaged over all bins, if the estimated distribution was equally binned\n",
    "- `scipy.stats` also contains distribution <br>\n",
    "$\\quad$ (scipy.stats is already imported as `scipy_distributions`)\n",
    "- when learning a new module, always look at the help function!\n",
    "\n",
    "-------\n",
    "__Task:__ Compute the defined error measure for the estimated uniform distribution."
   ]
  },
  {
   "cell_type": "code",
   "execution_count": null,
   "metadata": {},
   "outputs": [],
   "source": [
    "error_scaling = n_samples/n_bins/bin_width\n",
    "distribution = scipy_distributions.uniform\n",
    "parameters = [a, b] #previously estimated parameters using the MLE\n",
    "\n",
    "#help( distribution.cdf)\n",
    "error = 0\n",
    "for i in range( len( rel_freq)):\n",
    "    l_k = #TODO\n",
    "    u_k = #TODO\n",
    "    dF = #TODO distribution.#TODO( #TODO, *parameters) #TODO...\n",
    "    error += np.abs( (rel_freq[i] - dF)) * #TODO\n",
    "\n",
    "# the error should lie between 25 and 30   \n",
    "print( 'error measure of the uniform distribution:', error)"
   ]
  },
  {
   "cell_type": "markdown",
   "metadata": {},
   "source": [
    "- scipy has many distributions implemented, see their official documentation [https://docs.scipy.org/doc/scipy/reference/tutorial/stats/continuous.html]( https://docs.scipy.org/doc/scipy/reference/tutorial/stats/continuous.html)\n",
    "- you can implement the MLE for the respective distribution yourself, or call the `parameters = distribution.fit( data)` method\n",
    "- **NOTE** that scipy has generally implemented biased estimators for their `fit` method<br>\n",
    "$\\quad\\blacktriangleright$ parameters could be corrected to obtain the unbiased estimator\n",
    "$$\\quad$$\n",
    "------ \n",
    "__Task:__ Find a better distribution which fits the data better. The error should be at least $e \\leq 3.5$.<br>"
   ]
  },
  {
   "cell_type": "code",
   "execution_count": null,
   "metadata": {
    "lines_to_next_cell": 2
   },
   "outputs": [],
   "source": [
    "distribution = scipy_distributions#TODO\n",
    "parameters = #TODO\n",
    "\n",
    "error = 0\n",
    "for i in range( len( rel_freq)):\n",
    "    l_k = #TODO #(you might want to copy paste the code from above)\n",
    "    u_k = #TODO\n",
    "    dF = #TODO\n",
    "    error += np.abs((rel_freq[i] - dF))  * #TODO\n",
    "\n",
    "\n",
    "print( 'achieved error:', error)"
   ]
  },
  {
   "cell_type": "markdown",
   "metadata": {},
   "source": [
    "----------\n",
    "__Task:__ Compare the first 4 order moments of your estimated distribution to the moments of the random variable `data`"
   ]
  },
  {
   "cell_type": "code",
   "execution_count": null,
   "metadata": {
    "lines_to_next_cell": 0
   },
   "outputs": [],
   "source": [
    "#help( distribution.moment)\n",
    "expectation = lambda x: x.mean()\n",
    "#TODO...\n",
    "\n",
    "print( '           \\t Estimated\\t Underlying')\n",
    "print( '-------------------------------------------------')\n",
    "print( 'expectation:\\t {:9.5f}\\t {:9.5f}'.format( expectation( data), distribution.moment( 1, *parameters)) ) #TODO distribution \n",
    "print( 'std        :\\t {:9.5f}\\t {:9.5f}'.format( #TODO))"
   ]
  },
  {
   "cell_type": "markdown",
   "metadata": {
    "lines_to_next_cell": 0
   },
   "source": [
    "- the sampled CDF is directly given by the data\n",
    "- it can be recreated by asserting `n_bins = n_samples`<br>\n",
    "$\\quad \\blacktriangleright$ each sample has the relative frequency of $\\frac{1}{n_{\\text{samples}} }$\n",
    "- to plot the CDF the data does not have to be binned, it can be directly written in one line\n",
    "- additional variables might help the readability and the derivation\n",
    "\n",
    "-----------\n",
    "__Task:__ Plot the cumulative distribution and the density functions of the well matching distribution. Make sure that the plot looks nice by specifying e.g. linewidth or colors."
   ]
  },
  {
   "cell_type": "code",
   "execution_count": null,
   "metadata": {
    "lines_to_next_cell": 2
   },
   "outputs": [],
   "source": [
    "fig, axes = plt.subplots( 1, 3, figsize=(16,7))\n",
    "# cumulative distribution function\n",
    "axes[0].plot( bin_centers, distribution.#TODO #plot the CDF of the estimated distribution, label='estimated distribution')\n",
    "axes[0].plot( #TODO #plot the CDF of the binned data , label='underlying distribution' )\n",
    "axes[0].bar( #TODO #plot the bins in the CDF , width=#TODO, color='lightblue', alpha=0.5 ) \n",
    "\n",
    "# relative distribution function\n",
    "axes[1].plot( bin_centers, distribution.#TODO #plot the pdf of the estimated distribution , label='estimated distribution' )\n",
    "axes[1].bar( #TODO #display the relative frequency of the binned data  ,label='underlying distribution' )\n",
    "\n",
    "axes[2].plot( #TODO #plot the true CDF of the data ,label='sampled CDF' )\n",
    "axes[2].plot( #TODO #plot the CDF of the estimated distribution ,label='estimated distribution') \n",
    "\n",
    "## style of plots\n",
    "titles = ['cumulative frequency', 'relative frequency', 'real and estimated CDF' ]\n",
    "for ax in axes:\n",
    "    ax.grid( color='#AAAAAA', ls=':' )\n",
    "    ax.set_title( titles.pop( 0) )\n",
    "    ax.legend()\n",
    "\n",
    "axes[0].set_ylim( ymin=0, ymax=1.01 )\n",
    "axes[2].set_ylim( ymin=0, ymax=1.01 )"
   ]
  },
  {
   "cell_type": "markdown",
   "metadata": {},
   "source": [
    "\n",
    "\n",
    "\n",
    "\n",
    "\n",
    "\n",
    "\n",
    "\n"
   ]
  }
 ],
 "metadata": {
  "kernelspec": {
   "display_name": "Python 3 (Spyder)",
   "language": "python3",
   "name": "python3"
  },
  "language_info": {
   "codemirror_mode": {
    "name": "ipython",
    "version": 3
   },
   "file_extension": ".py",
   "mimetype": "text/x-python",
   "name": "python",
   "nbconvert_exporter": "python",
   "pygments_lexer": "ipython3",
   "version": "3.7.8"
  }
 },
 "nbformat": 4,
 "nbformat_minor": 4
}
