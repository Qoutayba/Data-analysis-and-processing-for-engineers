{
 "cells": [
  {
   "cell_type": "markdown",
   "metadata": {},
   "source": [
    "## Kernel methods\n",
    "\n",
    "Author: Julian Lißner\n",
    "\n",
    "For questions and feedback write a mail to: [lissner@mechbau.uni-stuttgart.de](mailto:lissner@mechbau.uni-stuttgart.de)"
   ]
  },
  {
   "cell_type": "code",
   "execution_count": null,
   "metadata": {
    "lines_to_next_cell": 2
   },
   "outputs": [],
   "source": [
    "import numpy as np\n",
    "import matplotlib.pyplot as plt\n",
    "import sys\n",
    "import pickle\n",
    "from importlib import reload\n",
    "\n",
    "sys.path.extend( ['provided_functions', 'incomplete_functions' ])\n",
    "import kernels\n",
    "import model_evaluation as evaluate\n",
    "\n",
    "import result_check as check\n",
    "import display_sets as display\n",
    "import sample_sets as sample"
   ]
  },
  {
   "cell_type": "markdown",
   "metadata": {
    "lines_to_next_cell": 0
   },
   "source": [
    "## Classification \n",
    "\n",
    "### Feature maps\n",
    "- __NOTE:__ data will be arranged row wise, each sample is one row, each feature is represented in one column.\n",
    "- feature maps introduce another dimension to the data\n",
    "- using the feature map, the classification can be conducted via sign considerations\n",
    "- the data will be classified into two sets $\\hat y$ via\n",
    "$$ \\underline{\\hat y} = \\text{sign}\\big( \\underline{\\Phi}\\,(\\underline{x})\\,\\, \\underline a + \\underline b \\big) $$\n",
    "for each sample $\\underline x$\n",
    "- the following data is classified in two sets depending on their position on the grid\n",
    "- Introducing the general formulation for the feature map $\\underline{\\Phi} $\n",
    "$$ \\underline{\\Phi}(\\underline{x}) = \\begin{bmatrix} x_1& x_2 & x_1\\cdot x_2 \\end{bmatrix} = [ x_1 \\quad x_2 \\quad \\hat{\\Phi}(\\underline{x}) ]$$\n",
    "- the data should be split depending on their position relative to the origin\n",
    "- the feature map is defined as $\\hat{\\Phi}(\\underline x)= x_1 \\cdot x_2$ for each sample in $\\underline x$\n",
    "- $a=[0 \\quad 0\\quad 1]$ and $b=0$ are given.\n",
    "-----\n",
    "__Task:__ Classify the data according to the defined feature map and classification above. "
   ]
  },
  {
   "cell_type": "code",
   "execution_count": null,
   "metadata": {
    "lines_to_next_cell": 0
   },
   "outputs": [],
   "source": [
    "data = pickle.load( open('data/feature_split.pkl', 'rb') )\n",
    "x = data[0][0]\n",
    "phi_hat = lambda x: #TODO \n",
    "phi_x = np.hstack( (x, phi_hat(x)[:,None] ) ) \n",
    "\n",
    "weights = np.array( [0,0,1] ) #a in the equation\n",
    "bias = 0  #b in the equation\n",
    "y_hat = #TODO #compute the activation of y_hat (the sign is considered below) \n",
    "x_negative = x[ #TODO ] #only where y_hat(x) is negative\n",
    "x_positive = x[ #TODO ] #only where y_hat(x) is positive\n",
    "\n",
    "display.split_sets( x_negative, x_positive, y_hat, data[0][1])\n",
    "check.Task_1a( x_negative, x, y_hat) "
   ]
  },
  {
   "cell_type": "markdown",
   "metadata": {
    "lines_to_next_cell": 0
   },
   "source": [
    "- this time the samples should be separated by their distance to the origin\n",
    "- the feature map is defined as $\\hat{\\underline{\\underline{\\Phi}}}(\\underline x)= ||x||_2$ for each sample in $\\underline x$\n",
    "- $a=[0 \\quad 0\\quad 1]$ and $b=-0.5$ are given.\n",
    "\n",
    "-------\n",
    "__Task:__ Split the data according to the defined feature map and classification above. "
   ]
  },
  {
   "cell_type": "code",
   "execution_count": null,
   "metadata": {},
   "outputs": [],
   "source": [
    "x = data[1][0]\n",
    "phi_hat = lambda #TODO\n",
    "x = np.hstack( ( x, phi_hat(x)[:,None] ))\n",
    "\n",
    "weights = #TODO\n",
    "bias = #TODO\n",
    "y_hat = #TODO\n",
    "x_one = #TODO\n",
    "x_two = #TODO\n",
    "\n",
    "display.split_sets( x_one, x_two, y_hat, data[1][1])"
   ]
  },
  {
   "cell_type": "markdown",
   "metadata": {
    "lines_to_next_cell": 0
   },
   "source": [
    "----------------\n",
    "### Supervised learning, classification\n",
    "- the given data represents a checkerboard pattern\n",
    "- for each input (pixel in the plot below), the output is given in the reference solution\n",
    "- the checkerboard is defined by the outputs having either value +1 or -1"
   ]
  },
  {
   "cell_type": "code",
   "execution_count": null,
   "metadata": {
    "lines_to_next_cell": 0
   },
   "outputs": [],
   "source": [
    "display.checkerboard()"
   ]
  },
  {
   "cell_type": "markdown",
   "metadata": {},
   "source": [
    "- goal is to reconstruct said checkerboard using the given samples\n",
    "- the data samples are the support points used to represent the checkerboard"
   ]
  },
  {
   "cell_type": "code",
   "execution_count": null,
   "metadata": {
    "lines_to_next_cell": 0
   },
   "outputs": [],
   "source": [
    "#different input parameters for the reference checkerboard can be tested\n",
    "# these will alter all the results below\n",
    "reference_checkerboard = sample.checkerboard_reference( resolution=(100,100), n_x=4, n_y=4) \n",
    "\n",
    "n_samples = 500\n",
    "n_noisy = None #number of noisy/wrongly set samples  #None=default 5%\n",
    "x, y = sample.checkerboard( reference_checkerboard, n_samples, n_noisy)\n",
    "print( '\\ntarget values found in y:', set( y) , '\\n')\n",
    "\n",
    "\n",
    "\n",
    "\n",
    "scaling = np.array( reference_checkerboard.shape)\n",
    "x_plot = (x*scaling )\n",
    "colors = np.array( ['_', 'orange', 'green'])\n",
    "fig, ax = plt.subplots( figsize=(6,6))\n",
    "ax.imshow( reference_checkerboard.T)\n",
    "_=ax.scatter( x_plot[:,0], x_plot[:,1], facecolor=colors[y.astype(int)], edgecolor='k')"
   ]
  },
  {
   "cell_type": "markdown",
   "metadata": {
    "lines_to_next_cell": 0
   },
   "source": [
    "----\n",
    "__Task:__ Split the data into two the two sets based on the output value $y$"
   ]
  },
  {
   "cell_type": "code",
   "execution_count": null,
   "metadata": {},
   "outputs": [],
   "source": [
    "negative_set = y<0\n",
    "x_negative = x[ negative_set]\n",
    "y_negative = #TODO\n",
    "n_negative = len( y_negative)\n",
    "\n",
    "positive_set = #TODO\n",
    "x_positive = #TODO\n",
    "y_positive = #TODO \n",
    "n_positive = #TODO\n",
    "\n",
    "## colors should match the background if split correctly\n",
    "resolution = reference_checkerboard.shape\n",
    "fig, ax = plt.subplots( figsize=(6,6))\n",
    "ax.imshow( reference_checkerboard.T)\n",
    "ax.scatter( x_positive[:,0]*resolution[0], x_positive[:,1]*resolution[1], color='orange', edgecolor='k' )\n",
    "ax.scatter( x_negative[:,0]*resolution[0], x_negative[:,1]*resolution[1], color='green', edgecolor='k' )\n",
    "ax.set_title( 'samples of the checkerboard pattern' )"
   ]
  },
  {
   "cell_type": "markdown",
   "metadata": {
    "lines_to_next_cell": 0
   },
   "source": [
    "- the classification is conducted with $ \\widehat y(x^\\prime) = \\text{sign}\\big(\\sum_{i=1}^n a_i\\, k( x_i, x^\\prime; \\gamma) +b\\big)$\n",
    "\n",
    "- with the two sets at hand, the weights and bias of the model can be computed\n",
    "\n",
    "- The weights are given by: \n",
    "$a_i = \\underbrace{\\frac1{n^+} (y_i +1)}_{a^+} + \\underbrace{\\frac1{n^-}(y_i -1)}_{a^-},\\qquad\\quad  y_i \\in \\{-1,+1\\} $\n",
    "- the bias is given by:\n",
    "$b =\\frac1{(n^-)^2}\\underbrace{\\sum_{i^-=1}^{n^-} \\sum_{j^-=1}^{n^-} k(x^-_i,x^-_j; \\gamma)}_{\\sum \\sum \\underline{\\underline K}^-} - \\frac1{(n^+)^2} \\underbrace{\\sum_{i^+=1}^{n^+} \\sum_{j^+=1}^{n^+} k(x^+_i,x^+_j; \\gamma)}_{\\sum \\sum \\underline{\\underline K}^+} $\n",
    "\n",
    "- using the split sets, the computation of the activation can be reformulated as $\\widehat y(x^\\prime) = \\text{sign}\\big(\\sum_{i^+} a^+\\, k( x_i, x^\\prime; \\gamma) +\\sum_{i^-} a^-\\, k( x_i, x^\\prime; \\gamma) +b\\big) $<br>\n",
    "evaluated for all training samples $x_i$ in both sets (`x_positive` and `x_negative`)\n",
    "\n",
    "-----\n",
    "__Task:__ Compute the bias and the weight of the model. Write the `classification` function in 'model_evaluation.py'.\n",
    "The result check will tell you if your model performs well. If it performs too poor for any gamma, the weights and bias might be buggy."
   ]
  },
  {
   "cell_type": "code",
   "execution_count": null,
   "metadata": {
    "lines_to_next_cell": 0
   },
   "outputs": [],
   "source": [
    "gamma = 50#TODO #hyperparameter to tune\n",
    "#if you have too few 'checkers' then gamma is probably too small\n",
    "\n",
    "\n",
    "weight_positive = #TODO\n",
    "weight_negative = #TODO\n",
    "bias_negative = #TODO.... kernels.gaussian( x_negative, x_negative, gamma)\n",
    "bias_positive = #TODO\n",
    "bias = bias_negative - bias_positive \n",
    "\n",
    "#TODO #write the function in 'model_evaluation.py'\n",
    "reload( evaluate) \n",
    "check.model( lambda x: evaluate.classification( x, x_negative, x_positive, weight_negative, weight_positive, bias, gamma), reference_checkerboard)"
   ]
  },
  {
   "cell_type": "markdown",
   "metadata": {
    "lines_to_next_cell": 0
   },
   "source": [
    "- the decision boundaries of the model can be displayed by evaluation every pixel on the grid\n",
    "--------- \n",
    "__Task:__ Evaluate the model for each value to resample the checkerboard grid.  "
   ]
  },
  {
   "cell_type": "code",
   "execution_count": null,
   "metadata": {
    "lines_to_next_cell": 2
   },
   "outputs": [],
   "source": [
    "scaling = np.array( reference_checkerboard.shape) \n",
    "boundaries = np.zeros( reference_checkerboard.shape) \n",
    "for i in range( reference_checkerboard.shape[0] ):\n",
    "    for j in range( reference_checkerboard.shape[1] ):\n",
    "        x_prime = np.array( [i, j] )/scaling \n",
    "        boundaries[i,j] = evaluate.classification( #TODO..., classify=False )\n",
    "\n",
    "\n",
    "display.sampled_checkerboard( boundaries, x_positive, x_negative, reference_checkerboard)"
   ]
  },
  {
   "cell_type": "markdown",
   "metadata": {},
   "source": []
  }
 ],
 "metadata": {
  "kernelspec": {
   "display_name": "Python 3 (Spyder)",
   "language": "python3",
   "name": "python3"
  },
  "language_info": {
   "codemirror_mode": {
    "name": "ipython",
    "version": 3
   },
   "file_extension": ".py",
   "mimetype": "text/x-python",
   "name": "python",
   "nbconvert_exporter": "python",
   "pygments_lexer": "ipython3",
   "version": "3.7.8"
  }
 },
 "nbformat": 4,
 "nbformat_minor": 4
}
