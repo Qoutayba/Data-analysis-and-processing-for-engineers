{
 "cells": [
  {
   "cell_type": "markdown",
   "metadata": {},
   "source": [
    "# Discrete and Fast Fourier Transform\n",
    "\n",
    "by Felix Fritzen fritzen@mib.uni-stuttgart.de, November 2020\n",
    "\n",
    "additional material for the course *Data Processing for Engineers and Scientists*\n",
    "\n",
    "## Content\n",
    "- FFT/DFT for convolution in Fourier space (simplistic 1D example)\n",
    "- FFT/DFT of harmonic signals\n",
    "- 2D convolution used for ASCII art\n"
   ]
  },
  {
   "cell_type": "code",
   "execution_count": 5,
   "metadata": {},
   "outputs": [],
   "source": [
    "import numpy as np\n",
    "from numpy.fft import fft, ifft, fft2, ifft2\n",
    "from scipy.linalg import dft\n"
   ]
  },
  {
   "cell_type": "markdown",
   "metadata": {},
   "source": [
    "## 1D simplistic example\n",
    "\n",
    "We start from a simple signal\n",
    "$$ \\underline{a} = [ 0, 1, 2, 3, 2, 1, 0, \\dots, 0 ]^\\mathsf{T} \\in \\mathbb{R}^{20} $$\n",
    "\n",
    "A second vector is\n",
    "$$ \\underline{b} \\in \\mathbb{R}^{20}: b_i = \\left\\lbrace\\begin{array}{cc} 1 & i \\in \\{ 1, 7 \\}\\\\ 0 & \\text{else} \\end{array}\\right.$$"
   ]
  },
  {
   "cell_type": "code",
   "execution_count": 6,
   "metadata": {},
   "outputs": [
    {
     "name": "stdout",
     "output_type": "stream",
     "text": [
      "original signal - a:\n",
      "[0. 1. 2. 3. 2. 1. 0. 0. 0. 0. 0. 0. 0. 0. 0. 0. 0. 0. 0. 0.]\n",
      "second signal   - b:\n",
      "[1. 0. 0. 0. 0. 0. 1. 0. 0. 0. 0. 0. 0. 0. 0. 0. 0. 0. 0. 0.]\n",
      "convolution     - a*b:\n",
      "[-0.  1.  2.  3.  2.  1.  0.  1.  2.  3.  2.  1.  0.  0.  0.  0.  0.  0.\n",
      "  0.  0.]\n",
      "third signal     - c:\n",
      "[1. 0. 0. 1. 0. 0. 0. 0. 0. 0. 0. 0. 0. 0. 0. 0. 0. 0. 0. 0.]\n",
      "convolution     - a*c:\n",
      "[ 0.  1.  2.  3.  3.  3.  3.  2.  1. -0. -0. -0. -0. -0. -0. -0.  0.  0.\n",
      "  0.  0.]\n"
     ]
    }
   ],
   "source": [
    "a = np.zeros(20)\n",
    "a[np.arange(1,4)] = np.arange(1,4)\n",
    "a[np.arange(1,3)+3] = 3-np.arange(1,3)\n",
    "b = np.zeros(20)\n",
    "b[0] = 1\n",
    "b[6] = 1\n",
    "f_a = fft(a)\n",
    "f_b = fft(b)\n",
    "f_ab = f_a*f_b\n",
    "ab = ifft(f_ab)\n",
    "print('original signal - a:')\n",
    "print(a)\n",
    "print('second signal   - b:')\n",
    "print(b)\n",
    "print('convolution     - a*b:')\n",
    "print(np.round(np.real(ab)))\n",
    "c = np.zeros(20)\n",
    "c[0] = 1\n",
    "c[3] = 1\n",
    "ac = np.round(np.real(ifft( f_a * fft(c) )))\n",
    "print('third signal     - c:')\n",
    "print(c)\n",
    "print('convolution     - a*c:')\n",
    "print(ac)\n"
   ]
  },
  {
   "cell_type": "markdown",
   "metadata": {},
   "source": [
    "\n",
    "### observations\n",
    "- convolution of $\\underline{a}$ by a zero vector with only non-zero entry $x_j\\in\\mathbb{R}\\setminus \\{0\\}$ is equivalent to shifting $\\underline{a}$ by $j$ ($j$ assumed to be zero based) and weighting the signal by $x_j$\n",
    "- the convolution $a \\ast b$ replicates the signal starting at positions 0 and 6 respectively; the two translated signals don't overlap\n",
    "- the convolution $a \\ast c$ replicates the signal starting at positions 0 and 3 respectively; the two translated signals overlap $\\to$ values are summed up\n",
    "\n",
    "**major application in the sequel: signal and image filtering**"
   ]
  },
  {
   "cell_type": "markdown",
   "metadata": {},
   "source": [
    "## 1D FFT/DFT of harmonic functions\n",
    "\n",
    "Let $\\underline{x} \\in \\mathbb{R}^n$ a uniform grid on the interval $[0, (1-1/n)]$.\n",
    "\n",
    "We define a second vector $\\underline{y}\\in\\mathbb{R}^n$ using a phase shift $\\delta\\in [0,2\\pi]$ via\n",
    "$$ y_i = \\sin( 2\\pi \\, k x_i + \\delta ) \\qquad (i=1,\\dots,n; k \\in \\{ 1, \\dots, \\lfloor n/2 \\rfloor \\} ) $$\n",
    "\n",
    "### analyze the vector $\\underline{y}$ using FFT"
   ]
  },
  {
   "cell_type": "code",
   "execution_count": 37,
   "metadata": {
    "scrolled": true
   },
   "outputs": [
    {
     "name": "stdout",
     "output_type": "stream",
     "text": [
      "y                = sin(2pi*x*k + delta); k=16; delta=  3.73064128\n",
      "F(y)_k           =  -0.2778 +   0.4157i\n",
      "F(y)_n-k         =  -0.2778 +  -0.4157i\n",
      "0.5*cos(delta)   =  -0.4157\n",
      "0.5*sin(delta)   =  -0.2778\n",
      "determined delta (asserting sine):     3.73064128 vs.   3.73064128\n"
     ]
    }
   ],
   "source": [
    "n = 128\n",
    "x = np.arange(0,n)/n\n",
    "k = 16\n",
    "delta = x[76]*2*np.pi\n",
    "#y = np.cos(2*np.pi*k*x + delta)\n",
    "y = np.sin(2*np.pi*k*x + delta)\n",
    "\n",
    "f_y = fft(y)/n # ATTENTION: divide by n\n",
    "#print(np.abs(f_y))\n",
    "print('y                = sin(2pi*x*k + delta); k=%d; delta=%12.8f' % (k, delta))\n",
    "print('F(y)_k           = %8.4f + %8.4fi' % (np.real(f_y[k]), np.imag(f_y[k])))\n",
    "print('F(y)_n-k         = %8.4f + %8.4fi' % (np.real(f_y[-k]), np.imag(f_y[-k])))\n",
    "print('0.5*cos(delta)   = %8.4f' % (0.5*np.cos(delta)))\n",
    "print('0.5*sin(delta)   = %8.4f' % (0.5*np.sin(delta)))\n",
    "# phase shift for cosine function\n",
    "delta_comp = np.mod(np.arctan2(np.imag(f_y[k]), np.real(f_y[k])), 2*np.pi)\n",
    "# phase shift for sine function --> add pi/2\n",
    "print('determined delta (asserting sine):   %12.8f vs. %12.8f' % ( np.mod( delta_comp+np.pi/2, 2*np.pi) , delta))\n",
    "x=np.random.normal(size=100)\n"
   ]
  },
  {
   "cell_type": "markdown",
   "metadata": {},
   "source": [
    "### observations\n",
    "- note that `numpy.fft` does not provide the division by $n$ (see code snippet above)\n",
    "- the absolute value of $\\widehat{y}_k$ and $\\widehat{y}_{n-k}=\\text{conj}(\\widehat{y}_k)$ ($k$ zero based) is the amplitude of an oscillation at frequency $k$ in the signal\n",
    "- the phase shift $\\delta$ can be computed from the ratio of imaginary and real value of $\\widehat{y}_k$:\n",
    "$$ \\delta = \\text{atan2} \\left( \\text{imag}\\left(\\widehat{y}_k\\right), \\text{real}\\left(\\widehat{y}_k\\right) \\right)$$\n",
    "- the previous statements can be exploited to analyze the frequency spectrum of a signal\n",
    "- filtering the signal in Fourier space will result into filtering the frequency content (e.g. for use in an equalizer)\n"
   ]
  },
  {
   "cell_type": "markdown",
   "metadata": {},
   "source": [
    "---\n",
    "## 2D FFT for making ASCII art\n"
   ]
  },
  {
   "cell_type": "code",
   "execution_count": 4,
   "metadata": {},
   "outputs": [
    {
     "name": "stdout",
     "output_type": "stream",
     "text": [
      "Candle prototype:\n",
      "[[0 0 0 0 1 0 0 0 0 0 0 0 0 0 0 0 0 0 0 0 0 0 0 0 0 0 0 0 0 0 0 0]\n",
      " [0 0 0 1 8 1 0 0 0 0 0 0 0 0 0 0 0 0 0 0 0 0 0 0 0 0 0 0 0 0 0 0]\n",
      " [0 0 0 0 1 0 0 0 0 0 0 0 0 0 0 0 0 0 0 0 0 0 0 0 0 0 0 0 0 0 0 0]\n",
      " [0 0 8 8 8 8 8 0 0 0 0 0 0 0 0 0 0 0 0 0 0 0 0 0 0 0 0 0 0 0 0 0]\n",
      " [0 0 1 8 8 8 1 0 0 0 0 0 0 0 0 0 0 0 0 0 0 0 0 0 0 0 0 0 0 0 0 0]\n",
      " [0 0 1 8 8 8 1 0 0 0 0 0 0 0 0 0 0 0 0 0 0 0 0 0 0 0 0 0 0 0 0 0]\n",
      " [0 0 1 8 8 8 1 0 0 0 0 0 0 0 0 0 0 0 0 0 0 0 0 0 0 0 0 0 0 0 0 0]\n",
      " [7 7 7 7 7 7 7 7 0 0 0 0 0 0 0 0 0 0 0 0 0 0 0 0 0 0 0 0 0 0 0 0]]\n",
      "\n",
      "improved visualization:\n",
      "    1                           \n",
      "   181                          \n",
      "    1                           \n",
      "  88888                         \n",
      "  18881                         \n",
      "  18881                         \n",
      "  18881                         \n",
      "77777777                        \n",
      "\n",
      "First Sunday of Advent, Nov 29, 2020:\n",
      "    1                           \n",
      "   181                          \n",
      "    1                           \n",
      "  88888                         \n",
      "  18881                         \n",
      "  18881                         \n",
      "  18881                         \n",
      "77777777                        \n",
      "\n",
      "Second Sunday of Advent, Dec 6, 2020:\n",
      "    1       1                   \n",
      "   181     181                  \n",
      "    1       1                   \n",
      "  88888   88888                 \n",
      "  18881   18881                 \n",
      "  18881   18881                 \n",
      "  18881   18881                 \n",
      "7777777777777777                \n",
      "\n",
      "Third Sunday of Advent, Dec 13, 2020:\n",
      "    1       1       1           \n",
      "   181     181     181          \n",
      "    1       1       1           \n",
      "  88888   88888   88888         \n",
      "  18881   18881   18881         \n",
      "  18881   18881   18881         \n",
      "  18881   18881   18881         \n",
      "777777777777777777777777        \n",
      "\n",
      "Fourth Sunday of Advent, Dec 20, 2020:\n",
      "    1       1       1       1   \n",
      "   181     181     181     181  \n",
      "    1       1       1       1   \n",
      "  88888   88888   88888   88888 \n",
      "  18881   18881   18881   18881 \n",
      "  18881   18881   18881   18881 \n",
      "  18881   18881   18881   18881 \n",
      "77777777777777777777777777777777\n"
     ]
    }
   ],
   "source": [
    "candle = np.zeros((8,32),dtype='int')\n",
    "\n",
    "candle[:,:8] = np.array([[0,0,0,0,1,0,0,0],\n",
    "[0,0,0,1,8,1,0,0],\n",
    "[0,0,0,0,1,0,0,0],\n",
    "[0,0,8,8,8,8,8,0],\n",
    "[0,0,1,8,8,8,1,0],\n",
    "[0,0,1,8,8,8,1,0],\n",
    "[0,0,1,8,8,8,1,0],\n",
    "[7,7,7,7,7,7,7,7]])\n",
    "print('Candle prototype:')\n",
    "print(candle)\n",
    "print()\n",
    "print('improved visualization:')\n",
    "print(str(candle).replace(\" \", \"\").replace(\"[\",\"\").replace(\"]\",\"\").replace(\"0\",\" \"))\n",
    "\n",
    "\n",
    "f_candle = fft2(candle)\n",
    "\n",
    "advent_first=np.zeros((8,32))\n",
    "advent_first[0][0] = 1\n",
    "advent_second=advent_first.copy()\n",
    "advent_second[0][8] = 1\n",
    "advent_third=advent_second.copy()\n",
    "advent_third[0][16] = 1\n",
    "advent_fourth=advent_third.copy()\n",
    "advent_fourth[0][24] = 1\n",
    "\n",
    "advent_first = np.round(np.real(ifft2( fft2(advent_first)  * f_candle ) )).astype(int)\n",
    "advent_second= np.round(np.real(ifft2( fft2(advent_second) * f_candle ) )).astype(int)\n",
    "advent_third = np.round(np.real(ifft2( fft2(advent_third)  * f_candle ) )).astype(int)\n",
    "advent_fourth= np.round(np.real(ifft2( fft2(advent_fourth) * f_candle ) )).astype(int)\n",
    "print()\n",
    "print('First Sunday of Advent, Nov 29, 2020:')\n",
    "print(str(advent_first).replace(\" \", \"\").replace(\"[\",\"\").replace(\"]\",\"\").replace(\"0\",\" \"))\n",
    "\n",
    "print()\n",
    "print('Second Sunday of Advent, Dec 6, 2020:')\n",
    "print(str(advent_second).replace(\" \", \"\").replace(\"[\",\"\").replace(\"]\",\"\").replace(\"0\",\" \"))\n",
    "\n",
    "print()\n",
    "print('Third Sunday of Advent, Dec 13, 2020:')\n",
    "print(str(advent_third).replace(\" \", \"\").replace(\"[\",\"\").replace(\"]\",\"\").replace(\"0\",\" \"))\n",
    "\n",
    "print()\n",
    "print('Fourth Sunday of Advent, Dec 20, 2020:')\n",
    "print(str(advent_fourth).replace(\" \", \"\").replace(\"[\",\"\").replace(\"]\",\"\").replace(\"0\",\" \"))\n"
   ]
  },
  {
   "cell_type": "code",
   "execution_count": null,
   "metadata": {},
   "outputs": [],
   "source": []
  }
 ],
 "metadata": {
  "kernelspec": {
   "display_name": "Python 3",
   "language": "python",
   "name": "python3"
  },
  "language_info": {
   "codemirror_mode": {
    "name": "ipython",
    "version": 3
   },
   "file_extension": ".py",
   "mimetype": "text/x-python",
   "name": "python",
   "nbconvert_exporter": "python",
   "pygments_lexer": "ipython3",
   "version": "3.8.5"
  }
 },
 "nbformat": 4,
 "nbformat_minor": 4
}
