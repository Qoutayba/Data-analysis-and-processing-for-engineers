{
 "cells": [
  {
   "cell_type": "markdown",
   "metadata": {},
   "source": [
    "# **Confidence interval estimation 2**\n",
    "\n",
    "by Felix Fritzen <fritzen@simtech.uni-stuttgart.de>, November 2020\n",
    "\n",
    "additional material for the course _Data processing for engineers and scientists_ at the University of Stuttgart\n",
    "\n",
    "\n",
    "## **Objective**\n",
    "Extende the previous confidence interval estimation using the central limit theorem and Student's t-distribution to estimating the variance based on the $\\chi^2$ distribution.\n",
    "\n",
    "## **Outline**\n",
    "- Confidence interval of the **variance** using the $\\chi^2$ distribution\n"
   ]
  },
  {
   "cell_type": "code",
   "execution_count": 100,
   "metadata": {},
   "outputs": [],
   "source": [
    "import numpy as np\n",
    "from numpy.random import normal\n",
    "from scipy.stats import chi2\n"
   ]
  },
  {
   "cell_type": "markdown",
   "metadata": {},
   "source": [
    "## Use of the $\\chi^2$ distribution for estimating the variance\n",
    "\n",
    "\n",
    "**Assumptions**\n",
    "- $Y_i \\sim \\mathcal{N}(0,1)$, $i=1, \\dots, n$\n",
    "- estimate $\\mathcal{I}(\\alpha)$ containing the true variance with probability $\\geq \\alpha$\n",
    "- use estimators for $\\mu, \\sigma^2$ and the $\\chi^2(\\nu)$-distribution"
   ]
  },
  {
   "cell_type": "code",
   "execution_count": 107,
   "metadata": {},
   "outputs": [
    {
     "name": "stdout",
     "output_type": "stream",
     "text": [
      "test running 10 estimations over 10 samples each\n",
      "---------------------------------------------------------------------------------\n",
      "run   1 .... I(0.975) =  [     0.43944,      4.16441  ] ;   s_n^2 =    1.02703\n",
      "run   2 .... I(0.975) =  [     0.60375,      5.72143  ] ;   s_n^2 =    1.41103\n",
      "run   3 .... I(0.975) =  [     0.36469,      3.45599  ] ;   s_n^2 =    0.85232\n",
      "run   4 .... I(0.975) =  [     0.50769,      4.81119  ] ;   s_n^2 =    1.18654\n",
      "run   5 .... I(0.975) =  [     0.42315,      4.01001  ] ;   s_n^2 =    0.98895\n",
      "run   6 .... I(0.975) =  [     0.83520,      7.91483  ] ;   s_n^2 =    1.95197\n",
      "run   7 .... I(0.975) =  [     0.68615,      6.50237  ] ;   s_n^2 =    1.60362\n",
      "run   8 .... I(0.975) =  [     0.69924,      6.62636  ] ;   s_n^2 =    1.63420\n",
      "run   9 .... I(0.975) =  [     0.22433,      2.12587  ] ;   s_n^2 =    0.52429\n",
      "run  10 .... I(0.975) =  [     0.58592,      5.55251  ] ;   s_n^2 =    1.36937\n",
      "---------------------------------------------------------------------------------\n",
      "theoretical  I(0.975) =  [     0.24662,      2.33712  ] ;   s_n^2 =    1.00000\n"
     ]
    }
   ],
   "source": [
    "n       = 10\n",
    "alpha   = 0.975\n",
    "nu      = n-1\n",
    "Z1      = chi2.ppf((1+alpha)/2, nu)\n",
    "Z2      = chi2.ppf((1-alpha)/2, nu)\n",
    "n_run   = 10\n",
    "print('test running %d estimations over %d samples each' % (n_run, n))\n",
    "print('---------------------------------------------------------------------------------')\n",
    "for i in range(n_run):\n",
    "    y       = normal(0, 1, size=n)\n",
    "    mu      = y.mean()\n",
    "    V       = np.sum((y-mu)**2)/(n-1)\n",
    "    V_min   = V * (n-1)/Z1\n",
    "    V_max   = V * (n-1)/Z2\n",
    "    print('run %3d .... I(%5.3f) =  [  %10.5f,   %10.5f  ] ;   s_n^2 = %10.5f' % (i+1, alpha, V_min, V_max, V))\n",
    "\n",
    "# theoretical values:\n",
    "V_min = Z2/(n-1)\n",
    "V_max = Z1/(n-1)\n",
    "print('---------------------------------------------------------------------------------')\n",
    "print('theoretical  I(%5.3f) =  [  %10.5f,   %10.5f  ] ;   s_n^2 = %10.5f' % (alpha, V_min, V_max, 1))"
   ]
  },
  {
   "cell_type": "markdown",
   "metadata": {},
   "source": [
    "## Empirical validation (voluntary homework)\n",
    "- compute interval as given above\n",
    "- perform a large number of random draws and estimate the variance for each run\n",
    "- compute the relative frequency of finding the true variance (here: 1) inside of the estimated interval and compare that to the target value $\\alpha$"
   ]
  },
  {
   "cell_type": "code",
   "execution_count": 108,
   "metadata": {},
   "outputs": [
    {
     "name": "stdout",
     "output_type": "stream",
     "text": [
      "---------------------------------------------------------------------------------\n",
      "P_hit 0.97552 (n_hit=195105) vs. alpha 0.97500 (alpha*n_vali=195000)\n"
     ]
    }
   ],
   "source": [
    "n_vali  = 200000\n",
    "n_hit    = 0\n",
    "\n",
    "print('---------------------------------------------------------------------------------')\n",
    "\n",
    "Z1      = chi2.ppf((1+alpha)/2, nu)\n",
    "Z2      = chi2.ppf((1-alpha)/2, nu)\n",
    "for i in range(n_vali):\n",
    "    y       = normal(0, 1, size=n)\n",
    "    mu      = y.mean()\n",
    "    V       = np.sum((y-mu)**2)/(n-1)\n",
    "    V_min   = V * (n-1)/Z1\n",
    "    V_max   = V * (n-1)/Z2\n",
    "    n_hit   += ( 1 >= V_min ) and ( 1 <= V_max )\n",
    "P_hit = n_hit / n_vali\n",
    "\n",
    "print('P_hit %7.5f (n_hit=%d) vs. alpha %7.5f (alpha*n_vali=%d)' % (P_hit, n_hit, alpha, alpha*n_vali) )\n",
    "        "
   ]
  },
  {
   "cell_type": "code",
   "execution_count": null,
   "metadata": {},
   "outputs": [],
   "source": []
  }
 ],
 "metadata": {
  "kernelspec": {
   "display_name": "Python 3",
   "language": "python",
   "name": "python3"
  },
  "language_info": {
   "codemirror_mode": {
    "name": "ipython",
    "version": 3
   },
   "file_extension": ".py",
   "mimetype": "text/x-python",
   "name": "python",
   "nbconvert_exporter": "python",
   "pygments_lexer": "ipython3",
   "version": "3.8.5"
  }
 },
 "nbformat": 4,
 "nbformat_minor": 4
}
