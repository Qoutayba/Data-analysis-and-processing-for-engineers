{
 "cells": [
  {
   "cell_type": "markdown",
   "metadata": {},
   "source": [
    "# Accessing established file formats with `pandas`\n",
    "\n",
    "Felix Fritzen (fritzen@simtech.uni-stuttgart.de)\n",
    "\n",
    "### Content\n",
    "- use pandas to access spreadsheet data (e. g. Microsoft Excel)\n",
    "- access local and remote files\n",
    "- basic operations on the data"
   ]
  },
  {
   "cell_type": "code",
   "execution_count": 47,
   "metadata": {},
   "outputs": [],
   "source": [
    "import sys\n",
    "import numpy as np\n",
    "import pandas\n",
    "import datetime\n",
    "import matplotlib.pyplot as plt"
   ]
  },
  {
   "cell_type": "markdown",
   "metadata": {},
   "source": [
    "## Example 1: Read `csv` file\n",
    "\n",
    "`csv` $\\blacktriangleright$ comma separated values\n",
    "\n",
    "*data source:* https://www.kaggle.com/lachmann12/world-population-demographics-by-age-2019\n",
    "\n",
    "**WARNING** the original file was corrupted and needed fixing in order to have proper row-assignments\n"
   ]
  },
  {
   "cell_type": "code",
   "execution_count": 16,
   "metadata": {},
   "outputs": [
    {
     "data": {
      "text/plain": [
       "Text(0.5, 1.0, 'Population age in Germany (as of 2019)')"
      ]
     },
     "execution_count": 16,
     "metadata": {},
     "output_type": "execute_result"
    },
    {
     "data": {
      "image/png": "[encoded data removed]",
      "text/plain": [
       "<Figure size 576x432 with 1 Axes>"
      ]
     },
     "metadata": {},
     "output_type": "display_data"
    }
   ],
   "source": [
    "# read raw data and keep only the relevant columns:\n",
    "raw_data = pandas.read_csv('data/world_demographics.csv')[['Country','Value','Age']]\n",
    "\n",
    "#%%\n",
    "# filter the data by country\n",
    "data    = raw_data[raw_data.Country.eq('Germany') ]\n",
    "age     = data['Age'].values\n",
    "#print(age)\n",
    "sort_idx= np.argsort(age)\n",
    "#print(sort_idx)\n",
    "age     = age[sort_idx]\n",
    "#print(age)\n",
    "population = data['Value'].values[sort_idx]\n",
    "\n",
    "params = {  'axes.titlesize' : 'x-large', \\\n",
    "            'axes.labelsize' : 'x-large', \\\n",
    "            'xtick.labelsize' : 'large', \\\n",
    "            'ytick.labelsize' : 'small', \\\n",
    "         }\n",
    "plt.rcParams.update(params)\n",
    "fig = plt.figure( figsize = (8,6))\n",
    "plt.bar( age, population/1000, width=1 )\n",
    "plt.xlabel('age [years]')\n",
    "plt.ylabel('population count [1000]')\n",
    "plt.title('Population age in Germany (as of 2019)')"
   ]
  },
  {
   "cell_type": "markdown",
   "metadata": {},
   "source": [
    "### simple processing of the data\n",
    "- get the number of people for which data is available\n",
    "- how many people under 18 live in Germany? (absolute/relative)\n",
    "- how many people were born during world war 2 (1939-1945), i.e. are aged 74-80?"
   ]
  },
  {
   "cell_type": "code",
   "execution_count": 45,
   "metadata": {},
   "outputs": [
    {
     "name": "stdout",
     "output_type": "stream",
     "text": [
      "total population                82792 k\n",
      "... thereof kids/youngsters     14380 k   (17.4%)\n",
      "... born 1939-1945               5731 k   ( 6.9%)\n"
     ]
    }
   ],
   "source": [
    "tot_pop = population.sum()\n",
    "young_pop = population[age<=18].sum()\n",
    "ww2_pop = population[np.logical_and( age>=74 , age <= 80 )].sum()\n",
    "print('total population             %8d k' % (tot_pop/1000) )\n",
    "print('... thereof kids/youngsters  %8d k   (%4.1f%%)' % ( young_pop/1000, young_pop*100./tot_pop) )\n",
    "print('... born 1939-1945           %8d k   (%4.1f%%)' % ( ww2_pop/1000, ww2_pop*100./tot_pop) )"
   ]
  },
  {
   "cell_type": "markdown",
   "metadata": {},
   "source": [
    "## Example 2: Access Excel sheet via URL\n",
    "\n",
    "- load Excel sheet directly from the web\n",
    "- process the data an show some results\n",
    "- data represents the most recent Covid-19 numbers provided by the ECDC"
   ]
  },
  {
   "cell_type": "code",
   "execution_count": 56,
   "metadata": {},
   "outputs": [
    {
     "name": "stdout",
     "output_type": "stream",
     "text": [
      "year =  [2021 2021 2021 2021 2021 2021 2021 2021 2021 2021 2021 2021 2021 2021\n",
      " 2021 2021 2021 2021 2021 2021 2021 2021 2021 2021 2021 2021 2021 2021\n",
      " 2021 2021 2021 2021 2021 2021 2021 2021 2021 2021 2021 2021 2021 2021\n",
      " 2021 2021 2021 2021 2021 2021 2021 2021 2021 2021 2021 2021 2021 2021\n",
      " 2021 2021 2021 2021 2021 2021 2021 2021 2021 2021 2021 2021 2021 2021\n",
      " 2021 2021 2021 2021 2021 2021 2021 2021 2021 2021 2021 2021 2021 2021\n",
      " 2021 2021 2021 2021 2021 2021 2021 2021 2021 2021 2021 2021 2021 2021\n",
      " 2021 2021 2021 2021 2021 2021 2021 2021 2021 2021 2021 2021 2021 2021\n",
      " 2021 2021 2021 2021 2021 2021 2021 2021 2021 2021 2021 2021 2021 2021\n",
      " 2021 2021 2021 2021 2021 2021 2021 2021 2021 2021 2021 2021 2021 2021\n",
      " 2021 2021 2021 2021 2021 2021 2021 2021 2021 2021 2021 2021 2021 2021\n",
      " 2021 2021 2021 2021 2021 2021 2021 2021 2021 2021 2021 2021 2021 2021\n",
      " 2021 2021 2021 2021 2021 2021 2021 2021 2021 2021 2021 2021 2021 2021\n",
      " 2021 2021 2021 2021 2021 2021 2021 2021 2021 2021 2021 2021 2021 2021\n",
      " 2021 2021 2021 2021 2021 2021 2021 2021 2021 2021 2021 2021 2021 2021\n",
      " 2021 2021 2021 2021 2021 2021 2021 2021 2021 2021 2021 2021 2021 2021\n",
      " 2021 2021 2021 2021 2021 2021 2021 2021 2021 2021 2021 2021 2021 2021\n",
      " 2021 2021 2021 2021 2021 2021 2021 2021 2021 2021 2021 2021 2021 2021\n",
      " 2021 2021 2021 2021 2021 2021 2021 2021 2021 2021 2021]\n",
      "month =  [11 11 11 11 11 11 11 11 11 11 11 11 11 11 11 11 11 11 10 10 10 10 10 10\n",
      " 10 10 10 10 10 10 10 10 10 10 10 10 10 10 10 10 10 10 10 10 10 10 10 10\n",
      " 10  9  9  9  9  9  9  9  9  9  9  9  9  9  9  9  9  9  9  9  9  9  9  9\n",
      "  9  9  9  9  9  9  9  8  8  8  8  8  8  8  8  8  8  8  8  8  8  8  8  8\n",
      "  8  8  8  8  8  8  8  8  8  8  8  8  8  8  7  7  7  7  7  7  7  7  7  7\n",
      "  7  7  7  7  7  7  7  7  7  7  7  7  7  7  7  7  7  7  7  7  7  6  6  6\n",
      "  6  6  6  6  6  6  6  6  6  6  6  6  6  6  6  6  6  6  6  6  6  6  6  6\n",
      "  6  6  6  5  5  5  5  5  5  5  5  5  5  5  5  5  5  5  5  5  5  5  5  5\n",
      "  5  5  5  5  5  5  5  5  5  5  4  4  4  4  4  4  4  4  4  4  4  4  4  4\n",
      "  4  4  4  4  4  4  4  4  4  4  4  4  4  4  4  4  3  3  3  3  3  3  3  3\n",
      "  3  3  3  3  3  3  3  3  3  3  3  3  3  3  3  3  3  3  3  3  3  3  3]\n",
      "day =  [18 17 16 15 14 13 12 11 10  9  8  7  6  5  4  3  2  1 31 30 29 28 27 26\n",
      " 25 24 23 22 21 20 19 18 17 16 15 14 13 12 11 10  9  8  7  6  5  4  3  2\n",
      "  1 30 29 28 27 26 25 24 23 22 21 20 19 18 17 16 15 14 13 12 11 10  9  8\n",
      "  7  6  5  4  3  2  1 31 30 29 28 27 26 25 24 23 22 21 20 19 18 17 16 15\n",
      " 14 13 12 11 10  9  8  7  6  5  4  3  2  1 31 30 29 28 27 26 25 24 23 22\n",
      " 21 20 19 18 17 16 15 14 13 12 11 10  9  8  7  6  5  4  3  2  1 30 29 28\n",
      " 27 26 25 24 23 22 21 20 19 18 17 16 15 14 13 12 11 10  9  8  7  6  5  4\n",
      "  3  2  1 31 30 29 28 27 26 25 24 23 22 21 20 19 18 17 16 15 14 13 12 11\n",
      " 10  9  8  7  6  5  4  3  2  1 30 29 28 27 26 25 24 23 22 21 20 19 18 17\n",
      " 16 15 14 13 12 11 10  9  8  7  6  5  4  3  2  1 31 30 29 28 27 26 25 24\n",
      " 23 22 21 20 19 18 17 16 15 14 13 12 11 10  9  8  7  6  5  4  3  2  1]\n",
      "n =  263\n",
      "cases =  [  65371   52826   32048   23607   33498   45081   48640   50196   39676\n",
      "   21832   15513   23543   34002   37120   33949   20398   10813    9658\n",
      "   16887   21543   24668   28037   18529   15156    6573   13732   15145\n",
      "   19572   16077   17015    6771    4056    8682   10949   11518   12382\n",
      "   11903    4971    3111    7612    8854   10429   11644   11547    4799\n",
      "    3088    6164    8517   10118   12150   11780    4171    3022    7774\n",
      "    7211    9727   10696   10454    4664    3736    7337    8901   11022\n",
      "   12925   12455    6325    5511    7345   11214   12969   15431   13565\n",
      "    6726    4749   10453   10835   14251   13715   13531    5750    4559\n",
      "    8416   10303   12029   12626   11561    5747    3668    7050    8092\n",
      "    9280    8400    8324    3912    2126    4728    5644    5578    5638\n",
      "    4996    2480    1183    3127    3206    3448    3539    3571    1766\n",
      "     847    2097    2400    2454    3142    2768    1545     958    1387\n",
      "    1919    2089    1890    2203    1183     546    1292    1608    1456\n",
      "    1642    1548     646     324     745     952     949     970     985\n",
      "     440     212     559     671     649     892     808     404     219\n",
      "     538     592     774    1008    1016     455     346     842    1108\n",
      "    1076    1330    1455     652     549    1489    1911    2440    3187\n",
      "    3254    1204    1117    2440    2294    3165    4640    4917    1785\n",
      "    1978    3852    5426    7380    6313    2626    1911    2682    6714\n",
      "    7082    8769   12298   11040    4209    5412    8500    7894   11336\n",
      "   17419   14909    6125    6922   12656   15685   18485   21953   18034\n",
      "    7534    9160   16290   18935   24329   24736   22231   10976   11907\n",
      "   18773   23392   27543   29518   24884    9609   11437   19185   23804\n",
      "   25831   29426   21693   10810   13245   17855   24097   25464   20407\n",
      "    9677    6885    8497   12196   18129   21888   24300   17051    9549\n",
      "    9872   17176   20472   21573   22657   15813    7485    7709   13733\n",
      "   16033   17482   17504   13435    5480    6604   10790   12674   12834\n",
      "   14356    9146    4252    5011    8103    9557   10580   11912    9019\n",
      "    3943 2447068]\n",
      "yearvalue =  [2021]\n"
     ]
    }
   ],
   "source": [
    "rawData = pandas.read_excel('https://opendata.ecdc.europa.eu/covid19/nationalcasedeath_eueea_daily_ei/xlsx/data.xlsx')\n",
    "\n",
    "country = 'DE'\n",
    "filtered_data = rawData[rawData['geoId'] == country]\n",
    "\n",
    "# extract some relevant data\n",
    "year    = filtered_data['year'].values\n",
    "month   = filtered_data['month'].values\n",
    "day     = filtered_data['day'].values\n",
    "n       = year.shape[0]\n",
    "cases   = filtered_data['cases'].values\n",
    "yearvalue = filtered_data['year'].unique()\n",
    "print('year = ', year)\n",
    "print('month = ', month)\n",
    "print('day = ', day)\n",
    "print('n = ', n)\n",
    "print('cases = ', cases)\n",
    "print('yearvalue = ', yearvalue)"
   ]
  },
  {
   "cell_type": "markdown",
   "metadata": {},
   "source": [
    "### Basic operations on the data\n",
    "- get the day of week\n",
    "- explore the last number of cases for each day of the week\n",
    "\n",
    "**Note:** Most recent data comes first"
   ]
  },
  {
   "cell_type": "code",
   "execution_count": 60,
   "metadata": {},
   "outputs": [
    {
     "name": "stdout",
     "output_type": "stream",
     "text": [
      "[3. 2. 1. 0. 6. 5. 4. 3. 2. 1. 0. 6. 5. 4. 3. 2. 1. 0. 6. 5. 4. 3. 2. 1.\n",
      " 0. 6. 5. 4. 3. 2. 1. 0. 6. 5. 4. 3. 2. 1. 0. 6. 5. 4. 3. 2. 1. 0. 6. 5.\n",
      " 4. 3. 2. 1. 0. 6. 5. 4. 3. 2. 1. 0. 6. 5. 4. 3. 2. 1. 0. 6. 5. 4. 3. 2.\n",
      " 1. 0. 6. 5. 4. 3. 2. 1. 0. 6. 5. 4. 3. 2. 1. 0. 6. 5. 4. 3. 2. 1. 0. 6.\n",
      " 5. 4. 3. 2. 1. 0. 6. 5. 4. 3. 2. 1. 0. 6. 5. 4. 3. 2. 1. 0. 6. 5. 4. 3.\n",
      " 2. 1. 0. 6. 5. 4. 3. 2. 1. 0. 6. 5. 4. 3. 2. 1. 0. 6. 5. 4. 3. 2. 1. 0.\n",
      " 6. 5. 4. 3. 2. 1. 0. 6. 5. 4. 3. 2. 1. 0. 6. 5. 4. 3. 2. 1. 0. 6. 5. 4.\n",
      " 3. 2. 1. 0. 6. 5. 4. 3. 2. 1. 0. 6. 5. 4. 3. 2. 1. 0. 6. 5. 4. 3. 2. 1.\n",
      " 0. 6. 5. 4. 3. 2. 1. 0. 6. 5. 4. 3. 2. 1. 0. 6. 5. 4. 3. 2. 1. 0. 6. 5.\n",
      " 4. 3. 2. 1. 0. 6. 5. 4. 3. 2. 1. 0. 6. 5. 4. 3. 2. 1. 0. 6. 5. 4. 3. 2.\n",
      " 1. 0. 6. 5. 4. 3. 2. 1. 0. 6. 5. 4. 3. 2. 1. 0. 6. 5. 4. 3. 2. 1. 0.]\n",
      " 15513 cases recorded last Monday\n",
      " 21832 cases recorded last Tuesday\n",
      " 39676 cases recorded last Wednesday\n",
      " 50196 cases recorded last Thursday\n",
      " 37120 cases recorded last Friday\n",
      " 34002 cases recorded last Saturday\n",
      " 23543 cases recorded last Sunday\n",
      "---------------------------------------------------------------------------------\n",
      "last week's average number of cases 31697 (most recent 7 day incidence: 268.0)\n",
      "(assumed population size 82.79 Mio.)\n"
     ]
    }
   ],
   "source": [
    "dow     = np.zeros(n)\n",
    "   \n",
    "for i in range(n):\n",
    "    dow[i] = datetime.date(year[i], month[i], day[i]).isoweekday() - 1\n",
    "print(dow)\n",
    "DOW_name    = ('Monday', 'Tuesday', 'Wednesday', 'Thursday', 'Friday', 'Saturday', 'Sunday')\n",
    "\n",
    "week_av = 0\n",
    "for i in range(7):\n",
    "    val = cases[dow==i][1]\n",
    "    week_av += val/7\n",
    "    print('%6d cases recorded last %s' % ( val, DOW_name[i] ) )\n",
    "\n",
    "print('---------------------------------------------------------------------------------')\n",
    "print('last week\\'s average number of cases %d (most recent 7 day incidence: %.1f)' \\\n",
    "      % ( week_av, week_av / tot_pop * 1e5 * 7 ) )\n",
    "print('(assumed population size %.2f Mio.)' % (tot_pop/1e6))"
   ]
  },
  {
   "cell_type": "markdown",
   "metadata": {},
   "source": [
    "### Get the value range of a certain column\n",
    "- which country code sare available?"
   ]
  },
  {
   "cell_type": "code",
   "execution_count": 8,
   "metadata": {},
   "outputs": [
    {
     "name": "stdout",
     "output_type": "stream",
     "text": [
      "['AT' 'BE' 'BG' 'HR' 'CY' 'CZ' 'DK' 'EE' 'FI' 'FR' 'DE' 'EL' 'HU' 'IS'\n",
      " 'IE' 'IT' 'LV' 'LI' 'LT' 'LU' 'MT' 'NL' 'NO' 'PL' 'PT' 'RO' 'SK' 'SI'\n",
      " 'ES' 'SE']\n"
     ]
    }
   ],
   "source": [
    "country_id = rawData['geoId'].unique()\n",
    "print(country_id)"
   ]
  },
  {
   "cell_type": "code",
   "execution_count": null,
   "metadata": {},
   "outputs": [],
   "source": []
  }
 ],
 "metadata": {
  "kernelspec": {
   "display_name": "Python 3 (Spyder)",
   "language": "python3",
   "name": "python3"
  },
  "language_info": {
   "codemirror_mode": {
    "name": "ipython",
    "version": 3
   },
   "file_extension": ".py",
   "mimetype": "text/x-python",
   "name": "python",
   "nbconvert_exporter": "python",
   "pygments_lexer": "ipython3",
   "version": "3.9.7"
  }
 },
 "nbformat": 4,
 "nbformat_minor": 4
}
