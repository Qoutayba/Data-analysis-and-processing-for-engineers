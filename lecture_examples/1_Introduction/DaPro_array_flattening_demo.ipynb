{
 "cells": [
  {
   "cell_type": "markdown",
   "metadata": {},
   "source": [
    "# Array flattening demo\n",
    "\n",
    "Felix Fritzen (fritzen@simtech.uni-stuttgart.de)\n",
    "\n",
    "Data Processing for Engineers and Scientists\n"
   ]
  },
  {
   "cell_type": "markdown",
   "metadata": {},
   "source": [
    "## Reshaping a simple vector in `python`"
   ]
  },
  {
   "cell_type": "code",
   "execution_count": 1,
   "metadata": {},
   "outputs": [
    {
     "name": "stdout",
     "output_type": "stream",
     "text": [
      "[ 1  2  3  4  5  6  7  8  9 10 11 12 13 14 15 16 17 18 19 20 21 22 23 24]\n",
      "[[ 1  2]\n",
      " [ 3  4]\n",
      " [ 5  6]\n",
      " [ 7  8]\n",
      " [ 9 10]\n",
      " [11 12]\n",
      " [13 14]\n",
      " [15 16]\n",
      " [17 18]\n",
      " [19 20]\n",
      " [21 22]\n",
      " [23 24]]\n",
      "[[[ 1  2  3  4]\n",
      "  [ 5  6  7  8]\n",
      "  [ 9 10 11 12]]\n",
      "\n",
      " [[13 14 15 16]\n",
      "  [17 18 19 20]\n",
      "  [21 22 23 24]]]\n"
     ]
    }
   ],
   "source": [
    "import numpy as np\n",
    "\n",
    "a = np.arange(1,25)\n",
    "a2= a.reshape([12, 2])\n",
    "a3= a.reshape([2,3,4])\n",
    "\n",
    "print(a)\n",
    "print(a2)\n",
    "print(a3)"
   ]
  },
  {
   "cell_type": "markdown",
   "metadata": {},
   "source": [
    "## Reshaping the same vector in `MATLAB`\n",
    "`a2 = reshape( 1:24, 12, 2)`<br>\n",
    "`disp(a2)`\n",
    "\n",
    "     1    13\n",
    "     2    14\n",
    "     3    15\n",
    "     4    16\n",
    "     5    17\n",
    "     6    18\n",
    "     7    19\n",
    "     8    20\n",
    "     9    21\n",
    "    10    22\n",
    "    11    23\n",
    "    12    24\n",
    "\n",
    "`a3 = reshape(a, 2,3,4)`<br>\n",
    "`disp(reshape(a3(1,:,:),3,4))`<br>\n",
    "\n",
    "     1     7    13    19\n",
    "     3     9    15    21\n",
    "     5    11    17    23\n",
    "\n",
    "`disp(reshape(a3(2,:,:),3,4))`<br>\n",
    "\n",
    "     2     8    14    20\n",
    "     4    10    16    22\n",
    "     6    12    18    24\n",
    "     "
   ]
  },
  {
   "cell_type": "code",
   "execution_count": null,
   "metadata": {},
   "outputs": [],
   "source": []
  }
 ],
 "metadata": {
  "kernelspec": {
   "display_name": "Python 3",
   "language": "python",
   "name": "python3"
  },
  "language_info": {
   "codemirror_mode": {
    "name": "ipython",
    "version": 3
   },
   "file_extension": ".py",
   "mimetype": "text/x-python",
   "name": "python",
   "nbconvert_exporter": "python",
   "pygments_lexer": "ipython3",
   "version": "3.8.10"
  }
 },
 "nbformat": 4,
 "nbformat_minor": 4
}
