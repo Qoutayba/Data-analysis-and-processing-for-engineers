{
 "cells": [
  {
   "cell_type": "markdown",
   "metadata": {},
   "source": [
    "# Discrete probability measures: fair vs. loaded dice\n",
    "\n",
    "Authors: Dinesh Krishna Natarajan (dinesh_krishna.natarajan@dfki.de), Felix Fritzen (fritzen@simtech.uni-stuttgart.de)\n",
    "   \n",
    "additional material for the course *Data processing for engineers and scientists* at the University of Stuttgart\n",
    "\n",
    "# Fair and loaded dice using numpy\n",
    "\n",
    "- drawing cards from a deck using a fair dice (uniformly distributed probabilities)\n",
    "- drawing cards from a deck using loaded dice (select cards have biased probabilities) *(German: \"gezinkte Karten/Würfel\")*\n"
   ]
  },
  {
   "cell_type": "code",
   "execution_count": 2,
   "metadata": {},
   "outputs": [],
   "source": [
    "import numpy as np\n",
    "import math"
   ]
  },
  {
   "cell_type": "markdown",
   "metadata": {},
   "source": [
    "## Creating the deck of cards\n",
    "\n",
    "- a standard card deck contains 52 cards with 4 suits containing 13 cards each\n",
    "- each suit has: `{ A, 2, 3, 4, 5, 6, 7, 8, 9, 10, J, Q, K}` \\\n",
    "where  `{ A, J, Q, K }` stand for ace, jack, queen and king, respectively\n",
    "\n",
    "<figure>\n",
    "    <center>\n",
    "    <img src=\"https://upload.wikimedia.org/wikipedia/commons/thumb/5/58/AcetoFive.JPG/1200px-AcetoFive.JPG\" width=500 height=500 />\n",
    "    <figcaption>Playing cards (<a href=\"https://en.wikipedia.org/wiki/Playing_card\">image source</a>).</figcaption>\n",
    "    </center>\n",
    "</figure>"
   ]
  },
  {
   "cell_type": "code",
   "execution_count": 3,
   "metadata": {},
   "outputs": [
    {
     "name": "stdout",
     "output_type": "stream",
     "text": [
      "Sample cards:\n",
      "Hearts   3\n",
      "Clubs    J\n",
      "Clubs    4\n",
      "Clubs    8\n",
      "Hearts   10\n",
      "Spades   8\n",
      "\n",
      "Deck of cards printed in 2D:\n",
      " [[ 0  1  2  3  4  5  6  7  8  9 10 11 12]\n",
      " [13 14 15 16 17 18 19 20 21 22 23 24 25]\n",
      " [26 27 28 29 30 31 32 33 34 35 36 37 38]\n",
      " [39 40 41 42 43 44 45 46 47 48 49 50 51]]\n",
      "\n",
      "Deck of cards printed using human readable names:\n",
      "card  1:  Diamonds A\n",
      "card  2:  Diamonds 2\n",
      "card  3:  Diamonds 3\n",
      "card  4:  Diamonds 4\n",
      "card  5:  Diamonds 5\n",
      "card  6:  Diamonds 6\n",
      "card  7:  Diamonds 7\n",
      "card  8:  Diamonds 8\n",
      "card  9:  Diamonds 9\n",
      "card 10:  Diamonds 10\n",
      "card 11:  Diamonds J\n",
      "card 12:  Diamonds Q\n",
      "card 13:  Diamonds K\n",
      "card 14:  Hearts   A\n",
      "card 15:  Hearts   2\n",
      "card 16:  Hearts   3\n",
      "card 17:  Hearts   4\n",
      "card 18:  Hearts   5\n",
      "card 19:  Hearts   6\n",
      "card 20:  Hearts   7\n",
      "card 21:  Hearts   8\n",
      "card 22:  Hearts   9\n",
      "card 23:  Hearts   10\n",
      "card 24:  Hearts   J\n",
      "card 25:  Hearts   Q\n",
      "card 26:  Hearts   K\n",
      "card 27:  Spades   A\n",
      "card 28:  Spades   2\n",
      "card 29:  Spades   3\n",
      "card 30:  Spades   4\n",
      "card 31:  Spades   5\n",
      "card 32:  Spades   6\n",
      "card 33:  Spades   7\n",
      "card 34:  Spades   8\n",
      "card 35:  Spades   9\n",
      "card 36:  Spades   10\n",
      "card 37:  Spades   J\n",
      "card 38:  Spades   Q\n",
      "card 39:  Spades   K\n",
      "card 40:  Clubs    A\n",
      "card 41:  Clubs    2\n",
      "card 42:  Clubs    3\n",
      "card 43:  Clubs    4\n",
      "card 44:  Clubs    5\n",
      "card 45:  Clubs    6\n",
      "card 46:  Clubs    7\n",
      "card 47:  Clubs    8\n",
      "card 48:  Clubs    9\n",
      "card 49:  Clubs    10\n",
      "card 50:  Clubs    J\n",
      "card 51:  Clubs    Q\n",
      "card 52:  Clubs    K\n"
     ]
    }
   ],
   "source": [
    "import collections\n",
    "\n",
    "def get_iterable(x):\n",
    "    if isinstance(x, collections.abc.Iterable):\n",
    "        return x\n",
    "    else:\n",
    "        return [x]\n",
    "    \n",
    "# utility function for naming cards\n",
    "def card_name( i ):\n",
    "    color = [ 'Diamonds', 'Hearts  ', 'Spades  ', 'Clubs   ']\n",
    "    cards = [ 'A', '2', '3', '4', '5', '6', '7', '8', '9', '10', 'J', 'Q', 'K']\n",
    "    first = 1\n",
    "    name = ''\n",
    "    i = get_iterable(i)\n",
    "    for j in i:\n",
    "        if( first == 0 ):\n",
    "            name = name + '; '\n",
    "        name  = name + color[int(np.mod(j/13, 4))] + ' ' + cards[np.mod(j, 13)]\n",
    "        first = 0\n",
    "    return name\n",
    "\n",
    "# illustrate the meaning of the above function\n",
    "print('Six random cards from the deck:')\n",
    "for j in np.random.randint( 0, 52, 6):\n",
    "    print(card_name(j))\n",
    "\n",
    "\n",
    "# Defining the deck of cards using a 1D array of length 52\n",
    "deck_of_cards = np.arange(52)\n",
    "print('\\nDeck of cards printed in 2D:\\n', deck_of_cards.reshape(4,13))\n",
    "print()\n",
    "\n",
    "print('Deck of cards printed using human readable names:')\n",
    "for j in deck_of_cards:\n",
    "    print('card %2d:  %s' %(j+1, card_name(j)))"
   ]
  },
  {
   "cell_type": "markdown",
   "metadata": {},
   "source": [
    "## Drawing cards from the deck\n",
    "\n",
    "- using the function [`numpy.random.choice( array, length )`](https://numpy.org/doc/stable/reference/random/generated/numpy.random.choice.html), a subset of a specific `length` (i.e. number of samples) can be drawn from a 1D array `array`\n",
    "- using the argument `replace=False`, the sample space of the deck decreases as each card is drawn. This avoids drawing duplicates. \n"
   ]
  },
  {
   "cell_type": "code",
   "execution_count": 7,
   "metadata": {},
   "outputs": [
    {
     "name": "stdout",
     "output_type": "stream",
     "text": [
      "Chosen cards\n",
      "Diamonds 5; Diamonds J; Spades   2; Spades   4; Spades   5; Spades   9; Clubs    3\n"
     ]
    }
   ],
   "source": [
    "# Draw a subset of cards of length 'num_cards' from the deck without replacement\n",
    "num_cards    = 7\n",
    "chosen_cards = np.random.choice( deck_of_cards, size=num_cards, replace=False )\n",
    "chosen_cards = np.sort( chosen_cards )\n",
    "\n",
    "print('Chosen cards')\n",
    "print( card_name(chosen_cards)) "
   ]
  },
  {
   "cell_type": "markdown",
   "metadata": {},
   "source": [
    "## Defining a card game\n",
    "\n",
    "- assuming a card game where drawing aces is favorable, it can be tempting to load the dice in favor of aces\n",
    "- The aces in this deck of cards are: `[0, 13, 26, 39]`"
   ]
  },
  {
   "cell_type": "code",
   "execution_count": 8,
   "metadata": {},
   "outputs": [
    {
     "name": "stdout",
     "output_type": "stream",
     "text": [
      "Aces: Diamonds A; Hearts   A; Spades   A; Clubs    A\n"
     ]
    }
   ],
   "source": [
    "aces        = np.arange(0,4) * 13\n",
    "# Using set difference to retrieve the other cards from the deck\n",
    "other_cards = np.setdiff1d( deck_of_cards, aces )\n",
    "\n",
    "print('Aces:', card_name(aces))"
   ]
  },
  {
   "cell_type": "markdown",
   "metadata": {},
   "source": [
    "## Drawing probabilities of each card\n",
    "\n",
    "- the argument `p` of `numpy.random.choice` defines the probabilites associated with each element of the 1D array. \n",
    "- By default, a uniform distribution over all elements is used. \n",
    "- Thus, a fair dice ensures a uniform probability for drawing each card from the deck. \n",
    "\n",
    "## 'Loading the dice'\n",
    "by manipulating the probabilities of each entry, the chances of drawing the desired cards can be unfairly increased\n",
    "\n",
    "#### load_dice function:\n",
    "\n",
    "- this function loads the dice in favor of aces\n",
    "- the argument `overweight` defines the premultiplier in the following expression: \n",
    "$ P( \\text{one [any] ace} ) = \\text{overweight}\\; \\times P( \\text{any other card} ) $\n",
    "- the probabilities have to be normalized such that: \n",
    "$ P( \\text{deck of cards} ) = 1\\; $ or $\\; \\sum P( \\text{card} ) = 1 $ \n",
    "- the function returns `loaded_dice`: the unfair probabilities for all cards\n",
    "\n"
   ]
  },
  {
   "cell_type": "code",
   "execution_count": 11,
   "metadata": {},
   "outputs": [],
   "source": [
    "def load_dice( overweight, aces, deck_size = 52 ):\n",
    "    \"\"\"\n",
    "    returns the probabilities of all cards in the deck\n",
    "    \n",
    "    INPUT\n",
    "    -----\n",
    "    overweight      float (>= 0)\n",
    "                    relative probability of finding an ace vs. another card\n",
    "                    1  -> no overweight\n",
    "                    <1 -> underweight\n",
    "                    >1 -> bias towards aces\n",
    "    \n",
    "    aces            numpy.array (1-d, int)\n",
    "                    indices of aces in the deck\n",
    "                    \n",
    "    deck_size       int (>=0)\n",
    "                    number of cards in the deck\n",
    "    \"\"\"\n",
    "    assert( deck_size > 0)\n",
    "    assert( deck_size >= np.max(aces) )\n",
    "    assert( overweight >= 0 )\n",
    "    \n",
    "    loaded_dice                = np.ones( deck_size, dtype=float)\n",
    "    loaded_dice[ aces ]        = overweight\n",
    "    # normalize probabilities\n",
    "    loaded_dice                = loaded_dice / np.sum( loaded_dice )\n",
    "    \n",
    "    return loaded_dice"
   ]
  },
  {
   "cell_type": "markdown",
   "metadata": {},
   "source": [
    "- get a loaded dice with a desired `overweight` value for the aces\n",
    "- check for normalization property of a discrete probability measure $P\\,$:  $\\; \\sum P( \\text{card} ) = 1 $ "
   ]
  },
  {
   "cell_type": "code",
   "execution_count": 12,
   "metadata": {},
   "outputs": [
    {
     "name": "stdout",
     "output_type": "stream",
     "text": [
      "Loaded dice printed in 2D:\n",
      "[[0.05   0.0167 0.0167 0.0167 0.0167 0.0167 0.0167 0.0167 0.0167 0.0167\n",
      "  0.0167 0.0167 0.0167]\n",
      " [0.05   0.0167 0.0167 0.0167 0.0167 0.0167 0.0167 0.0167 0.0167 0.0167\n",
      "  0.0167 0.0167 0.0167]\n",
      " [0.05   0.0167 0.0167 0.0167 0.0167 0.0167 0.0167 0.0167 0.0167 0.0167\n",
      "  0.0167 0.0167 0.0167]\n",
      " [0.05   0.0167 0.0167 0.0167 0.0167 0.0167 0.0167 0.0167 0.0167 0.0167\n",
      "  0.0167 0.0167 0.0167]]\n",
      "\n",
      "P( deck of cards ) =  1.0000000000000002\n",
      "Deviation is less than 3 times machine precision\n",
      "The loaded dice is a discrete probability measure!\n"
     ]
    }
   ],
   "source": [
    "overweight        = 3.\n",
    "loaded_dice       = load_dice( overweight, aces, deck_size=52 )\n",
    "sum_probabilities = loaded_dice.sum() \n",
    "tol_factor        = 3\n",
    "\n",
    "print('Loaded dice printed in 2D:')\n",
    "with np.printoptions( precision=4 ):\n",
    "    print( loaded_dice.reshape(4,13) )\n",
    "print('\\nP( deck of cards ) = ', sum_probabilities)\n",
    "\n",
    "# Check for normalization property\n",
    "deviation = np.abs(sum_probabilities-1.0)\n",
    "if not deviation == 0 :\n",
    "    # check if deviation is of the order of machine precision\n",
    "    if math.isclose( deviation, 0, abs_tol=tol_factor*1e-16 ):\n",
    "        print('Deviation is less than {} times machine precision'.format( tol_factor ))\n",
    "    else:\n",
    "        raise ValueError('Deviation is greater than machine precision! Normalization property is NOT satisfied!')\n",
    "\n",
    "print('The loaded dice is a discrete probability measure!')"
   ]
  },
  {
   "cell_type": "markdown",
   "metadata": {},
   "source": [
    "### Note\n",
    "- the assertion error is raised in cases where the deviation of `sum_probabilities` is more than the specified multiple of machine precision off from `1.0`\n",
    "- the normalization property is bit-exactly satisfied (no numerical truncation) when the sum of the `loaded_dice` before normalization is a power of 2, i.e., when\\\n",
    "$$ n_\\mathsf{aces} (o -1) + n_\\mathsf{other} =\\, 2^n $$\n",
    "- try other values for `overweight` ($o$)"
   ]
  },
  {
   "cell_type": "markdown",
   "metadata": {},
   "source": [
    "## Fair dice vs. Loaded dice\n",
    "- `num_cards` are drawn to see the `loaded_dice` in action against a fair dice"
   ]
  },
  {
   "cell_type": "code",
   "execution_count": 13,
   "metadata": {},
   "outputs": [
    {
     "name": "stdout",
     "output_type": "stream",
     "text": [
      "Fairly chosen cards:\n",
      " [ 8 10 12 14 25 29 39]\n",
      "1 Ace(s):  Clubs    A! \n",
      "Looks like we didn't need the loaded dice afterall!\n",
      "\n",
      "Unfairly chosen cards:\n",
      " [ 5 13 15 24 26 38 39]\n",
      "3 Ace(s):  Hearts   A; Spades   A; Clubs    A! \n",
      "The loaded dice worked!\n"
     ]
    }
   ],
   "source": [
    "num_cards    = 7\n",
    "fair_cards   = np.random.choice( deck_of_cards, size=num_cards, replace=False )\n",
    "unfair_cards = np.random.choice( deck_of_cards, size=num_cards, replace=False, p=loaded_dice )\n",
    "fair_cards   = np.sort( fair_cards )\n",
    "unfair_cards = np.sort( unfair_cards )\n",
    "\n",
    "# Check for aces in fair cards:\n",
    "print('Fairly chosen cards:\\n', fair_cards)\n",
    "fair_aces = np.intersect1d( fair_cards, aces )\n",
    "if len( fair_aces ) > 0:\n",
    "    print(\"{} Ace(s):  {}! \\nLooks like we didn't need the loaded dice afterall!\\n\".format(len( fair_aces ), \n",
    "                                                                                           card_name(fair_aces)))\n",
    "else:\n",
    "    print('No ace! Maybe there is better luck with the loaded dice\\n')\n",
    "    \n",
    "# Check for aces in unfair cards: \n",
    "print('Unfairly chosen cards:\\n', unfair_cards)\n",
    "unfair_aces = np.intersect1d( unfair_cards, aces )\n",
    "if len( unfair_aces ) > 0:\n",
    "    print('{} Ace(s):  {}! \\nThe loaded dice worked!'.format(len( unfair_aces ), card_name(unfair_aces)))\n",
    "else:\n",
    "    print('No ace! Maybe the loaded dice needs more loading!')"
   ]
  },
  {
   "cell_type": "markdown",
   "metadata": {},
   "source": [
    "## Statistics of the card game\n",
    "- observing the card game between a `fair_player` and an `unfair_player`\n",
    "- analyse the total aces drawn and rounds won by each player over several rounds\n",
    "\n",
    "### card_game function\n",
    "- represents `num_rounds` rounds of the card game where each player draws `num_cards` consecutive cards from a plain deck, the number of aces are counted and a winner is chosen\n",
    "- arguments:\n",
    "\n",
    "| name            | description |\n",
    "|:---------------:|:------------|\n",
    "| `num_cards`     | int, number of cards to be drawn |\n",
    "| `num_rounds`    | int, number of rounds of the card game |\n",
    "| `deck_of_cards` | 1D array of the deck of cards |\n",
    "| `aces`          | 1D array of the aces |\n",
    "| `loaded_dice`   | 1D array of the loaded dice defined by load_dice function |\n",
    "\n",
    "- returns a dictionary `results` with the following entries:\n",
    "\n",
    "| name                | description |\n",
    "|:-------------------:|:------------|\n",
    "| `aces_fair`         | 1D array, number of aces drawn by the fair player in each round of the game|\n",
    "| `aces_unfair`       | 1D array, number of aces drawn by the unfair player in each round of the game|\n",
    "| `wins_fair`         | int, total rounds won by the fair player|\n",
    "| `wins_unfair`       | int, total rounds won by the unfair player|\n",
    "| `ties`              | int, total rounds which were ties between the players |"
   ]
  },
  {
   "cell_type": "code",
   "execution_count": 14,
   "metadata": {},
   "outputs": [],
   "source": [
    "def card_game( num_cards, num_rounds, deck_of_cards, aces, loaded_dice ):\n",
    "    \"\"\"\n",
    "    returns a dictionary of results of a card game as described above\n",
    "       \n",
    "    \"\"\"\n",
    "    aces_fair   = []\n",
    "    aces_unfair = []\n",
    "    wins_fair   = 0\n",
    "    wins_unfair = 0\n",
    "    ties        = 0\n",
    "    for round_ in range(num_rounds):\n",
    "        # each player draws cards from their deck using their dice\n",
    "        fair_cards   = np.random.choice( deck_of_cards, size=num_cards, replace=False )\n",
    "        unfair_cards = np.random.choice( deck_of_cards, size=num_cards, replace=False, p=loaded_dice )\n",
    "        # Count number of aces\n",
    "        aces_fair.append(   len( np.intersect1d(   fair_cards, aces ) ) )\n",
    "        aces_unfair.append( len( np.intersect1d( unfair_cards, aces ) ) )\n",
    "        # Decide the winner (if any)\n",
    "        if aces_fair[-1]   > aces_unfair[-1]: \n",
    "            wins_fair   += 1\n",
    "        elif aces_fair[-1] < aces_unfair[-1]:\n",
    "            wins_unfair += 1\n",
    "        else: # equal no. of aces \n",
    "            ties        += 1\n",
    "                \n",
    "    # Create a dictionary with the return variables\n",
    "    results = {}\n",
    "    results['aces_fair']   = np.array( aces_fair   )\n",
    "    results['aces_unfair'] = np.array( aces_unfair )\n",
    "    results['wins_fair']   = wins_fair\n",
    "    results['wins_unfair'] = wins_unfair\n",
    "    results['ties']        = ties    \n",
    "    \n",
    "    return results   \n",
    "        "
   ]
  },
  {
   "cell_type": "markdown",
   "metadata": {},
   "source": [
    "## Card Game Experiment\n",
    "- define the input arguments for the card_game function that define the conditions of the game\n",
    "- observe the results"
   ]
  },
  {
   "cell_type": "code",
   "execution_count": 15,
   "metadata": {},
   "outputs": [
    {
     "name": "stdout",
     "output_type": "stream",
     "text": [
      "Results from 1000 rounds of the card game between a fair and loaded dice\n",
      "Total aces drawn by fair player  : 540\n",
      "Total aces drawn by unfair player: 972\n",
      "Total rounds won by fair player  : 172\n",
      "Total rounds won by unfair player: 487\n",
      "Total rounds that ended in a tie : 341\n"
     ]
    }
   ],
   "source": [
    "# game conditions\n",
    "num_cards       = 7\n",
    "num_rounds      = 1000\n",
    "overweight      = 2.\n",
    "aces            = np.arange(0,4) * 13\n",
    "loaded_dice     = load_dice( overweight, aces, deck_size=52 )\n",
    "game_conditions = [ num_cards, num_rounds, deck_of_cards, aces, loaded_dice]\n",
    "\n",
    "# running the experiment\n",
    "results = card_game( *game_conditions )\n",
    "\n",
    "print('Results from {} rounds of the card game between a fair and loaded dice'.format(num_rounds))\n",
    "print('Total aces drawn by fair player  :', results['aces_fair'].sum() )\n",
    "print('Total aces drawn by unfair player:', results['aces_unfair'].sum() )\n",
    "print('Total rounds won by fair player  :', results['wins_fair'])\n",
    "print('Total rounds won by unfair player:', results['wins_unfair'])\n",
    "print('Total rounds that ended in a tie :', results['ties'])"
   ]
  },
  {
   "cell_type": "markdown",
   "metadata": {},
   "source": [
    "## Visualization"
   ]
  },
  {
   "cell_type": "code",
   "execution_count": 16,
   "metadata": {},
   "outputs": [
    {
     "name": "stdout",
     "output_type": "stream",
     "text": [
      "Desired cards / 'aces':\n",
      "Diamonds A\n",
      "Hearts   A\n",
      "Spades   A\n",
      "Clubs    A\n"
     ]
    },
    {
     "data": {
      "image/png": "[encoded data removed]",
      "text/plain": [
       "<Figure size 504x504 with 1 Axes>"
      ]
     },
     "metadata": {},
     "output_type": "display_data"
    },
    {
     "data": {
      "image/png": "[encoded data removed]",
      "text/plain": [
       "<Figure size 720x360 with 1 Axes>"
      ]
     },
     "metadata": {
      "needs_background": "light"
     },
     "output_type": "display_data"
    },
    {
     "data": {
      "image/png": "[encoded data removed]",
      "text/plain": [
       "<Figure size 720x360 with 1 Axes>"
      ]
     },
     "metadata": {
      "needs_background": "light"
     },
     "output_type": "display_data"
    }
   ],
   "source": [
    "import matplotlib.pyplot as plt\n",
    "%matplotlib inline\n",
    "plt.rcParams['font.size'] = '14'\n",
    "\n",
    "## Print the desired cards to be drawn\n",
    "print(\"Desired cards / 'aces':\")\n",
    "for ace in aces:\n",
    "    print(card_name(ace))\n",
    "\n",
    "## Pie Chart setup\n",
    "pie_labels  = 'fair dice won', 'loaded dice won' + '\\n$o={}$'.format(overweight) , 'tie'\n",
    "pie_sizes   = [ results['wins_fair'], results['wins_unfair'], results['ties'] ]\n",
    "pie_explode = ( 0, 0.05, 0)\n",
    "pie_colors  = ['deepskyblue','salmon','palegreen']\n",
    "\n",
    "# function to assign labels for the pie chart\n",
    "def get_labels(pct, sizes):\n",
    "    \"\"\"\n",
    "    returns the formatted label string (size in % and value) associated with each pie\n",
    "    INPUT:\n",
    "    pct   - float, size of the pie in percentage\n",
    "    sizes - 1D array containing sizes of the pies\n",
    "    \"\"\"\n",
    "    size = int( round( pct/100. * np.sum(sizes) ) ) \n",
    "    return \"{:.1f}%\\n({:d} rounds)\".format(pct, size)\n",
    "\n",
    "# Plotting pie chart\n",
    "plt.figure(figsize=(7,7))\n",
    "plt.pie( pie_sizes, explode=pie_explode, labels=pie_labels, colors=pie_colors, startangle=90, shadow=True,\n",
    "                                                            autopct=lambda pct: get_labels(pct, pie_sizes) )\n",
    "plt.title('Results of {} rounds of the card game'.format(num_rounds))\n",
    "\n",
    "## Distribution of number of aces drawn by each dice\n",
    "# Get number of bins based on the range of the distribution\n",
    "lower_limit_bins = np.min([results['aces_fair'], results['aces_unfair']])\n",
    "upper_limit_bins = np.max([results['aces_fair'], results['aces_unfair']])\n",
    "# Center the number of bins on the discrete integer values\n",
    "bins = np.arange( lower_limit_bins, upper_limit_bins + 1.5 ) - 0.5\n",
    "\n",
    "# Plotting the relative frequency\n",
    "plt.figure(figsize=(10,5))\n",
    "plt.grid()\n",
    "plt.hist( [results['aces_fair'], results['aces_unfair']], label=['fair dice','loaded dice\\n$o={}$'.format(overweight)], \n",
    "          color=['deepskyblue','salmon'], bins=bins, density=True )\n",
    "plt.xlabel('number of aces drawn per round [-]')\n",
    "plt.xticks(np.arange(len(aces)+1))\n",
    "plt.ylabel('relative frequency [-]')\n",
    "plt.legend()\n",
    "plt.title('Comparison of relative frequency of aces (%d rounds)' % num_rounds);\n",
    "\n",
    "## Function to compute the cumulative frequencies\n",
    "def cumulative_frequencies( aces_drawn, aces_num, num_rounds ):\n",
    "    \"\"\"\n",
    "    returns the cumulative frequencies of drawing N belongs to {0,1...,4} aces over num_rounds    \n",
    "    INPUTS:\n",
    "    aces_drawn  -   1D array containing the number of aces drawn in each round\n",
    "    aces_num    -   int describing the length of the desired cards subset \n",
    "                    (scope for expanding to larger subsets, e.g. 'aces'={aces, kings})\n",
    "    num_rounds  -   int describing the number of rounds of the card game played    \n",
    "    RETURNS: \n",
    "    cumul_freq  -   1D array containing the cumulative frequencies of drawing \n",
    "                    0,1,2,3 and 4 aces during the card game\n",
    "    \"\"\"\n",
    "    # Get counts of each possible number of aces drawn during the game {0,1,...}\n",
    "    _, count_aces = np.unique( aces_drawn, return_counts=True)\n",
    "    \n",
    "    # Ensure count_aces has a length = length of the set of possible number of aces {0,1,...,4}\n",
    "    # for e.g.: if 4 aces were never drawn during the game, the count_aces has to be expanded by 1\n",
    "    difference = (aces_num+1) - len(count_aces)\n",
    "    if difference > 0:\n",
    "        count_aces = np.concatenate( (count_aces, np.zeros(difference)) )\n",
    "    elif difference < 0:\n",
    "        raise ValueError('Double check the argument aces_num!')\n",
    "    \n",
    "    # Calculate cumulative frequency\n",
    "    cumul_freq  = count_aces.cumsum() / num_rounds\n",
    "    \n",
    "    return cumul_freq\n",
    "\n",
    "# Get cumulative frequencies\n",
    "cumul_freq_fair   = cumulative_frequencies( results['aces_fair'],   len(aces), num_rounds )\n",
    "cumul_freq_unfair = cumulative_frequencies( results['aces_unfair'], len(aces), num_rounds )\n",
    "\n",
    "# Plotting the cumulative frequency\n",
    "plt.figure(figsize=(10,5))\n",
    "plt.grid()\n",
    "plt.bar( np.arange(len(aces)+1)-0.125, cumul_freq_fair, color='deepskyblue', width=0.25, label='fair dice'  )\n",
    "plt.bar( np.arange(len(aces)+1)+0.125, cumul_freq_unfair, color='salmon', width=0.25, \n",
    "                                                          label='loaded dice\\n$o={}$'.format(overweight))\n",
    "plt.xlabel('number of aces drawn per round [-]')\n",
    "plt.xticks(np.arange(len(aces)+1))\n",
    "plt.ylabel('cumulative frequency [-]')\n",
    "plt.legend()\n",
    "plt.title('Comparison of cumulative frequency of aces (%d rounds)' % num_rounds);\n"
   ]
  },
  {
   "cell_type": "markdown",
   "metadata": {},
   "source": [
    "# Voluntary tasks\n",
    "- compute the theoretical probabilities for number of aces $N \\in \\{0, \\dots, 4\\}$: $P(N=0), \\dots, P(N=4)$\n",
    "- compare the theoretical values to the relative frequencies for different `num_rounds`\n",
    "- what is the scaling of the dispersion around the theoretical value as a function of `num_rounds`?\n",
    "- compute the probability for a tie between two fair dices\n",
    "- *Coding*: Expand the `aces` to include more desired cards and repeat the card game"
   ]
  },
  {
   "cell_type": "code",
   "execution_count": null,
   "metadata": {},
   "outputs": [],
   "source": []
  }
 ],
 "metadata": {
  "kernelspec": {
   "display_name": "Python 3 (ipykernel)",
   "language": "python",
   "name": "python3"
  },
  "language_info": {
   "codemirror_mode": {
    "name": "ipython",
    "version": 3
   },
   "file_extension": ".py",
   "mimetype": "text/x-python",
   "name": "python",
   "nbconvert_exporter": "python",
   "pygments_lexer": "ipython3",
   "version": "3.9.7"
  }
 },
 "nbformat": 4,
 "nbformat_minor": 4
}
