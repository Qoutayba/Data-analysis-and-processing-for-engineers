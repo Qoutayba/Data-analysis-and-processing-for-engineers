{
 "cells": [
  {
   "cell_type": "markdown",
   "metadata": {},
   "source": [
    "# Python Tweaks\n",
    "\n",
    "Author: Julian Lißner<br>\n",
    "For questions and feedback please write a mail to: [lissner@mechbau.uni-stuttgart.de](mailto:lissner@mechbau.uni-stuttgart.de)\n",
    "\n",
    "-----------------\n",
    "\n",
    "## Objects\n",
    "- Python objects have methods\n",
    "- methods often change the object\n",
    "- indexing changes only object entries\n",
    "- reassignment, i.e. `var = 5` reassigns a local variable and loses previous references\n",
    "\n",
    "\n"
   ]
  },
  {
   "cell_type": "code",
   "execution_count": 1,
   "metadata": {},
   "outputs": [
    {
     "name": "stdout",
     "output_type": "stream",
     "text": [
      "list before the loop\t [1, 2, 3, 4, 5]\n",
      "list after the loop\t [1, 2, 3, 4, 5]\n"
     ]
    }
   ],
   "source": [
    "my_list = [1,2,3,4,5]\n",
    "print( 'list before the loop\\t', my_list )\n",
    "\n",
    "for element in my_list:\n",
    "    element = element +1\n",
    "print( 'list after the loop\\t', my_list )"
   ]
  },
  {
   "cell_type": "code",
   "execution_count": 2,
   "metadata": {},
   "outputs": [
    {
     "name": "stdout",
     "output_type": "stream",
     "text": [
      "list before the loop\t [1, 2, 3, 4, 5]\n",
      "list after the loop\t [1, 2, 3, 4, 5]\n"
     ]
    }
   ],
   "source": [
    "my_list = [1,2,3,4,5]\n",
    "print( 'list before the loop\\t', my_list )\n",
    "\n",
    "for element in my_list:\n",
    "    element += 1\n",
    "print( 'list after the loop\\t', my_list )"
   ]
  },
  {
   "cell_type": "markdown",
   "metadata": {},
   "source": [
    "- values of elements can be changed in loops\n",
    "- either by indexing or if the element is an object"
   ]
  },
  {
   "cell_type": "code",
   "execution_count": 3,
   "metadata": {},
   "outputs": [
    {
     "name": "stdout",
     "output_type": "stream",
     "text": [
      "list before the loop\t [1, 2, 3, 4, 5]\n",
      "list after the loop\t [2, 3, 4, 5, 6]\n"
     ]
    }
   ],
   "source": [
    "my_list = [1,2,3,4,5]\n",
    "print( 'list before the loop\\t', my_list )\n",
    "\n",
    "for i in range( len( my_list) ):\n",
    "    my_list[i] += 1\n",
    "print( 'list after the loop\\t', my_list )"
   ]
  },
  {
   "cell_type": "code",
   "execution_count": 4,
   "metadata": {},
   "outputs": [
    {
     "name": "stdout",
     "output_type": "stream",
     "text": [
      "list before the loop\t [[1, 2, 3], [6], [4, 2, 0], [2]]\n",
      "list after the loop\t [[1, 2, 3], [6], [4, 2, 0], [2]]\n"
     ]
    }
   ],
   "source": [
    "nested_list = [ [1,2,3], [6] , [4,2,0], [2] ]\n",
    "\n",
    "print( 'list before the loop\\t', nested_list )\n",
    "for inner_list in nested_list:\n",
    "    inner_list = [1,2,3] \n",
    "print( 'list after the loop\\t', nested_list )"
   ]
  },
  {
   "cell_type": "code",
   "execution_count": 5,
   "metadata": {
    "lines_to_next_cell": 0
   },
   "outputs": [
    {
     "name": "stdout",
     "output_type": "stream",
     "text": [
      "list before the loop\t [[9, 4, 6], [2], [7, 1, 0], [2, 1]]\n",
      "list after the loop\t [[9, 4, 'the very same'], ['the very same'], [7, 1, 'the very same'], [2, 'the very same']]\n"
     ]
    }
   ],
   "source": [
    "nested_list = [ [9,4,6], [2] , [7,1,0], [2,1] ]\n",
    "\n",
    "print( 'list before the loop\\t', nested_list )\n",
    "for inner_list in nested_list:\n",
    "    inner_list.pop()\n",
    "    inner_list.append( 'the very same' )\n",
    "print( 'list after the loop\\t', nested_list )"
   ]
  },
  {
   "cell_type": "code",
   "execution_count": 6,
   "metadata": {},
   "outputs": [
    {
     "name": "stdout",
     "output_type": "stream",
     "text": [
      "list before the loop\t [[9, 4, 6], [2], [7, 1, 0], [2, 1]]\n",
      "list after the loop\t [[6, 4, 9], [2], [0, 1, 7], [1, 2]]\n"
     ]
    }
   ],
   "source": [
    "nested_list = [ [9,4,6], [2] , [7,1,0], [2,1] ]\n",
    "\n",
    "print( 'list before the loop\\t', nested_list )\n",
    "for inner_list in nested_list:\n",
    "    first_element = inner_list[0]\n",
    "    inner_list[0] = inner_list[-1]\n",
    "    inner_list[-1] = first_element\n",
    "print( 'list after the loop\\t', nested_list )"
   ]
  },
  {
   "cell_type": "markdown",
   "metadata": {
    "lines_to_next_cell": 0
   },
   "source": [
    "- careful, shallow copies can cause non-anticipated behaviour"
   ]
  },
  {
   "cell_type": "code",
   "execution_count": 8,
   "metadata": {},
   "outputs": [
    {
     "name": "stdout",
     "output_type": "stream",
     "text": [
      "my_list at the start\t [[1, 2, 3], [4, 5, 6]]\n",
      "my_list at the end\t [[1, 2, 3], [4, 5, 6]]\n"
     ]
    }
   ],
   "source": [
    "my_list = [ [1,2,3], [4,5,6] ]\n",
    "inner_list = my_list[0]\n",
    "print( 'my_list at the start\\t', my_list)\n",
    "inner_list[0] = [ 'a string and a float', 19841.51]\n",
    "print( 'my_list at the end\\t', my_list)"
   ]
  },
  {
   "cell_type": "markdown",
   "metadata": {},
   "source": [
    "--------------\n",
    "### In place functions"
   ]
  },
  {
   "cell_type": "code",
   "execution_count": 9,
   "metadata": {
    "lines_to_next_cell": 2
   },
   "outputs": [],
   "source": [
    "my_list = [ 1,2,3,4,5] "
   ]
  },
  {
   "cell_type": "code",
   "execution_count": 10,
   "metadata": {},
   "outputs": [
    {
     "ename": "NameError",
     "evalue": "name 'pop' is not defined",
     "output_type": "error",
     "traceback": [
      "Traceback \u001b[0;36m(most recent call last)\u001b[0m:\n",
      "\u001b[0;36m  File \u001b[0;32m\"<ipython-input-10-d817c62530b6>\"\u001b[0;36m, line \u001b[0;32m1\u001b[0;36m, in \u001b[0;35m<module>\u001b[0;36m\u001b[0m\n\u001b[0;31m    pop( my_list)\u001b[0m\n",
      "\u001b[0;31mNameError\u001b[0m\u001b[0;31m:\u001b[0m name 'pop' is not defined\n"
     ]
    }
   ],
   "source": [
    "pop( my_list)"
   ]
  },
  {
   "cell_type": "code",
   "execution_count": 11,
   "metadata": {},
   "outputs": [
    {
     "name": "stdout",
     "output_type": "stream",
     "text": [
      "result of method 5\n",
      "resulting list [1, 2, 3, 4]\n"
     ]
    }
   ],
   "source": [
    "element = my_list.pop()\n",
    "print( 'result of method', element )\n",
    "print( 'resulting list', my_list )"
   ]
  },
  {
   "cell_type": "code",
   "execution_count": 12,
   "metadata": {},
   "outputs": [],
   "source": [
    "def pop( some_list, index=-1):\n",
    "    \"\"\"\n",
    "    remove the specified element of 'index' in some_list \n",
    "    and return the removed vlaue. Changes the list IN PLACE\n",
    "    Parameters:\n",
    "    -----------\n",
    "    some_list:      list\n",
    "                    list on where to remove the element\n",
    "    index:          int\n",
    "                    index position to remove the element\n",
    "    Returns:\n",
    "    --------\n",
    "    element:        any datatype\n",
    "                    removed element of the list\n",
    "    \"\"\"\n",
    "    element = some_list.pop( index)\n",
    "    return element"
   ]
  },
  {
   "cell_type": "code",
   "execution_count": 13,
   "metadata": {
    "lines_to_next_cell": 0
   },
   "outputs": [
    {
     "name": "stdout",
     "output_type": "stream",
     "text": [
      "result of function 5\n",
      "resulting list [1, 2, 3, 4]\n"
     ]
    }
   ],
   "source": [
    "my_list = [1,2,3,4,5]\n",
    "element = pop( my_list)\n",
    "print( 'result of function', element )\n",
    "print( 'resulting list', my_list )"
   ]
  },
  {
   "cell_type": "markdown",
   "metadata": {
    "lines_to_next_cell": 0
   },
   "source": [
    "- functions can be also written to do more elaborate operations\n",
    "- the return value does not always tell that the object has been modified"
   ]
  },
  {
   "cell_type": "code",
   "execution_count": 14,
   "metadata": {
    "lines_to_next_cell": 0
   },
   "outputs": [],
   "source": [
    "def sum_and_increment( some_list, increment=1):\n",
    "    \"\"\"\n",
    "    Increment all elements in the list by increment IN PLACE\n",
    "    does only work on lists containing only floats\n",
    "    Return the sum of all elements before increment\n",
    "    Parameters:\n",
    "    -----------\n",
    "    some_list:      list of floats\n",
    "                    list containing all values\n",
    "    increment:      float\n",
    "                    float vlaue to increment the list with\n",
    "    Returns:\n",
    "    --------\n",
    "    previous_sum:   float\n",
    "                    sum of all elements before incrementing\n",
    "    \"\"\"\n",
    "    previous_sum = 0\n",
    "    for i in range( len( some_list) ):\n",
    "        previous_sum += some_list[i] \n",
    "        some_list[i] += increment\n",
    "\n",
    "    return previous_sum"
   ]
  },
  {
   "cell_type": "code",
   "execution_count": 15,
   "metadata": {
    "lines_to_next_cell": 2
   },
   "outputs": [
    {
     "name": "stdout",
     "output_type": "stream",
     "text": [
      "sum of the list before incrementing 15\n",
      "my_list at the end: [3, 4, 5, 6, 7]\n"
     ]
    }
   ],
   "source": [
    "my_list = [1,2,3,4,5]\n",
    "sum_elements = sum_and_increment( my_list, increment=2)\n",
    "print( 'sum of the list before incrementing', sum_elements)\n",
    "print( 'my_list at the end:', my_list)"
   ]
  },
  {
   "cell_type": "markdown",
   "metadata": {},
   "source": [
    "-----------------\n"
   ]
  },
  {
   "cell_type": "markdown",
   "metadata": {},
   "source": [
    "## global local variables in modules\n",
    "- slightly 'dirty' trick\n",
    "- objects assigned in a module are accessible by all functions\n"
   ]
  },
  {
   "cell_type": "code",
   "execution_count": 16,
   "metadata": {},
   "outputs": [],
   "source": [
    "import submodules.global_objects as fun"
   ]
  },
  {
   "cell_type": "code",
   "execution_count": 17,
   "metadata": {},
   "outputs": [
    {
     "name": "stdout",
     "output_type": "stream",
     "text": [
      "[]\n"
     ]
    }
   ],
   "source": [
    "fun.print_list() "
   ]
  },
  {
   "cell_type": "code",
   "execution_count": 18,
   "metadata": {
    "lines_to_next_cell": 0
   },
   "outputs": [],
   "source": [
    "fun.append_to_list( ['another', 'list'] )"
   ]
  },
  {
   "cell_type": "code",
   "execution_count": 19,
   "metadata": {},
   "outputs": [],
   "source": [
    "fun.append_to_list( 5 )\n",
    "fun.append_to_list( 6 )\n",
    "fun.pop_list( -1 )\n",
    "fun.append_to_list( 7 )"
   ]
  },
  {
   "cell_type": "code",
   "execution_count": 20,
   "metadata": {
    "lines_to_next_cell": 0
   },
   "outputs": [
    {
     "name": "stdout",
     "output_type": "stream",
     "text": [
      "[['another', 'list'], 5, 7]\n"
     ]
    }
   ],
   "source": [
    "fun.print_list()"
   ]
  },
  {
   "cell_type": "code",
   "execution_count": 21,
   "metadata": {},
   "outputs": [
    {
     "name": "stdout",
     "output_type": "stream",
     "text": [
      "[5, 7]\n"
     ]
    }
   ],
   "source": [
    "fun.pop_list( 0)\n",
    "fun.print_list()"
   ]
  },
  {
   "cell_type": "markdown",
   "metadata": {},
   "source": [
    "-------"
   ]
  },
  {
   "cell_type": "markdown",
   "metadata": {},
   "source": [
    "### Functions and function handles\n",
    "- functions can be assigned to local variables\n",
    "- local variables can be passed into another function\n"
   ]
  },
  {
   "cell_type": "code",
   "execution_count": 22,
   "metadata": {},
   "outputs": [],
   "source": [
    "print_handle = print\n",
    "my_string = 'this is a very long string and it is just perfect for an example' "
   ]
  },
  {
   "cell_type": "code",
   "execution_count": 23,
   "metadata": {},
   "outputs": [
    {
     "name": "stdout",
     "output_type": "stream",
     "text": [
      "this is a very long string and it is just perfect for an example\n"
     ]
    }
   ],
   "source": [
    "print_handle( my_string)"
   ]
  },
  {
   "cell_type": "code",
   "execution_count": 24,
   "metadata": {
    "lines_to_next_cell": 0
   },
   "outputs": [],
   "source": [
    "def shadow_print( print_handle, *args, **kwargs):\n",
    "    \"\"\"\n",
    "    print out all the args with options kwargs given\n",
    "    additionally prints out a string before all elements\n",
    "    kwargs to specify can be seen on help(print)\n",
    "    Parameters:\n",
    "    -----------\n",
    "    args:       unpacked tuple\n",
    "                elements to print out\n",
    "    kwargs:     unpacked dictionary\n",
    "                options to specify (see help( print)) \n",
    "    Returns:\n",
    "    --------\n",
    "    None:       prints output to console\n",
    "    \"\"\"\n",
    "    print_handle( 'i will always print this line\\n', *args, **kwargs)\n",
    "    return"
   ]
  },
  {
   "cell_type": "code",
   "execution_count": 25,
   "metadata": {},
   "outputs": [
    {
     "name": "stdout",
     "output_type": "stream",
     "text": [
      "i will always print this line\n",
      " some more args\n"
     ]
    }
   ],
   "source": [
    "shadow_print( print_handle, 'some', 'more', 'args')"
   ]
  },
  {
   "cell_type": "code",
   "execution_count": 27,
   "metadata": {},
   "outputs": [],
   "source": [
    "def magic_box( function_handle, a, b):\n",
    "    \"\"\"\n",
    "    does whatever the function would do with a and b \n",
    "    returns the function output\n",
    "    \"\"\"\n",
    "    print( 'feeding {} and {} into \"{}\"'.format( a, b, function_handle.__name__ ) )\n",
    "    print()\n",
    "    result = function_handle( a, b) \n",
    "    print()\n",
    "    print( 'got the following result', result)\n",
    "    return result"
   ]
  },
  {
   "cell_type": "code",
   "execution_count": 28,
   "metadata": {},
   "outputs": [
    {
     "name": "stdout",
     "output_type": "stream",
     "text": [
      "feeding whatever and ['this', 'is', 'list'] into \"print\"\n",
      "\n",
      "whatever ['this', 'is', 'list']\n",
      "\n",
      "got the following result None\n"
     ]
    }
   ],
   "source": [
    "magic_box( print_handle, 'whatever', ['this', 'is', 'list'] )"
   ]
  },
  {
   "cell_type": "code",
   "execution_count": 29,
   "metadata": {},
   "outputs": [],
   "source": [
    "def my_sum( first_value, second_value):\n",
    "    return first_value + second_value"
   ]
  },
  {
   "cell_type": "code",
   "execution_count": 30,
   "metadata": {
    "lines_to_next_cell": 2
   },
   "outputs": [
    {
     "name": "stdout",
     "output_type": "stream",
     "text": [
      "feeding 5 and 9 into \"my_sum\"\n",
      "\n",
      "\n",
      "got the following result 14\n"
     ]
    }
   ],
   "source": [
    "result = magic_box( my_sum, 5, 9)"
   ]
  },
  {
   "cell_type": "markdown",
   "metadata": {},
   "source": [
    "--------------- \n",
    "## default kwargs\n",
    "- kwargs are always unspecified keyworded arguments\n",
    "- defaults could be set by<br>\n",
    "`if key not in kwargs:`   <br>\n",
    "$\\quad$ `kwargs[ key] = default`<br>\n",
    "- this is more elegant using dict.pop()"
   ]
  },
  {
   "cell_type": "code",
   "execution_count": 35,
   "metadata": {
    "lines_to_next_cell": 0
   },
   "outputs": [],
   "source": [
    "def default_print( *args, **kwargs):\n",
    "    \"\"\"\n",
    "    print out all args and specify options by kwargs\n",
    "    see help( print)\n",
    "    Parameters:\n",
    "    -----------\n",
    "    *args:      unpacked tuple\n",
    "                arguments to print out\n",
    "    **kwargs:   unpacked dict\n",
    "                default sep=' :custom seperator: '\n",
    "                default end='\\t END OF PRINT\\n'\n",
    "                options to specify print \n",
    "    Returns:\n",
    "    --------\n",
    "    None:       prints args to console\n",
    "    \"\"\"\n",
    "    seperator = kwargs.pop( 'sep', ' :custom seperator: ' )\n",
    "    end = kwargs.pop( 'end', '\\t END OF PRINT\\n')\n",
    "    if len(kwargs) != 0:\n",
    "        raise Exception( 'Non allowed kwarg passed, specify \"sep\" and \"end\"')\n",
    "    print( *args, end=end, sep=seperator)\n",
    "    return"
   ]
  },
  {
   "cell_type": "code",
   "execution_count": 32,
   "metadata": {},
   "outputs": [
    {
     "name": "stdout",
     "output_type": "stream",
     "text": [
      "first argument :custom seperator: 5.161 :custom seperator: ['and a list', 6]\t END OF PRINT\n"
     ]
    }
   ],
   "source": [
    "default_print( 'first argument', 5.161, ['and a list', 6] )"
   ]
  },
  {
   "cell_type": "code",
   "execution_count": 33,
   "metadata": {},
   "outputs": [
    {
     "name": "stdout",
     "output_type": "stream",
     "text": [
      "first argument <('.'<) 5.161 <('.'<) ['and a list', 6] (>'.')>"
     ]
    }
   ],
   "source": [
    "default_print( 'first argument', 5.161, ['and a list', 6], sep=\" <('.'<) \", end=\" (>'.')>\"  )"
   ]
  },
  {
   "cell_type": "code",
   "execution_count": 34,
   "metadata": {},
   "outputs": [
    {
     "ename": "Exception",
     "evalue": "Non allowed kwarg passed, specify \"sep\" and \"end\"",
     "output_type": "error",
     "traceback": [
      "Traceback \u001b[0;36m(most recent call last)\u001b[0m:\n",
      "  File \u001b[1;32m\"<ipython-input-34-4c8aa9899d68>\"\u001b[0m, line \u001b[1;32m1\u001b[0m, in \u001b[1;35m<module>\u001b[0m\n    default_print( 'first argument', 5.161, ['and a list', 6], printoption='set', other_kwargs=True )\n",
      "\u001b[0;36m  File \u001b[0;32m\"<ipython-input-31-334958467047>\"\u001b[0;36m, line \u001b[0;32m20\u001b[0;36m, in \u001b[0;35mdefault_print\u001b[0;36m\u001b[0m\n\u001b[0;31m    raise Exception( 'Non allowed kwarg passed, specify \"sep\" and \"end\"')\u001b[0m\n",
      "\u001b[0;31mException\u001b[0m\u001b[0;31m:\u001b[0m Non allowed kwarg passed, specify \"sep\" and \"end\"\n"
     ]
    }
   ],
   "source": [
    "default_print( 'first argument', 5.161, ['and a list', 6], printoption='set', other_kwargs=True )"
   ]
  },
  {
   "cell_type": "code",
   "execution_count": null,
   "metadata": {},
   "outputs": [],
   "source": []
  }
 ],
 "metadata": {
  "kernelspec": {
   "display_name": "Python 3 (Spyder)",
   "language": "python3",
   "name": "python3"
  },
  "language_info": {
   "codemirror_mode": {
    "name": "ipython",
    "version": 3
   },
   "file_extension": ".py",
   "mimetype": "text/x-python",
   "name": "python",
   "nbconvert_exporter": "python",
   "pygments_lexer": "ipython3",
   "version": "3.7.9"
  }
 },
 "nbformat": 4,
 "nbformat_minor": 4
}
####